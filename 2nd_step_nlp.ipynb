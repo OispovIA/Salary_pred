{
 "cells": [
  {
   "cell_type": "raw",
   "id": "aacbc58d",
   "metadata": {
    "papermill": {
     "duration": 0.017045,
     "end_time": "2023-04-05T16:50:45.486719",
     "exception": false,
     "start_time": "2023-04-05T16:50:45.469674",
     "status": "completed"
    },
    "tags": []
   },
   "source": [
    "<h1><center>Salary prediction</center></h1>"
   ]
  },
  {
   "cell_type": "markdown",
   "id": "46db693d",
   "metadata": {
    "papermill": {
     "duration": 0.015251,
     "end_time": "2023-04-05T16:50:45.519287",
     "exception": false,
     "start_time": "2023-04-05T16:50:45.504036",
     "status": "completed"
    },
    "tags": []
   },
   "source": [
    "This notebook contains the  end to end pipeline for training and predicting on test\n",
    "\n",
    "Here are the things we'll cover.\n",
    "1. [EDA on data](#section-one)\n",
    "2. [Data prep and feature generation](#section-two)\n",
    "3. [TF-IDF and linear regression](#section-three)\n",
    "4. [Catboost with text features](#section-four)\n",
    "5. [Basic blend of model predictions](#section-five)\n"
   ]
  },
  {
   "cell_type": "markdown",
   "id": "d6592058",
   "metadata": {
    "papermill": {
     "duration": 0.030536,
     "end_time": "2023-04-05T16:50:45.577752",
     "exception": false,
     "start_time": "2023-04-05T16:50:45.547216",
     "status": "completed"
    },
    "tags": []
   },
   "source": [
    "## Libraries 📚⬇"
   ]
  },
  {
   "cell_type": "code",
   "execution_count": 1,
   "id": "07f060a2",
   "metadata": {
    "execution": {
     "iopub.execute_input": "2023-04-05T16:50:45.617313Z",
     "iopub.status.busy": "2023-04-05T16:50:45.616803Z",
     "iopub.status.idle": "2023-04-05T16:50:57.824801Z",
     "shell.execute_reply": "2023-04-05T16:50:57.823548Z"
    },
    "papermill": {
     "duration": 12.227804,
     "end_time": "2023-04-05T16:50:57.827588",
     "exception": false,
     "start_time": "2023-04-05T16:50:45.599784",
     "status": "completed"
    },
    "tags": []
   },
   "outputs": [
    {
     "name": "stdout",
     "output_type": "stream",
     "text": [
      "\u001b[33mWARNING: Running pip as the 'root' user can result in broken permissions and conflicting behaviour with the system package manager. It is recommended to use a virtual environment instead: https://pip.pypa.io/warnings/venv\u001b[0m\u001b[33m\r\n",
      "\u001b[0m"
     ]
    }
   ],
   "source": [
    "!pip install pymorphy2 -q"
   ]
  },
  {
   "cell_type": "code",
   "execution_count": 2,
   "id": "cfb39b41",
   "metadata": {
    "_kg_hide-output": true,
    "execution": {
     "iopub.execute_input": "2023-04-05T16:50:57.861727Z",
     "iopub.status.busy": "2023-04-05T16:50:57.860776Z",
     "iopub.status.idle": "2023-04-05T16:51:01.093012Z",
     "shell.execute_reply": "2023-04-05T16:51:01.091978Z"
    },
    "papermill": {
     "duration": 3.252403,
     "end_time": "2023-04-05T16:51:01.096055",
     "exception": false,
     "start_time": "2023-04-05T16:50:57.843652",
     "status": "completed"
    },
    "tags": []
   },
   "outputs": [
    {
     "name": "stdout",
     "output_type": "stream",
     "text": [
      "[nltk_data] Downloading package stopwords to /usr/share/nltk_data...\n",
      "[nltk_data]   Package stopwords is already up-to-date!\n",
      "[nltk_data] Downloading package punkt to /usr/share/nltk_data...\n",
      "[nltk_data]   Package punkt is already up-to-date!\n",
      "[nltk_data] Downloading package wordnet to /usr/share/nltk_data...\n",
      "[nltk_data]   Package wordnet is already up-to-date!\n",
      "[nltk_data] Downloading package omw-1.4 to /usr/share/nltk_data...\n"
     ]
    }
   ],
   "source": [
    "import os\n",
    "import pandas as pd\n",
    "import numpy as np\n",
    "import seaborn as sns\n",
    "import matplotlib.pyplot as plt\n",
    "# from tqdm import tqdm\n",
    "from tqdm.notebook import tqdm\n",
    "\n",
    "#### TEXT PROCESSING\n",
    "import re\n",
    "import nltk\n",
    "nltk.download('stopwords')\n",
    "nltk.download('punkt')\n",
    "nltk.download('wordnet')\n",
    "nltk.download('omw-1.4')\n",
    "from nltk.tokenize import word_tokenize\n",
    "from nltk.corpus import stopwords\n",
    "from pymorphy2 import MorphAnalyzer\n",
    "from functools import lru_cache\n",
    "\n",
    "#### MODELS\n",
    "from sklearn.feature_extraction.text import TfidfVectorizer\n",
    "from ast import literal_eval\n",
    "from sklearn.linear_model import Ridge\n",
    "from sklearn.compose import ColumnTransformer\n",
    "from sklearn.model_selection import train_test_split\n",
    "from sklearn.pipeline import Pipeline\n",
    "from sklearn.preprocessing import MinMaxScaler, OneHotEncoder, MultiLabelBinarizer\n",
    "\n",
    "import statsmodels.api as sm\n",
    "from scipy.stats import norm\n",
    "from scipy.sparse import hstack\n",
    "import scipy.stats as stats\n",
    "\n",
    "#### SETTINGS\n",
    "plt.rcParams[\"figure.figsize\"] = [10, 6]\n",
    "tqdm.pandas()\n",
    "import warnings\n",
    "warnings.filterwarnings('ignore')\n",
    "import random\n",
    "random.seed(42)\n",
    "np.random.seed(42)"
   ]
  },
  {
   "cell_type": "markdown",
   "id": "ffafde65",
   "metadata": {
    "papermill": {
     "duration": 0.01584,
     "end_time": "2023-04-05T16:51:01.128112",
     "exception": false,
     "start_time": "2023-04-05T16:51:01.112272",
     "status": "completed"
    },
    "tags": []
   },
   "source": [
    "<a id=\"section-one\"></a>\n",
    "# EDA on data"
   ]
  },
  {
   "cell_type": "code",
   "execution_count": 3,
   "id": "bcb81f17",
   "metadata": {
    "execution": {
     "iopub.execute_input": "2023-04-05T16:51:01.166128Z",
     "iopub.status.busy": "2023-04-05T16:51:01.165744Z",
     "iopub.status.idle": "2023-04-05T16:51:02.397851Z",
     "shell.execute_reply": "2023-04-05T16:51:02.396805Z"
    },
    "papermill": {
     "duration": 1.255105,
     "end_time": "2023-04-05T16:51:02.400549",
     "exception": false,
     "start_time": "2023-04-05T16:51:01.145444",
     "status": "completed"
    },
    "tags": []
   },
   "outputs": [],
   "source": [
    "# Import data\n",
    "df_train = pd.read_csv('../input/hse-2nd-step-in-nlp-bootcamp/vacancies_train.csv')\n",
    "df_test = pd.read_csv('../input/hse-2nd-step-in-nlp-bootcamp/vacancies_test.csv', index_col=0)"
   ]
  },
  {
   "cell_type": "code",
   "execution_count": 4,
   "id": "89030fa2",
   "metadata": {
    "execution": {
     "iopub.execute_input": "2023-04-05T16:51:02.434279Z",
     "iopub.status.busy": "2023-04-05T16:51:02.433911Z",
     "iopub.status.idle": "2023-04-05T16:51:02.451390Z",
     "shell.execute_reply": "2023-04-05T16:51:02.450238Z"
    },
    "papermill": {
     "duration": 0.037569,
     "end_time": "2023-04-05T16:51:02.454349",
     "exception": false,
     "start_time": "2023-04-05T16:51:02.416780",
     "status": "completed"
    },
    "tags": []
   },
   "outputs": [
    {
     "data": {
      "text/html": [
       "<div>\n",
       "<style scoped>\n",
       "    .dataframe tbody tr th:only-of-type {\n",
       "        vertical-align: middle;\n",
       "    }\n",
       "\n",
       "    .dataframe tbody tr th {\n",
       "        vertical-align: top;\n",
       "    }\n",
       "\n",
       "    .dataframe thead th {\n",
       "        text-align: right;\n",
       "    }\n",
       "</style>\n",
       "<table border=\"1\" class=\"dataframe\">\n",
       "  <thead>\n",
       "    <tr style=\"text-align: right;\">\n",
       "      <th></th>\n",
       "      <th>name</th>\n",
       "      <th>experience</th>\n",
       "      <th>schedule</th>\n",
       "      <th>employment</th>\n",
       "      <th>description</th>\n",
       "      <th>key_skills</th>\n",
       "      <th>salary</th>\n",
       "    </tr>\n",
       "  </thead>\n",
       "  <tbody>\n",
       "    <tr>\n",
       "      <th>0</th>\n",
       "      <td>Водитель-экспедитор</td>\n",
       "      <td>От 3 до 6 лет</td>\n",
       "      <td>Полный день</td>\n",
       "      <td>Полная занятость</td>\n",
       "      <td>Водитель-экспедитор категории В,С (а\\м ГАЗЕЛЬ ...</td>\n",
       "      <td>[]</td>\n",
       "      <td>42500.0</td>\n",
       "    </tr>\n",
       "    <tr>\n",
       "      <th>1</th>\n",
       "      <td>Кладовщик-комплектовщик/оператор 1С</td>\n",
       "      <td>От 1 года до 3 лет</td>\n",
       "      <td>Полный день</td>\n",
       "      <td>Полная занятость</td>\n",
       "      <td>Обязанности:   Списывание материалов в произво...</td>\n",
       "      <td>['знание пк', 'работа в 1С', 'Работа в команде...</td>\n",
       "      <td>50000.0</td>\n",
       "    </tr>\n",
       "    <tr>\n",
       "      <th>2</th>\n",
       "      <td>Продавец магазина \"Магнит\" (Кировский р-он, В....</td>\n",
       "      <td>Нет опыта</td>\n",
       "      <td>Сменный график</td>\n",
       "      <td>Полная занятость</td>\n",
       "      <td>В крупнейшую Федеральную сеть магазинов \"Магни...</td>\n",
       "      <td>[]</td>\n",
       "      <td>31500.0</td>\n",
       "    </tr>\n",
       "    <tr>\n",
       "      <th>3</th>\n",
       "      <td>Администратор магазина (ТЦ Spar)</td>\n",
       "      <td>От 1 года до 3 лет</td>\n",
       "      <td>Полный день</td>\n",
       "      <td>Полная занятость</td>\n",
       "      <td>Крупная федеральная сеть магазинов мужской и ж...</td>\n",
       "      <td>[]</td>\n",
       "      <td>36700.0</td>\n",
       "    </tr>\n",
       "    <tr>\n",
       "      <th>4</th>\n",
       "      <td>Мойщик посуды (кулинария)</td>\n",
       "      <td>Нет опыта</td>\n",
       "      <td>Сменный график</td>\n",
       "      <td>Полная занятость</td>\n",
       "      <td>Обязанности:  Уборка производственных площадей...</td>\n",
       "      <td>['Пользователь ПК', 'Грамотная речь', 'Работа ...</td>\n",
       "      <td>37000.0</td>\n",
       "    </tr>\n",
       "  </tbody>\n",
       "</table>\n",
       "</div>"
      ],
      "text/plain": [
       "                                                name          experience  \\\n",
       "0                                Водитель-экспедитор       От 3 до 6 лет   \n",
       "1                Кладовщик-комплектовщик/оператор 1С  От 1 года до 3 лет   \n",
       "2  Продавец магазина \"Магнит\" (Кировский р-он, В....           Нет опыта   \n",
       "3                   Администратор магазина (ТЦ Spar)  От 1 года до 3 лет   \n",
       "4                          Мойщик посуды (кулинария)           Нет опыта   \n",
       "\n",
       "         schedule        employment  \\\n",
       "0     Полный день  Полная занятость   \n",
       "1     Полный день  Полная занятость   \n",
       "2  Сменный график  Полная занятость   \n",
       "3     Полный день  Полная занятость   \n",
       "4  Сменный график  Полная занятость   \n",
       "\n",
       "                                         description  \\\n",
       "0  Водитель-экспедитор категории В,С (а\\м ГАЗЕЛЬ ...   \n",
       "1  Обязанности:   Списывание материалов в произво...   \n",
       "2  В крупнейшую Федеральную сеть магазинов \"Магни...   \n",
       "3  Крупная федеральная сеть магазинов мужской и ж...   \n",
       "4  Обязанности:  Уборка производственных площадей...   \n",
       "\n",
       "                                          key_skills   salary  \n",
       "0                                                 []  42500.0  \n",
       "1  ['знание пк', 'работа в 1С', 'Работа в команде...  50000.0  \n",
       "2                                                 []  31500.0  \n",
       "3                                                 []  36700.0  \n",
       "4  ['Пользователь ПК', 'Грамотная речь', 'Работа ...  37000.0  "
      ]
     },
     "execution_count": 4,
     "metadata": {},
     "output_type": "execute_result"
    }
   ],
   "source": [
    "df_train.head()"
   ]
  },
  {
   "cell_type": "code",
   "execution_count": 5,
   "id": "1f4a21c6",
   "metadata": {
    "execution": {
     "iopub.execute_input": "2023-04-05T16:51:02.488309Z",
     "iopub.status.busy": "2023-04-05T16:51:02.487964Z",
     "iopub.status.idle": "2023-04-05T16:51:03.036188Z",
     "shell.execute_reply": "2023-04-05T16:51:03.035145Z"
    },
    "papermill": {
     "duration": 0.567539,
     "end_time": "2023-04-05T16:51:03.038381",
     "exception": false,
     "start_time": "2023-04-05T16:51:02.470842",
     "status": "completed"
    },
    "tags": []
   },
   "outputs": [
    {
     "data": {
      "text/plain": [
       "<AxesSubplot:xlabel='salary', ylabel='Count'>"
      ]
     },
     "execution_count": 5,
     "metadata": {},
     "output_type": "execute_result"
    },
    {
     "data": {
      "image/png": "[encoded data removed]",
      "text/plain": [
       "<Figure size 1000x600 with 1 Axes>"
      ]
     },
     "metadata": {},
     "output_type": "display_data"
    }
   ],
   "source": [
    "sns.histplot(df_train.salary, bins=100)"
   ]
  },
  {
   "cell_type": "code",
   "execution_count": 6,
   "id": "4cdcce28",
   "metadata": {
    "execution": {
     "iopub.execute_input": "2023-04-05T16:51:03.073493Z",
     "iopub.status.busy": "2023-04-05T16:51:03.073133Z",
     "iopub.status.idle": "2023-04-05T16:51:03.466142Z",
     "shell.execute_reply": "2023-04-05T16:51:03.465132Z"
    },
    "papermill": {
     "duration": 0.413334,
     "end_time": "2023-04-05T16:51:03.468601",
     "exception": false,
     "start_time": "2023-04-05T16:51:03.055267",
     "status": "completed"
    },
    "tags": []
   },
   "outputs": [
    {
     "data": {
      "text/plain": [
       "<AxesSubplot:xlabel='salary', ylabel='Count'>"
      ]
     },
     "execution_count": 6,
     "metadata": {},
     "output_type": "execute_result"
    },
    {
     "data": {
      "image/png": "[encoded data removed]",
      "text/plain": [
       "<Figure size 1000x600 with 1 Axes>"
      ]
     },
     "metadata": {},
     "output_type": "display_data"
    }
   ],
   "source": [
    "sns.histplot(np.log10(df_train.salary + 1), bins=100)"
   ]
  },
  {
   "cell_type": "code",
   "execution_count": 7,
   "id": "3f4297e4",
   "metadata": {
    "execution": {
     "iopub.execute_input": "2023-04-05T16:51:03.504183Z",
     "iopub.status.busy": "2023-04-05T16:51:03.503828Z",
     "iopub.status.idle": "2023-04-05T16:51:03.511152Z",
     "shell.execute_reply": "2023-04-05T16:51:03.510195Z"
    },
    "papermill": {
     "duration": 0.027466,
     "end_time": "2023-04-05T16:51:03.513216",
     "exception": false,
     "start_time": "2023-04-05T16:51:03.485750",
     "status": "completed"
    },
    "tags": []
   },
   "outputs": [
    {
     "data": {
      "text/plain": [
       "7"
      ]
     },
     "execution_count": 7,
     "metadata": {},
     "output_type": "execute_result"
    }
   ],
   "source": [
    "df_train[df_train['salary'] < 1000].shape[0]"
   ]
  },
  {
   "cell_type": "code",
   "execution_count": 8,
   "id": "d223f78d",
   "metadata": {
    "execution": {
     "iopub.execute_input": "2023-04-05T16:51:03.548903Z",
     "iopub.status.busy": "2023-04-05T16:51:03.547974Z",
     "iopub.status.idle": "2023-04-05T16:51:03.563221Z",
     "shell.execute_reply": "2023-04-05T16:51:03.562207Z"
    },
    "papermill": {
     "duration": 0.035327,
     "end_time": "2023-04-05T16:51:03.565534",
     "exception": false,
     "start_time": "2023-04-05T16:51:03.530207",
     "status": "completed"
    },
    "tags": []
   },
   "outputs": [
    {
     "data": {
      "text/html": [
       "<div>\n",
       "<style scoped>\n",
       "    .dataframe tbody tr th:only-of-type {\n",
       "        vertical-align: middle;\n",
       "    }\n",
       "\n",
       "    .dataframe tbody tr th {\n",
       "        vertical-align: top;\n",
       "    }\n",
       "\n",
       "    .dataframe thead th {\n",
       "        text-align: right;\n",
       "    }\n",
       "</style>\n",
       "<table border=\"1\" class=\"dataframe\">\n",
       "  <thead>\n",
       "    <tr style=\"text-align: right;\">\n",
       "      <th></th>\n",
       "      <th>name</th>\n",
       "      <th>experience</th>\n",
       "      <th>schedule</th>\n",
       "      <th>employment</th>\n",
       "      <th>description</th>\n",
       "      <th>key_skills</th>\n",
       "      <th>salary</th>\n",
       "    </tr>\n",
       "  </thead>\n",
       "  <tbody>\n",
       "    <tr>\n",
       "      <th>163</th>\n",
       "      <td>Ведущий специалист/Руководитель тендерного отдела</td>\n",
       "      <td>От 3 до 6 лет</td>\n",
       "      <td>Полный день</td>\n",
       "      <td>Полная занятость</td>\n",
       "      <td>Компания-поставщик медицинских расходных матер...</td>\n",
       "      <td>['Государственные закупки', 'Тендеры', 'Участи...</td>\n",
       "      <td>55.0</td>\n",
       "    </tr>\n",
       "    <tr>\n",
       "      <th>1904</th>\n",
       "      <td>Официант на мероприятия</td>\n",
       "      <td>Нет опыта</td>\n",
       "      <td>Гибкий график</td>\n",
       "      <td>Частичная занятость</td>\n",
       "      <td>Группа компаний WIND TO GO! - это собственный ...</td>\n",
       "      <td>['Работа в команде', 'Грамотная речь', 'Органи...</td>\n",
       "      <td>800.0</td>\n",
       "    </tr>\n",
       "    <tr>\n",
       "      <th>2641</th>\n",
       "      <td>Продавец консультант/старший(ТЦ Эльгрин)</td>\n",
       "      <td>От 1 года до 3 лет</td>\n",
       "      <td>Полный день</td>\n",
       "      <td>Полная занятость</td>\n",
       "      <td>Должностные обязанности: - консультирование кл...</td>\n",
       "      <td>['Клиентоориентированность', 'Мерчандайзинг', ...</td>\n",
       "      <td>30.0</td>\n",
       "    </tr>\n",
       "    <tr>\n",
       "      <th>9696</th>\n",
       "      <td>Фрезеровщик</td>\n",
       "      <td>От 1 года до 3 лет</td>\n",
       "      <td>Полный день</td>\n",
       "      <td>Полная занятость</td>\n",
       "      <td>Обязанности:  Обработка деталей на горизонталь...</td>\n",
       "      <td>['Пользователь ПК', 'Работа в команде', 'Точно...</td>\n",
       "      <td>60.0</td>\n",
       "    </tr>\n",
       "    <tr>\n",
       "      <th>13252</th>\n",
       "      <td>Уборщица/уборщик игрового зала</td>\n",
       "      <td>Нет опыта</td>\n",
       "      <td>Сменный график</td>\n",
       "      <td>Полная занятость</td>\n",
       "      <td>Работа в ночные смены Обязанности:  осуществля...</td>\n",
       "      <td>[]</td>\n",
       "      <td>600.0</td>\n",
       "    </tr>\n",
       "    <tr>\n",
       "      <th>13491</th>\n",
       "      <td>Инженер-экономист</td>\n",
       "      <td>От 1 года до 3 лет</td>\n",
       "      <td>Полный день</td>\n",
       "      <td>Полная занятость</td>\n",
       "      <td>Обязанности Работа с ресурсоснабжающими органи...</td>\n",
       "      <td>['Работа с большим объемом информации', 'Делов...</td>\n",
       "      <td>45.0</td>\n",
       "    </tr>\n",
       "    <tr>\n",
       "      <th>16235</th>\n",
       "      <td>Комплектовщик (Тарасовка)</td>\n",
       "      <td>Нет опыта</td>\n",
       "      <td>Сменный график</td>\n",
       "      <td>Полная занятость</td>\n",
       "      <td>Сервис доставки продуктов Ленточка приглашает ...</td>\n",
       "      <td>[]</td>\n",
       "      <td>44.0</td>\n",
       "    </tr>\n",
       "  </tbody>\n",
       "</table>\n",
       "</div>"
      ],
      "text/plain": [
       "                                                    name          experience  \\\n",
       "163    Ведущий специалист/Руководитель тендерного отдела       От 3 до 6 лет   \n",
       "1904                             Официант на мероприятия           Нет опыта   \n",
       "2641            Продавец консультант/старший(ТЦ Эльгрин)  От 1 года до 3 лет   \n",
       "9696                                         Фрезеровщик  От 1 года до 3 лет   \n",
       "13252                     Уборщица/уборщик игрового зала           Нет опыта   \n",
       "13491                                  Инженер-экономист  От 1 года до 3 лет   \n",
       "16235                          Комплектовщик (Тарасовка)           Нет опыта   \n",
       "\n",
       "             schedule           employment  \\\n",
       "163       Полный день     Полная занятость   \n",
       "1904    Гибкий график  Частичная занятость   \n",
       "2641      Полный день     Полная занятость   \n",
       "9696      Полный день     Полная занятость   \n",
       "13252  Сменный график     Полная занятость   \n",
       "13491     Полный день     Полная занятость   \n",
       "16235  Сменный график     Полная занятость   \n",
       "\n",
       "                                             description  \\\n",
       "163    Компания-поставщик медицинских расходных матер...   \n",
       "1904   Группа компаний WIND TO GO! - это собственный ...   \n",
       "2641   Должностные обязанности: - консультирование кл...   \n",
       "9696   Обязанности:  Обработка деталей на горизонталь...   \n",
       "13252  Работа в ночные смены Обязанности:  осуществля...   \n",
       "13491  Обязанности Работа с ресурсоснабжающими органи...   \n",
       "16235  Сервис доставки продуктов Ленточка приглашает ...   \n",
       "\n",
       "                                              key_skills  salary  \n",
       "163    ['Государственные закупки', 'Тендеры', 'Участи...    55.0  \n",
       "1904   ['Работа в команде', 'Грамотная речь', 'Органи...   800.0  \n",
       "2641   ['Клиентоориентированность', 'Мерчандайзинг', ...    30.0  \n",
       "9696   ['Пользователь ПК', 'Работа в команде', 'Точно...    60.0  \n",
       "13252                                                 []   600.0  \n",
       "13491  ['Работа с большим объемом информации', 'Делов...    45.0  \n",
       "16235                                                 []    44.0  "
      ]
     },
     "execution_count": 8,
     "metadata": {},
     "output_type": "execute_result"
    }
   ],
   "source": [
    "df_train[df_train['salary'] < 1000]"
   ]
  },
  {
   "cell_type": "code",
   "execution_count": 9,
   "id": "54939654",
   "metadata": {
    "execution": {
     "iopub.execute_input": "2023-04-05T16:51:03.602368Z",
     "iopub.status.busy": "2023-04-05T16:51:03.601515Z",
     "iopub.status.idle": "2023-04-05T16:51:04.012257Z",
     "shell.execute_reply": "2023-04-05T16:51:04.011187Z"
    },
    "papermill": {
     "duration": 0.431607,
     "end_time": "2023-04-05T16:51:04.014539",
     "exception": false,
     "start_time": "2023-04-05T16:51:03.582932",
     "status": "completed"
    },
    "tags": []
   },
   "outputs": [
    {
     "data": {
      "image/png": "[encoded data removed]",
      "text/plain": [
       "<Figure size 1000x600 with 1 Axes>"
      ]
     },
     "execution_count": 9,
     "metadata": {},
     "output_type": "execute_result"
    },
    {
     "data": {
      "image/png": "[encoded data removed]",
      "text/plain": [
       "<Figure size 1000x600 with 1 Axes>"
      ]
     },
     "metadata": {},
     "output_type": "display_data"
    }
   ],
   "source": [
    "sm.qqplot(np.log10(df_train.salary + 1), line='s')"
   ]
  },
  {
   "cell_type": "markdown",
   "id": "872cf88f",
   "metadata": {
    "papermill": {
     "duration": 0.017915,
     "end_time": "2023-04-05T16:51:04.051002",
     "exception": false,
     "start_time": "2023-04-05T16:51:04.033087",
     "status": "completed"
    },
    "tags": []
   },
   "source": [
    "# Data prep and feature generation<a id=\"section-two\">"
   ]
  },
  {
   "cell_type": "markdown",
   "id": "e112d0de",
   "metadata": {
    "papermill": {
     "duration": 0.017682,
     "end_time": "2023-04-05T16:51:04.086637",
     "exception": false,
     "start_time": "2023-04-05T16:51:04.068955",
     "status": "completed"
    },
    "tags": []
   },
   "source": [
    "## Correct errors in salary values"
   ]
  },
  {
   "cell_type": "code",
   "execution_count": 10,
   "id": "44bd3cf8",
   "metadata": {
    "execution": {
     "iopub.execute_input": "2023-04-05T16:51:04.124325Z",
     "iopub.status.busy": "2023-04-05T16:51:04.123954Z",
     "iopub.status.idle": "2023-04-05T16:51:04.135903Z",
     "shell.execute_reply": "2023-04-05T16:51:04.134981Z"
    },
    "papermill": {
     "duration": 0.033471,
     "end_time": "2023-04-05T16:51:04.138110",
     "exception": false,
     "start_time": "2023-04-05T16:51:04.104639",
     "status": "completed"
    },
    "tags": []
   },
   "outputs": [],
   "source": [
    "df_train['salary'][df_train['salary'] < 200] = df_train['salary'][df_train['salary'] < 200].apply(lambda x: x * 1000)"
   ]
  },
  {
   "cell_type": "markdown",
   "id": "fb7168e4",
   "metadata": {
    "papermill": {
     "duration": 0.017873,
     "end_time": "2023-04-05T16:51:04.173804",
     "exception": false,
     "start_time": "2023-04-05T16:51:04.155931",
     "status": "completed"
    },
    "tags": []
   },
   "source": [
    "## Create a text column "
   ]
  },
  {
   "cell_type": "code",
   "execution_count": 11,
   "id": "fe1efea0",
   "metadata": {
    "execution": {
     "iopub.execute_input": "2023-04-05T16:51:04.212235Z",
     "iopub.status.busy": "2023-04-05T16:51:04.211289Z",
     "iopub.status.idle": "2023-04-05T16:51:04.250605Z",
     "shell.execute_reply": "2023-04-05T16:51:04.249521Z"
    },
    "papermill": {
     "duration": 0.061724,
     "end_time": "2023-04-05T16:51:04.253550",
     "exception": false,
     "start_time": "2023-04-05T16:51:04.191826",
     "status": "completed"
    },
    "tags": []
   },
   "outputs": [],
   "source": [
    "df_train['text'] = df_train.name + ' ' + df_train.description"
   ]
  },
  {
   "cell_type": "markdown",
   "id": "27a00a8e",
   "metadata": {
    "papermill": {
     "duration": 0.017855,
     "end_time": "2023-04-05T16:51:04.290584",
     "exception": false,
     "start_time": "2023-04-05T16:51:04.272729",
     "status": "completed"
    },
    "tags": []
   },
   "source": [
    "## Clean text"
   ]
  },
  {
   "cell_type": "code",
   "execution_count": 12,
   "id": "5c5dc617",
   "metadata": {
    "execution": {
     "iopub.execute_input": "2023-04-05T16:51:04.329457Z",
     "iopub.status.busy": "2023-04-05T16:51:04.327870Z",
     "iopub.status.idle": "2023-04-05T16:51:04.544524Z",
     "shell.execute_reply": "2023-04-05T16:51:04.543469Z"
    },
    "papermill": {
     "duration": 0.238362,
     "end_time": "2023-04-05T16:51:04.547081",
     "exception": false,
     "start_time": "2023-04-05T16:51:04.308719",
     "status": "completed"
    },
    "tags": []
   },
   "outputs": [],
   "source": [
    "stop_words = set(stopwords.words('russian'))\n",
    "morph = MorphAnalyzer()\n",
    "@lru_cache(maxsize=128)\n",
    "\n",
    "# function for cleaning descriptions\n",
    "def clean_text(text):\n",
    "    text = re.sub(r'http\\S+', ' ', text)# remove links\n",
    "    text = re.sub(r'[^\\w\\s]', ' ', text)# remove punctuation\n",
    "    text = word_tokenize(text.lower()) # convert to lowercase and tokenize by words\n",
    "    # normalize tokens, remove stop words and short tokens\n",
    "    text = [morph.normal_forms(token)[0] for token in text \n",
    "            if token not in stop_words and len(token) > 2]\n",
    "    text = \" \".join(text) # return a string\n",
    "    return text"
   ]
  },
  {
   "cell_type": "code",
   "execution_count": 13,
   "id": "7ba4b344",
   "metadata": {
    "execution": {
     "iopub.execute_input": "2023-04-05T16:51:04.585838Z",
     "iopub.status.busy": "2023-04-05T16:51:04.585528Z",
     "iopub.status.idle": "2023-04-05T16:51:05.296648Z",
     "shell.execute_reply": "2023-04-05T16:51:05.295512Z"
    },
    "papermill": {
     "duration": 0.733599,
     "end_time": "2023-04-05T16:51:05.299664",
     "exception": false,
     "start_time": "2023-04-05T16:51:04.566065",
     "status": "completed"
    },
    "tags": []
   },
   "outputs": [],
   "source": [
    "regenerate = False \n",
    "\n",
    "if regenerate: \n",
    "    df_train['clean_text'] = df_train.text.progress_apply(clean_text) \n",
    "    df_train['clean_name'] = df_train.name.progress_apply(clean_text)\n",
    "    df_train['clean_skills'] = df_train.key_skills.progress_apply(clean_text)\n",
    "\n",
    "    df_train[['clean_text',\n",
    "              'clean_name',\n",
    "              'clean_skills']].to_csv('train_cleaned_text_cols.csv', index=False) \n",
    "    \n",
    "else:\n",
    "    df_train_clean_text_cols = pd.read_csv('../input/2nd-step-cleaned-text/train_cleaned_text_cols.csv')\n",
    "    df_train = pd.concat([df_train, df_train_clean_text_cols], axis=1)"
   ]
  },
  {
   "cell_type": "markdown",
   "id": "6e070146",
   "metadata": {
    "papermill": {
     "duration": 0.017876,
     "end_time": "2023-04-05T16:51:05.336080",
     "exception": false,
     "start_time": "2023-04-05T16:51:05.318204",
     "status": "completed"
    },
    "tags": []
   },
   "source": [
    "## Some text features"
   ]
  },
  {
   "cell_type": "code",
   "execution_count": 14,
   "id": "92e826d7",
   "metadata": {
    "execution": {
     "iopub.execute_input": "2023-04-05T16:51:05.374882Z",
     "iopub.status.busy": "2023-04-05T16:51:05.373923Z",
     "iopub.status.idle": "2023-04-05T16:51:05.381447Z",
     "shell.execute_reply": "2023-04-05T16:51:05.380399Z"
    },
    "papermill": {
     "duration": 0.029219,
     "end_time": "2023-04-05T16:51:05.383619",
     "exception": false,
     "start_time": "2023-04-05T16:51:05.354400",
     "status": "completed"
    },
    "tags": []
   },
   "outputs": [],
   "source": [
    "def find_numbers(df, column_name):\n",
    "    # find numbers that look like salariy in the descriptions\n",
    "    \n",
    "    df['found_numbers'] = df[column_name].str.extractall('(\\d{3,4}00+)')\\\n",
    "        .astype(int).groupby(level=0).agg(list)\n",
    "    # Drop any rows where no numbers were found\n",
    "    new_df = df.dropna(subset=['found_numbers'])\n",
    "    return new_df\n",
    "\n",
    "def avg_max_func(x):\n",
    "    '''if we find 2 or more numbers it could mean \n",
    "    we have salary range or some bonuses or incentives'''\n",
    "    if isinstance(x, list):\n",
    "        return pd.Series([sum(x)/len(x), max(x), min(x)])\n",
    "    else:\n",
    "        return pd.Series([x, x, x])"
   ]
  },
  {
   "cell_type": "code",
   "execution_count": 15,
   "id": "80a05420",
   "metadata": {
    "execution": {
     "iopub.execute_input": "2023-04-05T16:51:05.420587Z",
     "iopub.status.busy": "2023-04-05T16:51:05.420297Z",
     "iopub.status.idle": "2023-04-05T16:51:08.787061Z",
     "shell.execute_reply": "2023-04-05T16:51:08.786030Z"
    },
    "papermill": {
     "duration": 3.38804,
     "end_time": "2023-04-05T16:51:08.789593",
     "exception": false,
     "start_time": "2023-04-05T16:51:05.401553",
     "status": "completed"
    },
    "tags": []
   },
   "outputs": [],
   "source": [
    "find_numbers(df_train, 'description')\n",
    "df_train[['av_num', 'max_num', 'min_num']] = df_train['found_numbers'].apply(avg_max_func)"
   ]
  },
  {
   "cell_type": "markdown",
   "id": "7443e324",
   "metadata": {
    "papermill": {
     "duration": 0.019423,
     "end_time": "2023-04-05T16:51:08.828675",
     "exception": false,
     "start_time": "2023-04-05T16:51:08.809252",
     "status": "completed"
    },
    "tags": []
   },
   "source": [
    "key_skills is a list of strings that is saved as a string"
   ]
  },
  {
   "cell_type": "code",
   "execution_count": 16,
   "id": "04f30c94",
   "metadata": {
    "execution": {
     "iopub.execute_input": "2023-04-05T16:51:08.866117Z",
     "iopub.status.busy": "2023-04-05T16:51:08.865768Z",
     "iopub.status.idle": "2023-04-05T16:51:09.074502Z",
     "shell.execute_reply": "2023-04-05T16:51:09.073437Z"
    },
    "papermill": {
     "duration": 0.230645,
     "end_time": "2023-04-05T16:51:09.077311",
     "exception": false,
     "start_time": "2023-04-05T16:51:08.846666",
     "status": "completed"
    },
    "tags": []
   },
   "outputs": [],
   "source": [
    "df_train['key_skills_list'] = df_train['key_skills'].apply(literal_eval)\n",
    "df_train['num_skills'] = df_train['key_skills_list'].apply(len)"
   ]
  },
  {
   "cell_type": "code",
   "execution_count": 17,
   "id": "86339398",
   "metadata": {
    "execution": {
     "iopub.execute_input": "2023-04-05T16:51:09.115359Z",
     "iopub.status.busy": "2023-04-05T16:51:09.115005Z",
     "iopub.status.idle": "2023-04-05T16:51:09.382227Z",
     "shell.execute_reply": "2023-04-05T16:51:09.381220Z"
    },
    "papermill": {
     "duration": 0.288914,
     "end_time": "2023-04-05T16:51:09.384775",
     "exception": false,
     "start_time": "2023-04-05T16:51:09.095861",
     "status": "completed"
    },
    "tags": []
   },
   "outputs": [],
   "source": [
    "df_train['perc'] = df_train['description'].str.contains('процент').apply(int)\n",
    "df_train['%'] = df_train['description'].str.contains('%').apply(int)\n",
    "df_train['1s_text'] = df_train['description'].str.contains(r'1\\s*[CcСс][^\\S\\n]*').apply(int)\n",
    "df_train['1s_skills'] = df_train['key_skills'].str.contains(r'1\\s*[CcСс][^\\S\\n]*').apply(int)\n",
    "df_train['en_text'] = df_train['description'].str.contains(r'[A-Za-z]').apply(int)\n",
    "df_train['en_skills'] = df_train['key_skills'].str.contains(r'[A-Za-z]').apply(int)\n",
    "df_train['clean_skills'] = df_train['clean_skills'].fillna('')"
   ]
  },
  {
   "cell_type": "code",
   "execution_count": 18,
   "id": "23c804f1",
   "metadata": {
    "execution": {
     "iopub.execute_input": "2023-04-05T16:51:09.423176Z",
     "iopub.status.busy": "2023-04-05T16:51:09.422829Z",
     "iopub.status.idle": "2023-04-05T16:51:09.429186Z",
     "shell.execute_reply": "2023-04-05T16:51:09.428211Z"
    },
    "papermill": {
     "duration": 0.027961,
     "end_time": "2023-04-05T16:51:09.431286",
     "exception": false,
     "start_time": "2023-04-05T16:51:09.403325",
     "status": "completed"
    },
    "tags": []
   },
   "outputs": [
    {
     "data": {
      "text/plain": [
       "Index(['name', 'experience', 'schedule', 'employment', 'description',\n",
       "       'key_skills', 'salary', 'text', 'clean_text', 'clean_name',\n",
       "       'clean_skills', 'found_numbers', 'av_num', 'max_num', 'min_num',\n",
       "       'key_skills_list', 'num_skills', 'perc', '%', '1s_text', '1s_skills',\n",
       "       'en_text', 'en_skills'],\n",
       "      dtype='object')"
      ]
     },
     "execution_count": 18,
     "metadata": {},
     "output_type": "execute_result"
    }
   ],
   "source": [
    "df_train.columns"
   ]
  },
  {
   "cell_type": "code",
   "execution_count": 19,
   "id": "e77874ef",
   "metadata": {
    "execution": {
     "iopub.execute_input": "2023-04-05T16:51:09.469542Z",
     "iopub.status.busy": "2023-04-05T16:51:09.468660Z",
     "iopub.status.idle": "2023-04-05T16:51:09.474874Z",
     "shell.execute_reply": "2023-04-05T16:51:09.473727Z"
    },
    "papermill": {
     "duration": 0.027502,
     "end_time": "2023-04-05T16:51:09.477010",
     "exception": false,
     "start_time": "2023-04-05T16:51:09.449508",
     "status": "completed"
    },
    "tags": []
   },
   "outputs": [],
   "source": [
    "categorical_features = [\n",
    "    'experience',\n",
    "    'schedule',\n",
    "    'employment'\n",
    "]\n",
    "\n",
    "numerical_features = [\n",
    "    'av_num', \n",
    "    'max_num', \n",
    "    'min_num',\n",
    "    'num_skills'\n",
    "]\n",
    "features_to_drop = [\n",
    "    'key_skills_list',\n",
    "    'description',\n",
    "    'found_numbers',\n",
    "    'name',\n",
    "    'key_skills', \n",
    "    'clean_name',         \n",
    "    'clean_skills',      \n",
    "    'clean_text',         \n",
    "    'text',           \n",
    "    'key_skills_list'  \n",
    "]\n"
   ]
  },
  {
   "cell_type": "markdown",
   "id": "3d0e4199",
   "metadata": {
    "papermill": {
     "duration": 0.01785,
     "end_time": "2023-04-05T16:51:09.512904",
     "exception": false,
     "start_time": "2023-04-05T16:51:09.495054",
     "status": "completed"
    },
    "tags": []
   },
   "source": [
    "# TF-IDF and linear regression<a id=\"section-three\">"
   ]
  },
  {
   "cell_type": "code",
   "execution_count": 20,
   "id": "03c4a988",
   "metadata": {
    "execution": {
     "iopub.execute_input": "2023-04-05T16:51:09.565703Z",
     "iopub.status.busy": "2023-04-05T16:51:09.565325Z",
     "iopub.status.idle": "2023-04-05T16:51:09.574296Z",
     "shell.execute_reply": "2023-04-05T16:51:09.573266Z"
    },
    "papermill": {
     "duration": 0.04435,
     "end_time": "2023-04-05T16:51:09.577316",
     "exception": false,
     "start_time": "2023-04-05T16:51:09.532966",
     "status": "completed"
    },
    "tags": []
   },
   "outputs": [],
   "source": [
    "tfidf_words = TfidfVectorizer(\n",
    "    analyzer='word',\n",
    "    ngram_range=(1, 2),\n",
    "    lowercase=True,\n",
    "    sublinear_tf=True\n",
    ")\n",
    "tfidf_chars = TfidfVectorizer(\n",
    "    analyzer='char',\n",
    "    ngram_range=(1, 5),\n",
    "    lowercase=True,\n",
    "    sublinear_tf=True\n",
    ")"
   ]
  },
  {
   "cell_type": "code",
   "execution_count": 21,
   "id": "1d94bef7",
   "metadata": {
    "execution": {
     "iopub.execute_input": "2023-04-05T16:51:09.656441Z",
     "iopub.status.busy": "2023-04-05T16:51:09.655987Z",
     "iopub.status.idle": "2023-04-05T16:51:09.808322Z",
     "shell.execute_reply": "2023-04-05T16:51:09.807198Z"
    },
    "papermill": {
     "duration": 0.199011,
     "end_time": "2023-04-05T16:51:09.810561",
     "exception": false,
     "start_time": "2023-04-05T16:51:09.611550",
     "status": "completed"
    },
    "tags": []
   },
   "outputs": [
    {
     "data": {
      "text/plain": [
       "(16629, 4357)"
      ]
     },
     "execution_count": 21,
     "metadata": {},
     "output_type": "execute_result"
    }
   ],
   "source": [
    "mlb = MultiLabelBinarizer()\n",
    "\n",
    "# fit_transform on the column will return a numpy array with binary encoding\n",
    "X_mlb = mlb.fit_transform(df_train['key_skills_list'])\n",
    "X_mlb.shape"
   ]
  },
  {
   "cell_type": "code",
   "execution_count": 22,
   "id": "ec2bb696",
   "metadata": {
    "execution": {
     "iopub.execute_input": "2023-04-05T16:51:09.850145Z",
     "iopub.status.busy": "2023-04-05T16:51:09.849236Z",
     "iopub.status.idle": "2023-04-05T16:52:16.844453Z",
     "shell.execute_reply": "2023-04-05T16:52:16.843354Z"
    },
    "papermill": {
     "duration": 67.018136,
     "end_time": "2023-04-05T16:52:16.847378",
     "exception": false,
     "start_time": "2023-04-05T16:51:09.829242",
     "status": "completed"
    },
    "tags": []
   },
   "outputs": [],
   "source": [
    "X_tfidf_words = tfidf_words.fit_transform(df_train['clean_text'])\n",
    "X_tfidf_chars = tfidf_chars.fit_transform(df_train['text'])"
   ]
  },
  {
   "cell_type": "code",
   "execution_count": 23,
   "id": "6262607e",
   "metadata": {
    "execution": {
     "iopub.execute_input": "2023-04-05T16:52:16.886354Z",
     "iopub.status.busy": "2023-04-05T16:52:16.885994Z",
     "iopub.status.idle": "2023-04-05T16:52:16.892308Z",
     "shell.execute_reply": "2023-04-05T16:52:16.891329Z"
    },
    "papermill": {
     "duration": 0.028272,
     "end_time": "2023-04-05T16:52:16.894563",
     "exception": false,
     "start_time": "2023-04-05T16:52:16.866291",
     "status": "completed"
    },
    "tags": []
   },
   "outputs": [
    {
     "data": {
      "text/plain": [
       "(16629, 890609)"
      ]
     },
     "execution_count": 23,
     "metadata": {},
     "output_type": "execute_result"
    }
   ],
   "source": [
    "X_tfidf_chars.shape"
   ]
  },
  {
   "cell_type": "code",
   "execution_count": 24,
   "id": "347d0136",
   "metadata": {
    "execution": {
     "iopub.execute_input": "2023-04-05T16:52:16.934121Z",
     "iopub.status.busy": "2023-04-05T16:52:16.933179Z",
     "iopub.status.idle": "2023-04-05T16:52:16.940320Z",
     "shell.execute_reply": "2023-04-05T16:52:16.939230Z"
    },
    "papermill": {
     "duration": 0.029381,
     "end_time": "2023-04-05T16:52:16.942441",
     "exception": false,
     "start_time": "2023-04-05T16:52:16.913060",
     "status": "completed"
    },
    "tags": []
   },
   "outputs": [
    {
     "data": {
      "text/plain": [
       "(16629, 516698)"
      ]
     },
     "execution_count": 24,
     "metadata": {},
     "output_type": "execute_result"
    }
   ],
   "source": [
    "X_tfidf_words.shape"
   ]
  },
  {
   "cell_type": "code",
   "execution_count": 25,
   "id": "c909158f",
   "metadata": {
    "execution": {
     "iopub.execute_input": "2023-04-05T16:52:16.981669Z",
     "iopub.status.busy": "2023-04-05T16:52:16.981340Z",
     "iopub.status.idle": "2023-04-05T16:52:17.022623Z",
     "shell.execute_reply": "2023-04-05T16:52:17.021474Z"
    },
    "papermill": {
     "duration": 0.064486,
     "end_time": "2023-04-05T16:52:17.025328",
     "exception": false,
     "start_time": "2023-04-05T16:52:16.960842",
     "status": "completed"
    },
    "tags": []
   },
   "outputs": [
    {
     "data": {
      "text/plain": [
       "(16629, 23)"
      ]
     },
     "execution_count": 25,
     "metadata": {},
     "output_type": "execute_result"
    }
   ],
   "source": [
    "preprocessor = ColumnTransformer(\n",
    "    transformers=[\n",
    "    #('tfidf_words', tfidf_words, ['clean_text']),\n",
    "    #('tfidf_chars', tfidf_chars, ['text']),\n",
    "    ('categorical', OneHotEncoder(), categorical_features),\n",
    "    #('skills_list', MyMultiLabelBinarizer(), ['key_skills_list']),\n",
    "    ('numerical', MinMaxScaler(), numerical_features), \n",
    "    ('drop', 'drop', features_to_drop)\n",
    "    ],\n",
    "    remainder='passthrough',\n",
    ")\n",
    "\n",
    "X_proc = preprocessor.fit_transform(df_train.drop(columns=['salary']))\n",
    "X_proc.shape"
   ]
  },
  {
   "cell_type": "code",
   "execution_count": 26,
   "id": "7752ae97",
   "metadata": {
    "execution": {
     "iopub.execute_input": "2023-04-05T16:52:17.065259Z",
     "iopub.status.busy": "2023-04-05T16:52:17.064065Z",
     "iopub.status.idle": "2023-04-05T16:52:22.585383Z",
     "shell.execute_reply": "2023-04-05T16:52:22.584101Z"
    },
    "papermill": {
     "duration": 5.544088,
     "end_time": "2023-04-05T16:52:22.588359",
     "exception": false,
     "start_time": "2023-04-05T16:52:17.044271",
     "status": "completed"
    },
    "tags": []
   },
   "outputs": [
    {
     "data": {
      "text/plain": [
       "((16629, 1411687), (16629,))"
      ]
     },
     "execution_count": 26,
     "metadata": {},
     "output_type": "execute_result"
    }
   ],
   "source": [
    "X_train = hstack([\n",
    "    X_tfidf_words,\n",
    "    X_tfidf_chars,\n",
    "    X_mlb,\n",
    "    X_proc\n",
    "]).tocsr()\n",
    "y_train = df_train['salary']\n",
    "X_train.shape, y_train.shape"
   ]
  },
  {
   "cell_type": "code",
   "execution_count": 27,
   "id": "61089a8d",
   "metadata": {
    "execution": {
     "iopub.execute_input": "2023-04-05T16:52:22.628781Z",
     "iopub.status.busy": "2023-04-05T16:52:22.628152Z",
     "iopub.status.idle": "2023-04-05T16:52:22.744265Z",
     "shell.execute_reply": "2023-04-05T16:52:22.743146Z"
    },
    "papermill": {
     "duration": 0.139613,
     "end_time": "2023-04-05T16:52:22.747144",
     "exception": false,
     "start_time": "2023-04-05T16:52:22.607531",
     "status": "completed"
    },
    "tags": []
   },
   "outputs": [],
   "source": [
    "nan_rows = np.isnan(X_train.data)\n",
    "inf_rows = np.isinf(X_train.data)\n",
    "\n",
    "# Replace NaN or infinity values with a finite number (e.g., 0)\n",
    "X_train.data[nan_rows] = 0\n",
    "X_train.data[inf_rows] = 0\n"
   ]
  },
  {
   "cell_type": "code",
   "execution_count": 28,
   "id": "9155c2c1",
   "metadata": {
    "execution": {
     "iopub.execute_input": "2023-04-05T16:52:22.789138Z",
     "iopub.status.busy": "2023-04-05T16:52:22.788102Z",
     "iopub.status.idle": "2023-04-05T16:53:31.697818Z",
     "shell.execute_reply": "2023-04-05T16:53:31.696750Z"
    },
    "papermill": {
     "duration": 68.950844,
     "end_time": "2023-04-05T16:53:31.718576",
     "exception": false,
     "start_time": "2023-04-05T16:52:22.767732",
     "status": "completed"
    },
    "tags": []
   },
   "outputs": [
    {
     "data": {
      "text/plain": [
       "Ridge(random_state=42, solver='sag')"
      ]
     },
     "execution_count": 28,
     "metadata": {},
     "output_type": "execute_result"
    }
   ],
   "source": [
    "model = Ridge(solver=\"sag\", fit_intercept=True, random_state=42)\n",
    "model.fit(X_train, y_train)"
   ]
  },
  {
   "cell_type": "code",
   "execution_count": 29,
   "id": "9f090481",
   "metadata": {
    "execution": {
     "iopub.execute_input": "2023-04-05T16:53:31.758012Z",
     "iopub.status.busy": "2023-04-05T16:53:31.757091Z",
     "iopub.status.idle": "2023-04-05T16:53:31.955761Z",
     "shell.execute_reply": "2023-04-05T16:53:31.954644Z"
    },
    "papermill": {
     "duration": 0.220843,
     "end_time": "2023-04-05T16:53:31.958077",
     "exception": false,
     "start_time": "2023-04-05T16:53:31.737234",
     "status": "completed"
    },
    "tags": []
   },
   "outputs": [
    {
     "data": {
      "text/plain": [
       "0.9255747370963487"
      ]
     },
     "execution_count": 29,
     "metadata": {},
     "output_type": "execute_result"
    }
   ],
   "source": [
    "model.score(X_train, y_train)"
   ]
  },
  {
   "cell_type": "markdown",
   "id": "be79ba66",
   "metadata": {
    "papermill": {
     "duration": 0.020042,
     "end_time": "2023-04-05T16:53:31.998857",
     "exception": false,
     "start_time": "2023-04-05T16:53:31.978815",
     "status": "completed"
    },
    "tags": []
   },
   "source": [
    "## Preparing test "
   ]
  },
  {
   "cell_type": "code",
   "execution_count": 30,
   "id": "79501926",
   "metadata": {
    "execution": {
     "iopub.execute_input": "2023-04-05T16:53:32.041780Z",
     "iopub.status.busy": "2023-04-05T16:53:32.040626Z",
     "iopub.status.idle": "2023-04-05T16:53:32.053429Z",
     "shell.execute_reply": "2023-04-05T16:53:32.052334Z"
    },
    "papermill": {
     "duration": 0.036667,
     "end_time": "2023-04-05T16:53:32.055823",
     "exception": false,
     "start_time": "2023-04-05T16:53:32.019156",
     "status": "completed"
    },
    "tags": []
   },
   "outputs": [],
   "source": [
    "df_test['text'] = df_test.name + ' ' + df_test.description"
   ]
  },
  {
   "cell_type": "code",
   "execution_count": 31,
   "id": "61fa5664",
   "metadata": {
    "execution": {
     "iopub.execute_input": "2023-04-05T16:53:32.102758Z",
     "iopub.status.busy": "2023-04-05T16:53:32.102370Z",
     "iopub.status.idle": "2023-04-05T16:53:32.391248Z",
     "shell.execute_reply": "2023-04-05T16:53:32.390112Z"
    },
    "papermill": {
     "duration": 0.315542,
     "end_time": "2023-04-05T16:53:32.394111",
     "exception": false,
     "start_time": "2023-04-05T16:53:32.078569",
     "status": "completed"
    },
    "tags": []
   },
   "outputs": [],
   "source": [
    "regenerate = False  \n",
    "\n",
    "if regenerate: \n",
    "    df_test['clean_text'] = df_test.text.progress_apply(clean_text) \n",
    "    df_test['clean_name'] = df_test.name.progress_apply(clean_text)\n",
    "    df_test['clean_skills'] = df_test.key_skills.progress_apply(clean_text)\n",
    "\n",
    "    df_test[['clean_text',\n",
    "              'clean_name',\n",
    "              'clean_skills']].to_csv('test_cleaned_text_cols.csv', index=False) \n",
    "    \n",
    "else: \n",
    "    df_test_clean_text_cols = pd.read_csv('../input/2nd-step-cleaned-text/test_cleaned_text_cols.csv')\n",
    "    df_test = pd.concat([df_test, df_test_clean_text_cols], axis=1)"
   ]
  },
  {
   "cell_type": "code",
   "execution_count": 32,
   "id": "c691af1e",
   "metadata": {
    "execution": {
     "iopub.execute_input": "2023-04-05T16:53:32.433846Z",
     "iopub.status.busy": "2023-04-05T16:53:32.433517Z",
     "iopub.status.idle": "2023-04-05T16:53:33.864862Z",
     "shell.execute_reply": "2023-04-05T16:53:33.863831Z"
    },
    "papermill": {
     "duration": 1.454239,
     "end_time": "2023-04-05T16:53:33.867807",
     "exception": false,
     "start_time": "2023-04-05T16:53:32.413568",
     "status": "completed"
    },
    "tags": []
   },
   "outputs": [],
   "source": [
    "find_numbers(df_test, 'description')\n",
    "df_test[['av_num', 'max_num', 'min_num']] = df_test['found_numbers'].apply(avg_max_func)\n",
    "df_test['key_skills_list'] = df_test['key_skills'].apply(literal_eval)\n",
    "df_test['num_skills'] = df_test['key_skills_list'].apply(len)\n",
    "df_test['perc'] = df_test['description'].str.contains('процент').apply(int)\n",
    "df_test['%'] = df_test['description'].str.contains('%').apply(int)\n",
    "df_test['1s_text'] = df_test['description'].str.contains(r'1\\s*[CcСс][^\\S\\n]*').apply(int)\n",
    "df_test['1s_skills'] = df_test['key_skills'].str.contains(r'1\\s*[CcСс][^\\S\\n]*').apply(int)\n",
    "df_test['en_text'] = df_test['description'].str.contains(r'[A-Za-z]').apply(int)\n",
    "df_test['en_skills'] = df_test['key_skills'].str.contains(r'[A-Za-z]').apply(int)\n",
    "df_test['clean_skills'] = df_test['clean_skills'].fillna('')"
   ]
  },
  {
   "cell_type": "code",
   "execution_count": 33,
   "id": "58358e94",
   "metadata": {
    "execution": {
     "iopub.execute_input": "2023-04-05T16:53:33.907865Z",
     "iopub.status.busy": "2023-04-05T16:53:33.907523Z",
     "iopub.status.idle": "2023-04-05T16:53:53.905263Z",
     "shell.execute_reply": "2023-04-05T16:53:53.904137Z"
    },
    "papermill": {
     "duration": 20.019912,
     "end_time": "2023-04-05T16:53:53.907547",
     "exception": false,
     "start_time": "2023-04-05T16:53:33.887635",
     "status": "completed"
    },
    "tags": []
   },
   "outputs": [
    {
     "data": {
      "text/plain": [
       "((5543, 4357), (5543, 516698), (5543, 890609), (5543, 23))"
      ]
     },
     "execution_count": 33,
     "metadata": {},
     "output_type": "execute_result"
    }
   ],
   "source": [
    "X_test_mlb = mlb.transform(df_test['key_skills_list'])\n",
    "X_test_tfidf_words = tfidf_words.transform(df_test['clean_text'])\n",
    "X_test_tfidf_chars = tfidf_chars.transform(df_test['text'])\n",
    "X_test_proc = preprocessor.transform(df_test)\n",
    "X_test_mlb.shape, X_test_tfidf_words.shape, X_test_tfidf_chars.shape, X_test_proc.shape"
   ]
  },
  {
   "cell_type": "code",
   "execution_count": 34,
   "id": "74a304dc",
   "metadata": {
    "execution": {
     "iopub.execute_input": "2023-04-05T16:53:53.947697Z",
     "iopub.status.busy": "2023-04-05T16:53:53.947361Z",
     "iopub.status.idle": "2023-04-05T16:53:55.259275Z",
     "shell.execute_reply": "2023-04-05T16:53:55.258196Z"
    },
    "papermill": {
     "duration": 1.335189,
     "end_time": "2023-04-05T16:53:55.262051",
     "exception": false,
     "start_time": "2023-04-05T16:53:53.926862",
     "status": "completed"
    },
    "tags": []
   },
   "outputs": [],
   "source": [
    "X_test = hstack([\n",
    "    X_test_tfidf_words,\n",
    "    X_test_tfidf_chars,\n",
    "    X_test_mlb,\n",
    "    X_test_proc\n",
    "]).tocsr()"
   ]
  },
  {
   "cell_type": "code",
   "execution_count": 35,
   "id": "9403be45",
   "metadata": {
    "execution": {
     "iopub.execute_input": "2023-04-05T16:53:55.301674Z",
     "iopub.status.busy": "2023-04-05T16:53:55.301341Z",
     "iopub.status.idle": "2023-04-05T16:53:55.341846Z",
     "shell.execute_reply": "2023-04-05T16:53:55.340838Z"
    },
    "papermill": {
     "duration": 0.062948,
     "end_time": "2023-04-05T16:53:55.344363",
     "exception": false,
     "start_time": "2023-04-05T16:53:55.281415",
     "status": "completed"
    },
    "tags": []
   },
   "outputs": [],
   "source": [
    "nan_rows = np.isnan(X_test.data)\n",
    "inf_rows = np.isinf(X_test.data)\n",
    "\n",
    "\n",
    "X_test.data[nan_rows] = 0\n",
    "X_test.data[inf_rows] = 0"
   ]
  },
  {
   "cell_type": "markdown",
   "id": "ff371b10",
   "metadata": {
    "papermill": {
     "duration": 0.019013,
     "end_time": "2023-04-05T16:53:55.383676",
     "exception": false,
     "start_time": "2023-04-05T16:53:55.364663",
     "status": "completed"
    },
    "tags": []
   },
   "source": [
    "## Making predictions"
   ]
  },
  {
   "cell_type": "code",
   "execution_count": 36,
   "id": "4c0c3aa1",
   "metadata": {
    "execution": {
     "iopub.execute_input": "2023-04-05T16:53:55.423314Z",
     "iopub.status.busy": "2023-04-05T16:53:55.422309Z",
     "iopub.status.idle": "2023-04-05T16:53:55.490225Z",
     "shell.execute_reply": "2023-04-05T16:53:55.489128Z"
    },
    "papermill": {
     "duration": 0.090355,
     "end_time": "2023-04-05T16:53:55.492756",
     "exception": false,
     "start_time": "2023-04-05T16:53:55.402401",
     "status": "completed"
    },
    "tags": []
   },
   "outputs": [],
   "source": [
    "pred_lin = model.predict(X_test)"
   ]
  },
  {
   "cell_type": "code",
   "execution_count": 37,
   "id": "a7cd8296",
   "metadata": {
    "execution": {
     "iopub.execute_input": "2023-04-05T16:53:55.541601Z",
     "iopub.status.busy": "2023-04-05T16:53:55.541110Z",
     "iopub.status.idle": "2023-04-05T16:53:55.921219Z",
     "shell.execute_reply": "2023-04-05T16:53:55.920146Z"
    },
    "papermill": {
     "duration": 0.410922,
     "end_time": "2023-04-05T16:53:55.923651",
     "exception": false,
     "start_time": "2023-04-05T16:53:55.512729",
     "status": "completed"
    },
    "tags": []
   },
   "outputs": [
    {
     "data": {
      "text/plain": [
       "<AxesSubplot:ylabel='Count'>"
      ]
     },
     "execution_count": 37,
     "metadata": {},
     "output_type": "execute_result"
    },
    {
     "data": {
      "image/png": "[encoded data removed]",
      "text/plain": [
       "<Figure size 1000x600 with 1 Axes>"
      ]
     },
     "metadata": {},
     "output_type": "display_data"
    }
   ],
   "source": [
    "sns.histplot(pred_lin, bins=100)"
   ]
  },
  {
   "cell_type": "markdown",
   "id": "05a33413",
   "metadata": {
    "papermill": {
     "duration": 0.019375,
     "end_time": "2023-04-05T16:53:55.963085",
     "exception": false,
     "start_time": "2023-04-05T16:53:55.943710",
     "status": "completed"
    },
    "tags": []
   },
   "source": [
    "## Making a submission"
   ]
  },
  {
   "cell_type": "code",
   "execution_count": 38,
   "id": "d618fb8f",
   "metadata": {
    "execution": {
     "iopub.execute_input": "2023-04-05T16:53:56.003653Z",
     "iopub.status.busy": "2023-04-05T16:53:56.002605Z",
     "iopub.status.idle": "2023-04-05T16:53:56.008430Z",
     "shell.execute_reply": "2023-04-05T16:53:56.007467Z"
    },
    "papermill": {
     "duration": 0.028257,
     "end_time": "2023-04-05T16:53:56.010538",
     "exception": false,
     "start_time": "2023-04-05T16:53:55.982281",
     "status": "completed"
    },
    "tags": []
   },
   "outputs": [],
   "source": [
    "def pred_to_csv(pred, name):\n",
    "    #pred[pred < 100] = 1000\n",
    "    a = pd.Series(pred, name=\"salary\")\n",
    "    a.index.name = \"id\"\n",
    "    a.to_csv(f\"/kaggle/working/{name}.csv\")"
   ]
  },
  {
   "cell_type": "code",
   "execution_count": 39,
   "id": "22a8ba81",
   "metadata": {
    "execution": {
     "iopub.execute_input": "2023-04-05T16:53:56.050350Z",
     "iopub.status.busy": "2023-04-05T16:53:56.049488Z",
     "iopub.status.idle": "2023-04-05T16:53:56.067758Z",
     "shell.execute_reply": "2023-04-05T16:53:56.066844Z"
    },
    "papermill": {
     "duration": 0.040311,
     "end_time": "2023-04-05T16:53:56.069932",
     "exception": false,
     "start_time": "2023-04-05T16:53:56.029621",
     "status": "completed"
    },
    "tags": []
   },
   "outputs": [],
   "source": [
    "pred_to_csv(pred_lin, \"ridge_tfidf\") # LB 0.51644"
   ]
  },
  {
   "cell_type": "markdown",
   "id": "ab595104",
   "metadata": {
    "papermill": {
     "duration": 0.018672,
     "end_time": "2023-04-05T16:53:56.107916",
     "exception": false,
     "start_time": "2023-04-05T16:53:56.089244",
     "status": "completed"
    },
    "tags": []
   },
   "source": [
    "# Catboost with text features<a id=\"section-four\">"
   ]
  },
  {
   "cell_type": "code",
   "execution_count": 40,
   "id": "c0156119",
   "metadata": {
    "execution": {
     "iopub.execute_input": "2023-04-05T16:53:56.148052Z",
     "iopub.status.busy": "2023-04-05T16:53:56.147198Z",
     "iopub.status.idle": "2023-04-05T16:54:06.269574Z",
     "shell.execute_reply": "2023-04-05T16:54:06.268036Z"
    },
    "papermill": {
     "duration": 10.145146,
     "end_time": "2023-04-05T16:54:06.272064",
     "exception": false,
     "start_time": "2023-04-05T16:53:56.126918",
     "status": "completed"
    },
    "tags": []
   },
   "outputs": [
    {
     "name": "stdout",
     "output_type": "stream",
     "text": [
      "\u001b[33mWARNING: Running pip as the 'root' user can result in broken permissions and conflicting behaviour with the system package manager. It is recommended to use a virtual environment instead: https://pip.pypa.io/warnings/venv\u001b[0m\u001b[33m\r\n",
      "\u001b[0mDone!\n"
     ]
    }
   ],
   "source": [
    "!pip install catboost -q\n",
    "print('Done!')"
   ]
  },
  {
   "cell_type": "code",
   "execution_count": 41,
   "id": "5049174e",
   "metadata": {
    "execution": {
     "iopub.execute_input": "2023-04-05T16:54:06.313062Z",
     "iopub.status.busy": "2023-04-05T16:54:06.312733Z",
     "iopub.status.idle": "2023-04-05T16:54:06.542411Z",
     "shell.execute_reply": "2023-04-05T16:54:06.541407Z"
    },
    "papermill": {
     "duration": 0.252795,
     "end_time": "2023-04-05T16:54:06.544911",
     "exception": false,
     "start_time": "2023-04-05T16:54:06.292116",
     "status": "completed"
    },
    "tags": []
   },
   "outputs": [],
   "source": [
    "from catboost import Pool, CatBoostRegressor"
   ]
  },
  {
   "cell_type": "code",
   "execution_count": 42,
   "id": "c3499ecb",
   "metadata": {
    "execution": {
     "iopub.execute_input": "2023-04-05T16:54:06.585684Z",
     "iopub.status.busy": "2023-04-05T16:54:06.585366Z",
     "iopub.status.idle": "2023-04-05T16:54:06.590267Z",
     "shell.execute_reply": "2023-04-05T16:54:06.589234Z"
    },
    "papermill": {
     "duration": 0.027609,
     "end_time": "2023-04-05T16:54:06.592674",
     "exception": false,
     "start_time": "2023-04-05T16:54:06.565065",
     "status": "completed"
    },
    "tags": []
   },
   "outputs": [],
   "source": [
    "text_features = [\n",
    "    'clean_name', \n",
    "    'text', \n",
    "    'clean_text', \n",
    "    'clean_skills'\n",
    "]\n",
    "\n",
    "features_to_drop_catboost = [\n",
    "    'key_skills_list',\n",
    "    'description',\n",
    "    'found_numbers',\n",
    "    'name',\n",
    "    'key_skills',                     \n",
    "    'key_skills_list'      \n",
    "]"
   ]
  },
  {
   "cell_type": "code",
   "execution_count": 43,
   "id": "ee233cfa",
   "metadata": {
    "execution": {
     "iopub.execute_input": "2023-04-05T16:54:06.632748Z",
     "iopub.status.busy": "2023-04-05T16:54:06.632465Z",
     "iopub.status.idle": "2023-04-05T16:54:07.690011Z",
     "shell.execute_reply": "2023-04-05T16:54:07.688947Z"
    },
    "papermill": {
     "duration": 1.080511,
     "end_time": "2023-04-05T16:54:07.692713",
     "exception": false,
     "start_time": "2023-04-05T16:54:06.612202",
     "status": "completed"
    },
    "tags": []
   },
   "outputs": [],
   "source": [
    "df_train_mlb = pd.DataFrame(X_mlb, columns=mlb.classes_)\n",
    "\n",
    "# concatenate the new dataframe with the original dataframe\n",
    "df_train = pd.concat([df_train, df_train_mlb], axis=1)"
   ]
  },
  {
   "cell_type": "code",
   "execution_count": 44,
   "id": "12d1a318",
   "metadata": {
    "execution": {
     "iopub.execute_input": "2023-04-05T16:54:07.733652Z",
     "iopub.status.busy": "2023-04-05T16:54:07.732794Z",
     "iopub.status.idle": "2023-04-05T16:54:08.690190Z",
     "shell.execute_reply": "2023-04-05T16:54:08.689128Z"
    },
    "papermill": {
     "duration": 0.980416,
     "end_time": "2023-04-05T16:54:08.692732",
     "exception": false,
     "start_time": "2023-04-05T16:54:07.712316",
     "status": "completed"
    },
    "tags": []
   },
   "outputs": [],
   "source": [
    "X_train_catboost, X_val_catboost, y_train_catboost, y_val_catboost = train_test_split(\n",
    "    df_train.drop(columns = ['salary'] + features_to_drop_catboost),\n",
    "    df_train['salary'], \n",
    "    train_size=0.95\n",
    "    )"
   ]
  },
  {
   "cell_type": "code",
   "execution_count": 45,
   "id": "e6906144",
   "metadata": {
    "execution": {
     "iopub.execute_input": "2023-04-05T16:54:08.733632Z",
     "iopub.status.busy": "2023-04-05T16:54:08.732717Z",
     "iopub.status.idle": "2023-04-05T16:54:08.739978Z",
     "shell.execute_reply": "2023-04-05T16:54:08.739018Z"
    },
    "papermill": {
     "duration": 0.029785,
     "end_time": "2023-04-05T16:54:08.742102",
     "exception": false,
     "start_time": "2023-04-05T16:54:08.712317",
     "status": "completed"
    },
    "tags": []
   },
   "outputs": [],
   "source": [
    "cat = CatBoostRegressor(\n",
    "    use_best_model= True,\n",
    "    learning_rate=0.03,\n",
    "    task_type='GPU',\n",
    "    depth = 6,\n",
    "    iterations = 10000\n",
    "    )"
   ]
  },
  {
   "cell_type": "code",
   "execution_count": 46,
   "id": "9adcc4c2",
   "metadata": {
    "execution": {
     "iopub.execute_input": "2023-04-05T16:54:08.781694Z",
     "iopub.status.busy": "2023-04-05T16:54:08.781382Z",
     "iopub.status.idle": "2023-04-05T16:54:09.644882Z",
     "shell.execute_reply": "2023-04-05T16:54:09.643810Z"
    },
    "papermill": {
     "duration": 0.886223,
     "end_time": "2023-04-05T16:54:09.647514",
     "exception": false,
     "start_time": "2023-04-05T16:54:08.761291",
     "status": "completed"
    },
    "tags": []
   },
   "outputs": [],
   "source": [
    "train_pool = Pool(\n",
    "    X_train_catboost, y_train_catboost, \n",
    "    cat_features=categorical_features,\n",
    "    text_features=text_features,\n",
    ")\n",
    "\n",
    "validation_pool = Pool(\n",
    "    X_val_catboost, y_val_catboost, \n",
    "    cat_features=categorical_features,\n",
    "    text_features=text_features,\n",
    ")"
   ]
  },
  {
   "cell_type": "code",
   "execution_count": 47,
   "id": "fec4ae34",
   "metadata": {
    "execution": {
     "iopub.execute_input": "2023-04-05T16:54:09.689235Z",
     "iopub.status.busy": "2023-04-05T16:54:09.688268Z",
     "iopub.status.idle": "2023-04-05T17:00:59.805979Z",
     "shell.execute_reply": "2023-04-05T17:00:59.805067Z"
    },
    "papermill": {
     "duration": 410.15718,
     "end_time": "2023-04-05T17:00:59.824740",
     "exception": false,
     "start_time": "2023-04-05T16:54:09.667560",
     "status": "completed"
    },
    "tags": []
   },
   "outputs": [
    {
     "name": "stdout",
     "output_type": "stream",
     "text": [
      "0:\tlearn: 34034.5817317\ttest: 34890.6575108\tbest: 34890.6575108 (0)\ttotal: 48.2ms\tremaining: 8m 1s\n",
      "200:\tlearn: 25695.6457383\ttest: 28324.7460604\tbest: 28324.7460604 (200)\ttotal: 7.43s\tremaining: 6m 2s\n",
      "400:\tlearn: 24340.1230495\ttest: 27688.5727943\tbest: 27688.5727943 (400)\ttotal: 14s\tremaining: 5m 34s\n",
      "600:\tlearn: 23544.5386014\ttest: 27399.4554915\tbest: 27391.9496764 (597)\ttotal: 20.5s\tremaining: 5m 20s\n",
      "800:\tlearn: 23032.2275595\ttest: 27267.6819471\tbest: 27261.0673757 (794)\ttotal: 26.9s\tremaining: 5m 8s\n",
      "1000:\tlearn: 22729.3060651\ttest: 27193.3906902\tbest: 27192.8432214 (999)\ttotal: 34s\tremaining: 5m 5s\n",
      "1200:\tlearn: 22360.8273277\ttest: 27117.1080827\tbest: 27111.3821570 (1188)\ttotal: 40.4s\tremaining: 4m 56s\n",
      "1400:\tlearn: 22022.3354814\ttest: 27037.6665356\tbest: 27037.5601994 (1397)\ttotal: 46.7s\tremaining: 4m 46s\n",
      "1600:\tlearn: 21697.4459498\ttest: 26998.7778641\tbest: 26996.1928256 (1579)\ttotal: 53.1s\tremaining: 4m 38s\n",
      "1800:\tlearn: 21427.9546095\ttest: 26968.7385062\tbest: 26968.4756365 (1791)\ttotal: 59.5s\tremaining: 4m 30s\n",
      "2000:\tlearn: 21191.4005273\ttest: 26904.1839926\tbest: 26904.1839926 (2000)\ttotal: 1m 6s\tremaining: 4m 26s\n",
      "2200:\tlearn: 21011.4104835\ttest: 26919.0748955\tbest: 26903.1533982 (2005)\ttotal: 1m 12s\tremaining: 4m 18s\n",
      "2400:\tlearn: 20816.2193487\ttest: 26947.5839020\tbest: 26903.1533982 (2005)\ttotal: 1m 19s\tremaining: 4m 10s\n",
      "2600:\tlearn: 20656.4506339\ttest: 26956.2128360\tbest: 26903.1533982 (2005)\ttotal: 1m 25s\tremaining: 4m 2s\n",
      "2800:\tlearn: 20511.9430828\ttest: 26917.9131892\tbest: 26903.1533982 (2005)\ttotal: 1m 31s\tremaining: 3m 55s\n",
      "3000:\tlearn: 20401.4506821\ttest: 26908.5474782\tbest: 26903.1533982 (2005)\ttotal: 1m 38s\tremaining: 3m 49s\n",
      "3200:\tlearn: 20288.4034684\ttest: 26903.3437098\tbest: 26898.7421839 (3185)\ttotal: 1m 44s\tremaining: 3m 42s\n",
      "3400:\tlearn: 20187.0999103\ttest: 26903.5779376\tbest: 26898.7421839 (3185)\ttotal: 1m 50s\tremaining: 3m 35s\n",
      "3600:\tlearn: 20073.5126907\ttest: 26898.8681032\tbest: 26894.1911257 (3597)\ttotal: 1m 57s\tremaining: 3m 28s\n",
      "3800:\tlearn: 19959.8020189\ttest: 26878.2534231\tbest: 26876.4569093 (3768)\ttotal: 2m 3s\tremaining: 3m 21s\n",
      "4000:\tlearn: 19887.4790225\ttest: 26878.1112890\tbest: 26866.8964398 (3872)\ttotal: 2m 10s\tremaining: 3m 15s\n",
      "4200:\tlearn: 19814.2555602\ttest: 26856.2825768\tbest: 26852.8786252 (4192)\ttotal: 2m 16s\tremaining: 3m 8s\n",
      "4400:\tlearn: 19714.5248615\ttest: 26845.5427499\tbest: 26840.1550838 (4282)\ttotal: 2m 22s\tremaining: 3m 1s\n",
      "4600:\tlearn: 19599.8829732\ttest: 26853.3699590\tbest: 26838.3721620 (4479)\ttotal: 2m 28s\tremaining: 2m 54s\n",
      "4800:\tlearn: 19532.6660930\ttest: 26844.1401828\tbest: 26838.3721620 (4479)\ttotal: 2m 35s\tremaining: 2m 47s\n",
      "5000:\tlearn: 19459.1896847\ttest: 26835.3093689\tbest: 26831.7956049 (4935)\ttotal: 2m 42s\tremaining: 2m 42s\n",
      "5200:\tlearn: 19397.2675180\ttest: 26828.9816201\tbest: 26821.2603616 (5082)\ttotal: 2m 48s\tremaining: 2m 35s\n",
      "5400:\tlearn: 19309.9183981\ttest: 26813.7572038\tbest: 26812.5806522 (5371)\ttotal: 2m 54s\tremaining: 2m 28s\n",
      "5600:\tlearn: 19223.6330035\ttest: 26807.8092870\tbest: 26803.8040928 (5537)\ttotal: 3m\tremaining: 2m 21s\n",
      "5800:\tlearn: 19148.2524159\ttest: 26822.2089379\tbest: 26803.8040928 (5537)\ttotal: 3m 6s\tremaining: 2m 15s\n",
      "6000:\tlearn: 19095.2180484\ttest: 26820.6906123\tbest: 26803.8040928 (5537)\ttotal: 3m 13s\tremaining: 2m 9s\n",
      "6200:\tlearn: 19039.5224920\ttest: 26830.0546976\tbest: 26803.8040928 (5537)\ttotal: 3m 19s\tremaining: 2m 2s\n",
      "6400:\tlearn: 18976.0376770\ttest: 26835.9389797\tbest: 26803.8040928 (5537)\ttotal: 3m 26s\tremaining: 1m 55s\n",
      "6600:\tlearn: 18896.6489143\ttest: 26856.0655346\tbest: 26803.8040928 (5537)\ttotal: 3m 32s\tremaining: 1m 49s\n",
      "6800:\tlearn: 18805.7403480\ttest: 26858.8370904\tbest: 26803.8040928 (5537)\ttotal: 3m 38s\tremaining: 1m 42s\n",
      "7000:\tlearn: 18733.1802346\ttest: 26872.1307162\tbest: 26803.8040928 (5537)\ttotal: 3m 45s\tremaining: 1m 36s\n",
      "7200:\tlearn: 18681.1047954\ttest: 26868.9442465\tbest: 26803.8040928 (5537)\ttotal: 3m 51s\tremaining: 1m 29s\n",
      "7400:\tlearn: 18622.6133038\ttest: 26868.8650930\tbest: 26803.8040928 (5537)\ttotal: 3m 57s\tremaining: 1m 23s\n",
      "7600:\tlearn: 18569.7032540\ttest: 26870.8453275\tbest: 26803.8040928 (5537)\ttotal: 4m 3s\tremaining: 1m 16s\n",
      "7800:\tlearn: 18497.6777581\ttest: 26850.4364898\tbest: 26803.8040928 (5537)\ttotal: 4m 9s\tremaining: 1m 10s\n",
      "8000:\tlearn: 18433.8347437\ttest: 26865.9684989\tbest: 26803.8040928 (5537)\ttotal: 4m 16s\tremaining: 1m 4s\n",
      "8200:\tlearn: 18361.5148824\ttest: 26875.1424182\tbest: 26803.8040928 (5537)\ttotal: 4m 23s\tremaining: 57.7s\n",
      "8400:\tlearn: 18320.3527388\ttest: 26879.8754576\tbest: 26803.8040928 (5537)\ttotal: 4m 29s\tremaining: 51.3s\n",
      "8600:\tlearn: 18273.7844367\ttest: 26877.9017496\tbest: 26803.8040928 (5537)\ttotal: 4m 35s\tremaining: 44.8s\n",
      "8800:\tlearn: 18222.1273392\ttest: 26897.6293837\tbest: 26803.8040928 (5537)\ttotal: 4m 41s\tremaining: 38.4s\n",
      "9000:\tlearn: 18173.1762387\ttest: 26889.0065497\tbest: 26803.8040928 (5537)\ttotal: 4m 48s\tremaining: 32s\n",
      "9200:\tlearn: 18122.5592209\ttest: 26895.2015623\tbest: 26803.8040928 (5537)\ttotal: 4m 54s\tremaining: 25.6s\n",
      "9400:\tlearn: 18083.5713975\ttest: 26899.4391248\tbest: 26803.8040928 (5537)\ttotal: 5m\tremaining: 19.2s\n",
      "9600:\tlearn: 18055.5831777\ttest: 26902.3848185\tbest: 26803.8040928 (5537)\ttotal: 5m 6s\tremaining: 12.7s\n",
      "9800:\tlearn: 18023.9344585\ttest: 26907.8917563\tbest: 26803.8040928 (5537)\ttotal: 5m 12s\tremaining: 6.35s\n",
      "9999:\tlearn: 17985.5826229\ttest: 26906.0372064\tbest: 26803.8040928 (5537)\ttotal: 5m 19s\tremaining: 0us\n",
      "bestTest = 26803.80409\n",
      "bestIteration = 5537\n",
      "Shrink model to first 5538 iterations.\n"
     ]
    },
    {
     "data": {
      "text/plain": [
       "<catboost.core.CatBoostRegressor at 0x7d5f083d9c90>"
      ]
     },
     "execution_count": 47,
     "metadata": {},
     "output_type": "execute_result"
    }
   ],
   "source": [
    "cat.fit(\n",
    "    train_pool, \n",
    "    eval_set = validation_pool,\n",
    "    verbose = 200\n",
    ") "
   ]
  },
  {
   "cell_type": "code",
   "execution_count": 48,
   "id": "87e024e2",
   "metadata": {
    "execution": {
     "iopub.execute_input": "2023-04-05T17:00:59.884736Z",
     "iopub.status.busy": "2023-04-05T17:00:59.884258Z",
     "iopub.status.idle": "2023-04-05T17:01:00.178011Z",
     "shell.execute_reply": "2023-04-05T17:01:00.177047Z"
    },
    "papermill": {
     "duration": 0.327256,
     "end_time": "2023-04-05T17:01:00.180976",
     "exception": false,
     "start_time": "2023-04-05T17:00:59.853720",
     "status": "completed"
    },
    "tags": []
   },
   "outputs": [],
   "source": [
    "df_test_mlb = pd.DataFrame(X_test_mlb, columns=mlb.classes_)\n",
    "\n",
    "# concatenate the new dataframe with the original dataframe\n",
    "df_test = pd.concat([df_test, df_test_mlb], axis=1)"
   ]
  },
  {
   "cell_type": "code",
   "execution_count": 49,
   "id": "ab36afe9",
   "metadata": {
    "execution": {
     "iopub.execute_input": "2023-04-05T17:01:00.242380Z",
     "iopub.status.busy": "2023-04-05T17:01:00.241906Z",
     "iopub.status.idle": "2023-04-05T17:01:00.949784Z",
     "shell.execute_reply": "2023-04-05T17:01:00.948723Z"
    },
    "papermill": {
     "duration": 0.740995,
     "end_time": "2023-04-05T17:01:00.952392",
     "exception": false,
     "start_time": "2023-04-05T17:01:00.211397",
     "status": "completed"
    },
    "tags": []
   },
   "outputs": [],
   "source": [
    "test_pool = Pool(\n",
    "    df_test.drop(columns = features_to_drop_catboost),\n",
    "    cat_features=categorical_features,\n",
    "    text_features=text_features,\n",
    ")"
   ]
  },
  {
   "cell_type": "code",
   "execution_count": 50,
   "id": "242d3ddb",
   "metadata": {
    "execution": {
     "iopub.execute_input": "2023-04-05T17:01:00.999290Z",
     "iopub.status.busy": "2023-04-05T17:01:00.998157Z",
     "iopub.status.idle": "2023-04-05T17:01:01.065524Z",
     "shell.execute_reply": "2023-04-05T17:01:01.064313Z"
    },
    "papermill": {
     "duration": 0.093462,
     "end_time": "2023-04-05T17:01:01.068311",
     "exception": false,
     "start_time": "2023-04-05T17:01:00.974849",
     "status": "completed"
    },
    "tags": []
   },
   "outputs": [
    {
     "data": {
      "text/plain": [
       "(5543, 4374)"
      ]
     },
     "execution_count": 50,
     "metadata": {},
     "output_type": "execute_result"
    }
   ],
   "source": [
    "df_test.drop(columns = features_to_drop_catboost).shape"
   ]
  },
  {
   "cell_type": "code",
   "execution_count": 51,
   "id": "1f0f7eda",
   "metadata": {
    "execution": {
     "iopub.execute_input": "2023-04-05T17:01:01.113903Z",
     "iopub.status.busy": "2023-04-05T17:01:01.113599Z",
     "iopub.status.idle": "2023-04-05T17:01:01.292265Z",
     "shell.execute_reply": "2023-04-05T17:01:01.291232Z"
    },
    "papermill": {
     "duration": 0.203785,
     "end_time": "2023-04-05T17:01:01.294444",
     "exception": false,
     "start_time": "2023-04-05T17:01:01.090659",
     "status": "completed"
    },
    "tags": []
   },
   "outputs": [
    {
     "data": {
      "text/plain": [
       "(16629, 4375)"
      ]
     },
     "execution_count": 51,
     "metadata": {},
     "output_type": "execute_result"
    }
   ],
   "source": [
    "df_train.drop(columns = features_to_drop_catboost).shape"
   ]
  },
  {
   "cell_type": "markdown",
   "id": "8575b0ea",
   "metadata": {
    "papermill": {
     "duration": 0.021997,
     "end_time": "2023-04-05T17:01:01.338741",
     "exception": false,
     "start_time": "2023-04-05T17:01:01.316744",
     "status": "completed"
    },
    "tags": []
   },
   "source": [
    "## Making a submission"
   ]
  },
  {
   "cell_type": "code",
   "execution_count": 52,
   "id": "8f5021ae",
   "metadata": {
    "execution": {
     "iopub.execute_input": "2023-04-05T17:01:01.384304Z",
     "iopub.status.busy": "2023-04-05T17:01:01.383936Z",
     "iopub.status.idle": "2023-04-05T17:01:01.770509Z",
     "shell.execute_reply": "2023-04-05T17:01:01.769424Z"
    },
    "papermill": {
     "duration": 0.412609,
     "end_time": "2023-04-05T17:01:01.773313",
     "exception": false,
     "start_time": "2023-04-05T17:01:01.360704",
     "status": "completed"
    },
    "tags": []
   },
   "outputs": [],
   "source": [
    "pred_catboost = cat.predict(test_pool)"
   ]
  },
  {
   "cell_type": "code",
   "execution_count": 53,
   "id": "e2affa81",
   "metadata": {
    "execution": {
     "iopub.execute_input": "2023-04-05T17:01:01.820414Z",
     "iopub.status.busy": "2023-04-05T17:01:01.819421Z",
     "iopub.status.idle": "2023-04-05T17:01:02.208078Z",
     "shell.execute_reply": "2023-04-05T17:01:02.207048Z"
    },
    "papermill": {
     "duration": 0.413965,
     "end_time": "2023-04-05T17:01:02.210221",
     "exception": false,
     "start_time": "2023-04-05T17:01:01.796256",
     "status": "completed"
    },
    "tags": []
   },
   "outputs": [
    {
     "data": {
      "text/plain": [
       "<AxesSubplot:ylabel='Count'>"
      ]
     },
     "execution_count": 53,
     "metadata": {},
     "output_type": "execute_result"
    },
    {
     "data": {
      "image/png": "[encoded data removed]",
      "text/plain": [
       "<Figure size 1000x600 with 1 Axes>"
      ]
     },
     "metadata": {},
     "output_type": "display_data"
    }
   ],
   "source": [
    "sns.histplot(pred_catboost, bins=100)"
   ]
  },
  {
   "cell_type": "code",
   "execution_count": 54,
   "id": "0ad3a992",
   "metadata": {
    "execution": {
     "iopub.execute_input": "2023-04-05T17:01:02.257279Z",
     "iopub.status.busy": "2023-04-05T17:01:02.256914Z",
     "iopub.status.idle": "2023-04-05T17:01:02.274744Z",
     "shell.execute_reply": "2023-04-05T17:01:02.273825Z"
    },
    "papermill": {
     "duration": 0.043629,
     "end_time": "2023-04-05T17:01:02.276914",
     "exception": false,
     "start_time": "2023-04-05T17:01:02.233285",
     "status": "completed"
    },
    "tags": []
   },
   "outputs": [],
   "source": [
    "pred_to_csv(pred_catboost, \"catboost\") # LB 0.49764"
   ]
  },
  {
   "cell_type": "code",
   "execution_count": 55,
   "id": "0c5345d3",
   "metadata": {
    "execution": {
     "iopub.execute_input": "2023-04-05T17:01:02.377920Z",
     "iopub.status.busy": "2023-04-05T17:01:02.377559Z",
     "iopub.status.idle": "2023-04-05T17:01:02.831179Z",
     "shell.execute_reply": "2023-04-05T17:01:02.830128Z"
    },
    "papermill": {
     "duration": 0.479972,
     "end_time": "2023-04-05T17:01:02.833541",
     "exception": false,
     "start_time": "2023-04-05T17:01:02.353569",
     "status": "completed"
    },
    "tags": []
   },
   "outputs": [
    {
     "data": {
      "image/png": "[encoded data removed]",
      "text/plain": [
       "<Figure size 800x800 with 1 Axes>"
      ]
     },
     "metadata": {},
     "output_type": "display_data"
    }
   ],
   "source": [
    "CAT_FI = cat.get_feature_importance()\n",
    "feat_dict = {}\n",
    "for col, val in sorted(zip(df_test.drop(\n",
    "        columns=features_to_drop_catboost).columns, CAT_FI),\n",
    "        key=lambda x: x[1], reverse=True):\n",
    "    feat_dict[col] = val\n",
    "\n",
    "feat_df = pd.DataFrame(\n",
    "    {'Feature': feat_dict.keys(), 'Importance': feat_dict.values()})[:25]\n",
    "\n",
    "\n",
    "values = feat_df.Importance\n",
    "plt.rcParams[\"figure.figsize\"] = (8, 8)\n",
    "idx = feat_df.Feature\n",
    "fig, ax = plt.subplots()\n",
    "sns.barplot(y=idx, x=values).set(title='Feature Importance')\n",
    "ax.set(xlabel='', ylabel='')\n",
    "plt.show()"
   ]
  },
  {
   "cell_type": "markdown",
   "id": "c925db3f",
   "metadata": {
    "papermill": {
     "duration": 0.023155,
     "end_time": "2023-04-05T17:01:02.880934",
     "exception": false,
     "start_time": "2023-04-05T17:01:02.857779",
     "status": "completed"
    },
    "tags": []
   },
   "source": [
    "# Pretrained tinyBERT on text<a id=\"section-four\">"
   ]
  },
  {
   "cell_type": "code",
   "execution_count": 56,
   "id": "7626dd6c",
   "metadata": {
    "execution": {
     "iopub.execute_input": "2023-04-05T17:01:02.929579Z",
     "iopub.status.busy": "2023-04-05T17:01:02.929239Z",
     "iopub.status.idle": "2023-04-05T17:01:22.422910Z",
     "shell.execute_reply": "2023-04-05T17:01:22.421809Z"
    },
    "papermill": {
     "duration": 19.520814,
     "end_time": "2023-04-05T17:01:22.425608",
     "exception": false,
     "start_time": "2023-04-05T17:01:02.904794",
     "status": "completed"
    },
    "tags": []
   },
   "outputs": [
    {
     "data": {
      "application/vnd.jupyter.widget-view+json": {
       "model_id": "2ad332e2f66a4aa28fbfbee16925b81a",
       "version_major": 2,
       "version_minor": 0
      },
      "text/plain": [
       "Downloading (…)okenizer_config.json:   0%|          | 0.00/401 [00:00<?, ?B/s]"
      ]
     },
     "metadata": {},
     "output_type": "display_data"
    },
    {
     "data": {
      "application/vnd.jupyter.widget-view+json": {
       "model_id": "fa56e74475e64cb6a132badfbe54e6fa",
       "version_major": 2,
       "version_minor": 0
      },
      "text/plain": [
       "Downloading (…)solve/main/vocab.txt: 0.00B [00:00, ?B/s]"
      ]
     },
     "metadata": {},
     "output_type": "display_data"
    },
    {
     "data": {
      "application/vnd.jupyter.widget-view+json": {
       "model_id": "7205cd605c8e4a788f13a1735c8a4a32",
       "version_major": 2,
       "version_minor": 0
      },
      "text/plain": [
       "Downloading (…)/main/tokenizer.json: 0.00B [00:00, ?B/s]"
      ]
     },
     "metadata": {},
     "output_type": "display_data"
    },
    {
     "data": {
      "application/vnd.jupyter.widget-view+json": {
       "model_id": "316e43565de14a4aa5d7cb2dd31c8615",
       "version_major": 2,
       "version_minor": 0
      },
      "text/plain": [
       "Downloading (…)cial_tokens_map.json:   0%|          | 0.00/112 [00:00<?, ?B/s]"
      ]
     },
     "metadata": {},
     "output_type": "display_data"
    },
    {
     "data": {
      "application/vnd.jupyter.widget-view+json": {
       "model_id": "70dc609ab5d94518bbfd522f5d7fbe00",
       "version_major": 2,
       "version_minor": 0
      },
      "text/plain": [
       "Downloading (…)lve/main/config.json:   0%|          | 0.00/715 [00:00<?, ?B/s]"
      ]
     },
     "metadata": {},
     "output_type": "display_data"
    },
    {
     "data": {
      "application/vnd.jupyter.widget-view+json": {
       "model_id": "055f4b4ae3144802aad4e9cf5b2a87ba",
       "version_major": 2,
       "version_minor": 0
      },
      "text/plain": [
       "Downloading (…)\"pytorch_model.bin\";:   0%|          | 0.00/118M [00:00<?, ?B/s]"
      ]
     },
     "metadata": {},
     "output_type": "display_data"
    },
    {
     "name": "stderr",
     "output_type": "stream",
     "text": [
      "Some weights of the model checkpoint at cointegrated/rubert-tiny2 were not used when initializing BertModel: ['cls.predictions.transform.LayerNorm.weight', 'cls.predictions.transform.dense.weight', 'cls.seq_relationship.weight', 'cls.predictions.decoder.weight', 'cls.predictions.bias', 'cls.seq_relationship.bias', 'cls.predictions.transform.dense.bias', 'cls.predictions.transform.LayerNorm.bias', 'cls.predictions.decoder.bias']\n",
      "- This IS expected if you are initializing BertModel from the checkpoint of a model trained on another task or with another architecture (e.g. initializing a BertForSequenceClassification model from a BertForPreTraining model).\n",
      "- This IS NOT expected if you are initializing BertModel from the checkpoint of a model that you expect to be exactly identical (initializing a BertForSequenceClassification model from a BertForSequenceClassification model).\n"
     ]
    }
   ],
   "source": [
    "from transformers import AutoTokenizer, AutoModel, AutoConfig\n",
    "\n",
    "pretrained_model = 'cointegrated/rubert-tiny2'\n",
    "tokenizer = AutoTokenizer.from_pretrained(pretrained_model)\n",
    "config = AutoConfig.from_pretrained(pretrained_model)\n",
    "model = AutoModel.from_pretrained(pretrained_model, output_hidden_states=True)"
   ]
  },
  {
   "cell_type": "code",
   "execution_count": 57,
   "id": "ec661a2b",
   "metadata": {
    "execution": {
     "iopub.execute_input": "2023-04-05T17:01:22.477489Z",
     "iopub.status.busy": "2023-04-05T17:01:22.476410Z",
     "iopub.status.idle": "2023-04-05T17:01:23.130410Z",
     "shell.execute_reply": "2023-04-05T17:01:23.129231Z"
    },
    "papermill": {
     "duration": 0.682276,
     "end_time": "2023-04-05T17:01:23.132937",
     "exception": false,
     "start_time": "2023-04-05T17:01:22.450661",
     "status": "completed"
    },
    "tags": []
   },
   "outputs": [
    {
     "data": {
      "image/png": "[encoded data removed]",
      "text/plain": [
       "<Figure size 1200x800 with 1 Axes>"
      ]
     },
     "metadata": {},
     "output_type": "display_data"
    }
   ],
   "source": [
    "df_train['word_len'] = df_train.description.apply(lambda x: len(x.split()))\n",
    "plt.figure(figsize=(12, 8))\n",
    "sns.histplot(data=df_train.word_len)\n",
    "plt.show()"
   ]
  },
  {
   "cell_type": "code",
   "execution_count": 58,
   "id": "32a7eb19",
   "metadata": {
    "execution": {
     "iopub.execute_input": "2023-04-05T17:01:23.193476Z",
     "iopub.status.busy": "2023-04-05T17:01:23.192344Z",
     "iopub.status.idle": "2023-04-05T17:01:35.270981Z",
     "shell.execute_reply": "2023-04-05T17:01:35.269893Z"
    },
    "papermill": {
     "duration": 12.111497,
     "end_time": "2023-04-05T17:01:35.273595",
     "exception": false,
     "start_time": "2023-04-05T17:01:23.162098",
     "status": "completed"
    },
    "tags": []
   },
   "outputs": [],
   "source": [
    "train_tokens = tokenizer((df_train.text).tolist(),\n",
    "                   add_special_tokens=True,\n",
    "                   padding='max_length',\n",
    "                   truncation='longest_first',\n",
    "                   max_length=512,\n",
    "                   return_attention_mask=True,\n",
    "                   return_tensors='pt'\n",
    "                   )"
   ]
  },
  {
   "cell_type": "code",
   "execution_count": 59,
   "id": "4780eb16",
   "metadata": {
    "execution": {
     "iopub.execute_input": "2023-04-05T17:01:35.325153Z",
     "iopub.status.busy": "2023-04-05T17:01:35.324307Z",
     "iopub.status.idle": "2023-04-05T17:01:35.358514Z",
     "shell.execute_reply": "2023-04-05T17:01:35.357548Z"
    },
    "papermill": {
     "duration": 0.062274,
     "end_time": "2023-04-05T17:01:35.360860",
     "exception": false,
     "start_time": "2023-04-05T17:01:35.298586",
     "status": "completed"
    },
    "tags": []
   },
   "outputs": [],
   "source": [
    "input_ids = train_tokens['input_ids']\n",
    "attention_mask = train_tokens['attention_mask']\n",
    "input_ids = np.array(input_ids)\n",
    "attention_mask = np.array(attention_mask)\n",
    "labels = df_train.salary.to_numpy()"
   ]
  },
  {
   "cell_type": "code",
   "execution_count": 60,
   "id": "f78bc1fb",
   "metadata": {
    "execution": {
     "iopub.execute_input": "2023-04-05T17:01:35.411973Z",
     "iopub.status.busy": "2023-04-05T17:01:35.411079Z",
     "iopub.status.idle": "2023-04-05T17:01:35.465391Z",
     "shell.execute_reply": "2023-04-05T17:01:35.464310Z"
    },
    "papermill": {
     "duration": 0.082494,
     "end_time": "2023-04-05T17:01:35.468193",
     "exception": false,
     "start_time": "2023-04-05T17:01:35.385699",
     "status": "completed"
    },
    "tags": []
   },
   "outputs": [],
   "source": [
    "train_size = 0.9\n",
    "seed = 42\n",
    "\n",
    "train_inputs, val_inputs, train_labels, val_labels, train_indices, val_indices = \\\n",
    "    train_test_split(\n",
    "        input_ids,\n",
    "        labels,\n",
    "        np.arange(labels.size),\n",
    "        train_size=train_size,\n",
    "        random_state=seed\n",
    "    )\n",
    "\n",
    "train_masks, val_masks, _, _ = train_test_split(\n",
    "    attention_mask,\n",
    "    labels,\n",
    "    train_size=train_size,\n",
    "    random_state=seed\n",
    ")"
   ]
  },
  {
   "cell_type": "code",
   "execution_count": 61,
   "id": "0ebfe246",
   "metadata": {
    "execution": {
     "iopub.execute_input": "2023-04-05T17:01:35.526322Z",
     "iopub.status.busy": "2023-04-05T17:01:35.522253Z",
     "iopub.status.idle": "2023-04-05T17:01:35.542415Z",
     "shell.execute_reply": "2023-04-05T17:01:35.541219Z"
    },
    "papermill": {
     "duration": 0.049388,
     "end_time": "2023-04-05T17:01:35.545532",
     "exception": false,
     "start_time": "2023-04-05T17:01:35.496144",
     "status": "completed"
    },
    "tags": []
   },
   "outputs": [],
   "source": [
    "from sklearn.preprocessing import StandardScaler\n",
    "\n",
    "scaler = StandardScaler()\n",
    "scaler.fit(train_labels.reshape(-1, 1))\n",
    "train_labels = scaler.transform(train_labels.reshape(-1, 1))\n",
    "val_labels = scaler.transform(val_labels.reshape(-1, 1))"
   ]
  },
  {
   "cell_type": "code",
   "execution_count": 62,
   "id": "27dd5196",
   "metadata": {
    "execution": {
     "iopub.execute_input": "2023-04-05T17:01:35.610237Z",
     "iopub.status.busy": "2023-04-05T17:01:35.609196Z",
     "iopub.status.idle": "2023-04-05T17:01:35.702122Z",
     "shell.execute_reply": "2023-04-05T17:01:35.701075Z"
    },
    "papermill": {
     "duration": 0.121266,
     "end_time": "2023-04-05T17:01:35.704897",
     "exception": false,
     "start_time": "2023-04-05T17:01:35.583631",
     "status": "completed"
    },
    "tags": []
   },
   "outputs": [],
   "source": [
    "import torch\n",
    "from torch.utils.data import TensorDataset, DataLoader\n",
    "\n",
    "batch_size = 64\n",
    "\n",
    "def create_dataloaders(inputs, masks, labels, batch_size, shuffle=True):\n",
    "    input_tensor = torch.tensor(inputs)\n",
    "    mask_tensor = torch.tensor(masks)\n",
    "    labels_tensor = torch.tensor(labels)\n",
    "    dataset = TensorDataset(input_tensor, mask_tensor, \n",
    "                            labels_tensor)\n",
    "    dataloader = DataLoader(dataset, batch_size=batch_size, \n",
    "                            shuffle=shuffle)\n",
    "    return dataloader\n",
    "\n",
    "train_dataloader = create_dataloaders(train_inputs, train_masks, \n",
    "                                      train_labels, batch_size)\n",
    "val_dataloader = create_dataloaders(val_inputs, val_masks, \n",
    "                                     val_labels, batch_size, shuffle=False)"
   ]
  },
  {
   "cell_type": "code",
   "execution_count": 63,
   "id": "b8ce18ee",
   "metadata": {
    "execution": {
     "iopub.execute_input": "2023-04-05T17:01:35.760897Z",
     "iopub.status.busy": "2023-04-05T17:01:35.760569Z",
     "iopub.status.idle": "2023-04-05T17:01:35.767062Z",
     "shell.execute_reply": "2023-04-05T17:01:35.766035Z"
    },
    "papermill": {
     "duration": 0.039767,
     "end_time": "2023-04-05T17:01:35.769311",
     "exception": false,
     "start_time": "2023-04-05T17:01:35.729544",
     "status": "completed"
    },
    "tags": []
   },
   "outputs": [],
   "source": [
    "import torch.nn as nn\n",
    "\n",
    "class TinyBERT(nn.Module):\n",
    "    \n",
    "    def __init__(self, drop_rate=0.2):\n",
    "        \n",
    "        super().__init__()\n",
    "        \n",
    "        self.transferred = model\n",
    "        self.output = nn.Sequential(\n",
    "            nn.LeakyReLU(),\n",
    "            nn.Dropout(drop_rate),\n",
    "            nn.Linear(312, 1))\n",
    "        \n",
    "    def forward(self, input_ids, attention_masks):\n",
    "        \n",
    "        outputs = self.transferred(input_ids, attention_masks)\n",
    "        class_label_output = outputs[1]\n",
    "        outputs = self.output(class_label_output)\n",
    "        \n",
    "        return outputs\n"
   ]
  },
  {
   "cell_type": "code",
   "execution_count": 64,
   "id": "f5974420",
   "metadata": {
    "execution": {
     "iopub.execute_input": "2023-04-05T17:01:35.820259Z",
     "iopub.status.busy": "2023-04-05T17:01:35.819299Z",
     "iopub.status.idle": "2023-04-05T17:01:35.829367Z",
     "shell.execute_reply": "2023-04-05T17:01:35.827996Z"
    },
    "papermill": {
     "duration": 0.03771,
     "end_time": "2023-04-05T17:01:35.831608",
     "exception": false,
     "start_time": "2023-04-05T17:01:35.793898",
     "status": "completed"
    },
    "tags": []
   },
   "outputs": [
    {
     "name": "stdout",
     "output_type": "stream",
     "text": [
      "Using GPU.\n",
      "\n"
     ]
    }
   ],
   "source": [
    "import torch\n",
    "if torch.cuda.is_available():       \n",
    "    device = torch.device(\"cuda\")\n",
    "    print(\"Using GPU.\")\n",
    "else:\n",
    "    print(\"No GPU available, using the CPU instead.\")\n",
    "    device = torch.device(\"cpu\")\n",
    "print(\"\")"
   ]
  },
  {
   "cell_type": "code",
   "execution_count": 65,
   "id": "687e684b",
   "metadata": {
    "execution": {
     "iopub.execute_input": "2023-04-05T17:01:35.884909Z",
     "iopub.status.busy": "2023-04-05T17:01:35.884584Z",
     "iopub.status.idle": "2023-04-05T17:01:37.129907Z",
     "shell.execute_reply": "2023-04-05T17:01:37.128871Z"
    },
    "papermill": {
     "duration": 1.276306,
     "end_time": "2023-04-05T17:01:37.132539",
     "exception": false,
     "start_time": "2023-04-05T17:01:35.856233",
     "status": "completed"
    },
    "tags": []
   },
   "outputs": [],
   "source": [
    "import pytorch_lightning as pl\n",
    "from torch.nn.utils.clip_grad import clip_grad_norm_\n",
    "from torchmetrics import R2Score\n",
    "from transformers import get_linear_schedule_with_warmup\n",
    "from transformers import AdamW\n",
    "\n",
    "def r2_loss(output, target):\n",
    "    target_mean = torch.mean(target)\n",
    "    ss_tot = torch.sum((target - target_mean) ** 2)\n",
    "    ss_res = torch.sum((target - output) ** 2)\n",
    "    r2 = 1 - ss_res / ss_tot\n",
    "    return r2\n",
    "\n",
    "class Regressor(pl.LightningModule):\n",
    "    \n",
    "    def __init__(self, model, lr=5e-5, eps=1e-8, n_epochs=10):\n",
    "        super().__init__()\n",
    "        \n",
    "        self.model = model\n",
    "        self.optimizer = AdamW(self.model.parameters(), lr=lr, eps=eps)\n",
    "        self.loss = nn.MSELoss()\n",
    "        self.eps = eps\n",
    "        \n",
    "    def forward(self, inp, mask):\n",
    "        return self.model(inp, mask)\n",
    "    \n",
    "    def training_step(self, tr_batch, batch_idx):\n",
    "        \n",
    "        inputs, masks, labels = tr_batch\n",
    "        outputs = self.model(inputs, masks)\n",
    "        loss = self.loss(outputs.squeeze().float(), labels.squeeze().float())\n",
    "        score = r2_loss(outputs, labels)\n",
    "        \n",
    "        self.log(\n",
    "            \"train_loss\",\n",
    "            loss,\n",
    "            on_step=False, on_epoch=True, prog_bar=True, logger=True\n",
    "        )\n",
    "        self.log(\n",
    "            \"train_r2\",\n",
    "            score,\n",
    "            on_step=False, on_epoch=True, prog_bar=True, logger=True\n",
    "        )\n",
    "        \n",
    "        return loss\n",
    "    \n",
    "    def validation_step(self, val_batch, batch_idx) -> None:\n",
    "        \n",
    "        inputs, masks, labels = val_batch\n",
    "        outputs = self.model(inputs, masks)\n",
    "        loss = self.loss(outputs.squeeze(), labels.squeeze())\n",
    "        score = r2_loss(outputs, labels)\n",
    "        \n",
    "        self.log(\n",
    "            \"val_loss\",\n",
    "            loss,\n",
    "            on_step=False, on_epoch=True, prog_bar=True, logger=True\n",
    "        )\n",
    "        self.log(\n",
    "            \"val_r2\",\n",
    "            score,\n",
    "            on_step=False, on_epoch=True, prog_bar=True, logger=True\n",
    "        )\n",
    "        \n",
    "        return loss.float()\n",
    "    \n",
    "    def configure_optimizers(self):\n",
    "        return {\"optimizer\": self.optimizer,\n",
    "                \"monitor\": \"r2\"}"
   ]
  },
  {
   "cell_type": "code",
   "execution_count": 66,
   "id": "1bd80f6f",
   "metadata": {
    "execution": {
     "iopub.execute_input": "2023-04-05T17:01:37.191726Z",
     "iopub.status.busy": "2023-04-05T17:01:37.190900Z",
     "iopub.status.idle": "2023-04-05T17:01:37.199766Z",
     "shell.execute_reply": "2023-04-05T17:01:37.198793Z"
    },
    "papermill": {
     "duration": 0.03848,
     "end_time": "2023-04-05T17:01:37.202043",
     "exception": false,
     "start_time": "2023-04-05T17:01:37.163563",
     "status": "completed"
    },
    "tags": []
   },
   "outputs": [],
   "source": [
    "import random\n",
    "import os\n",
    "\n",
    "def seed_everything(seed):\n",
    "    # Фискирует максимум сидов.\n",
    "    # Это понадобится, чтобы сравнение оптимизаторов было корректным\n",
    "    random.seed(seed)\n",
    "    os.environ[\"PYTHONHASHSEED\"] = str(seed)\n",
    "    np.random.seed(seed)\n",
    "    torch.manual_seed(seed)\n",
    "    torch.cuda.manual_seed(seed)\n",
    "    torch.backends.cudnn.deterministic = True\n",
    "\n",
    "seed_everything(42)"
   ]
  },
  {
   "cell_type": "code",
   "execution_count": 67,
   "id": "4c51247a",
   "metadata": {
    "execution": {
     "iopub.execute_input": "2023-04-05T17:01:37.255968Z",
     "iopub.status.busy": "2023-04-05T17:01:37.255643Z",
     "iopub.status.idle": "2023-04-05T17:07:25.961236Z",
     "shell.execute_reply": "2023-04-05T17:07:25.960154Z"
    },
    "papermill": {
     "duration": 348.735555,
     "end_time": "2023-04-05T17:07:25.963781",
     "exception": false,
     "start_time": "2023-04-05T17:01:37.228226",
     "status": "completed"
    },
    "tags": []
   },
   "outputs": [
    {
     "data": {
      "application/vnd.jupyter.widget-view+json": {
       "model_id": "77eb9d9fe4704ea999b1a899eae3b44d",
       "version_major": 2,
       "version_minor": 0
      },
      "text/plain": [
       "Sanity Checking: 0it [00:00, ?it/s]"
      ]
     },
     "metadata": {},
     "output_type": "display_data"
    },
    {
     "data": {
      "application/vnd.jupyter.widget-view+json": {
       "model_id": "c963547f9a0c40d5ae5cef6b1630a943",
       "version_major": 2,
       "version_minor": 0
      },
      "text/plain": [
       "Training: 0it [00:00, ?it/s]"
      ]
     },
     "metadata": {},
     "output_type": "display_data"
    },
    {
     "data": {
      "application/vnd.jupyter.widget-view+json": {
       "model_id": "74512181c6a1497d897e3eb5f6f50ef3",
       "version_major": 2,
       "version_minor": 0
      },
      "text/plain": [
       "Validation: 0it [00:00, ?it/s]"
      ]
     },
     "metadata": {},
     "output_type": "display_data"
    },
    {
     "data": {
      "application/vnd.jupyter.widget-view+json": {
       "model_id": "a4bdd8827b7c469096146dcecc25b8ce",
       "version_major": 2,
       "version_minor": 0
      },
      "text/plain": [
       "Validation: 0it [00:00, ?it/s]"
      ]
     },
     "metadata": {},
     "output_type": "display_data"
    },
    {
     "data": {
      "application/vnd.jupyter.widget-view+json": {
       "model_id": "20b2e2d7d5e6446392fe1d4a14c21948",
       "version_major": 2,
       "version_minor": 0
      },
      "text/plain": [
       "Validation: 0it [00:00, ?it/s]"
      ]
     },
     "metadata": {},
     "output_type": "display_data"
    },
    {
     "data": {
      "application/vnd.jupyter.widget-view+json": {
       "model_id": "6f5708ae3afe43fc936a72727484e100",
       "version_major": 2,
       "version_minor": 0
      },
      "text/plain": [
       "Validation: 0it [00:00, ?it/s]"
      ]
     },
     "metadata": {},
     "output_type": "display_data"
    },
    {
     "data": {
      "application/vnd.jupyter.widget-view+json": {
       "model_id": "959f2603c64a47769b69f7b93fa22d33",
       "version_major": 2,
       "version_minor": 0
      },
      "text/plain": [
       "Validation: 0it [00:00, ?it/s]"
      ]
     },
     "metadata": {},
     "output_type": "display_data"
    }
   ],
   "source": [
    "from pytorch_lightning.callbacks.early_stopping import EarlyStopping\n",
    "bert = TinyBERT(drop_rate=0.5)\n",
    "model_nn = Regressor(bert).to(device)\n",
    "\n",
    "trainer = pl.Trainer(\n",
    "    max_epochs=5,\n",
    "    accelerator=\"gpu\",\n",
    "    #callbacks=[EarlyStopping(monitor=\"val_r2\", mode=\"min\", patience=2)]\n",
    ")\n",
    "\n",
    "trainer.fit(model_nn, train_dataloader, val_dataloader)"
   ]
  },
  {
   "cell_type": "code",
   "execution_count": 68,
   "id": "50006b80",
   "metadata": {
    "execution": {
     "iopub.execute_input": "2023-04-05T17:07:26.019250Z",
     "iopub.status.busy": "2023-04-05T17:07:26.018154Z",
     "iopub.status.idle": "2023-04-05T17:07:26.962770Z",
     "shell.execute_reply": "2023-04-05T17:07:26.961182Z"
    },
    "papermill": {
     "duration": 0.986028,
     "end_time": "2023-04-05T17:07:26.976549",
     "exception": false,
     "start_time": "2023-04-05T17:07:25.990521",
     "status": "completed"
    },
    "tags": []
   },
   "outputs": [],
   "source": [
    "torch.save(model_nn, \"rubert-tiny\")"
   ]
  },
  {
   "cell_type": "code",
   "execution_count": 69,
   "id": "38529891",
   "metadata": {
    "execution": {
     "iopub.execute_input": "2023-04-05T17:07:27.202985Z",
     "iopub.status.busy": "2023-04-05T17:07:27.201983Z",
     "iopub.status.idle": "2023-04-05T17:07:27.207206Z",
     "shell.execute_reply": "2023-04-05T17:07:27.206198Z"
    },
    "papermill": {
     "duration": 0.116498,
     "end_time": "2023-04-05T17:07:27.212272",
     "exception": false,
     "start_time": "2023-04-05T17:07:27.095774",
     "status": "completed"
    },
    "tags": []
   },
   "outputs": [],
   "source": [
    "# model_nn = Regressor(bert).to(device)\n",
    "\n",
    "# checkpoint = torch.load(\"/kaggle/input/2nd_step_nns/rubert-tiny\")\n",
    "# model_nn.load_state_dict(checkpoint['model_state_dict'])"
   ]
  },
  {
   "cell_type": "code",
   "execution_count": 70,
   "id": "17caff48",
   "metadata": {
    "execution": {
     "iopub.execute_input": "2023-04-05T17:07:27.275806Z",
     "iopub.status.busy": "2023-04-05T17:07:27.275478Z",
     "iopub.status.idle": "2023-04-05T17:07:27.281557Z",
     "shell.execute_reply": "2023-04-05T17:07:27.280463Z"
    },
    "papermill": {
     "duration": 0.035535,
     "end_time": "2023-04-05T17:07:27.283764",
     "exception": false,
     "start_time": "2023-04-05T17:07:27.248229",
     "status": "completed"
    },
    "tags": []
   },
   "outputs": [],
   "source": [
    "def predict(model, dataloader, device):\n",
    "    model.eval()\n",
    "    output = []\n",
    "    for batch in dataloader:\n",
    "        batch_inputs, batch_masks, _ = \\\n",
    "            tuple(b.to(device) for b in batch)\n",
    "        with torch.no_grad():\n",
    "            output += model.model(batch_inputs,\n",
    "                                  batch_masks).view(1, -1).tolist()[0]\n",
    "    return output\n"
   ]
  },
  {
   "cell_type": "code",
   "execution_count": 71,
   "id": "c5531c51",
   "metadata": {
    "execution": {
     "iopub.execute_input": "2023-04-05T17:07:27.339058Z",
     "iopub.status.busy": "2023-04-05T17:07:27.338157Z",
     "iopub.status.idle": "2023-04-05T17:07:31.671278Z",
     "shell.execute_reply": "2023-04-05T17:07:31.670026Z"
    },
    "papermill": {
     "duration": 4.363468,
     "end_time": "2023-04-05T17:07:31.674099",
     "exception": false,
     "start_time": "2023-04-05T17:07:27.310631",
     "status": "completed"
    },
    "tags": []
   },
   "outputs": [],
   "source": [
    "test_tokens = tokenizer(\n",
    "                        text=(df_test.text).tolist(),\n",
    "                        add_special_tokens=True,\n",
    "                        padding='max_length',\n",
    "                        truncation='longest_first',\n",
    "                        max_length=512,\n",
    "                        return_attention_mask=True,\n",
    "                        return_tensors='pt'\n",
    "                        )\n",
    "test_input_ids = np.array(test_tokens['input_ids'])\n",
    "test_attention_mask = np.array(test_tokens['attention_mask'])\n",
    "\n",
    "test_dataloader = create_dataloaders(\n",
    "                                     test_input_ids,\n",
    "                                     test_attention_mask,\n",
    "                                     np.ones(test_input_ids.shape[0]),\n",
    "                                     batch_size,\n",
    "                                     shuffle=False\n",
    "                                     )"
   ]
  },
  {
   "cell_type": "code",
   "execution_count": 72,
   "id": "1a1c7abb",
   "metadata": {
    "execution": {
     "iopub.execute_input": "2023-04-05T17:07:31.729084Z",
     "iopub.status.busy": "2023-04-05T17:07:31.728092Z",
     "iopub.status.idle": "2023-04-05T17:07:39.732009Z",
     "shell.execute_reply": "2023-04-05T17:07:39.730965Z"
    },
    "papermill": {
     "duration": 8.033811,
     "end_time": "2023-04-05T17:07:39.734835",
     "exception": false,
     "start_time": "2023-04-05T17:07:31.701024",
     "status": "completed"
    },
    "tags": []
   },
   "outputs": [],
   "source": [
    "pred_bert_scaled = predict(model_nn.to(device), test_dataloader, device)\n",
    "pred_bert = scaler.inverse_transform(np.array(pred_bert_scaled).reshape(-1, 1)).flatten()"
   ]
  },
  {
   "cell_type": "code",
   "execution_count": 73,
   "id": "067e5b47",
   "metadata": {
    "execution": {
     "iopub.execute_input": "2023-04-05T17:07:39.789389Z",
     "iopub.status.busy": "2023-04-05T17:07:39.788786Z",
     "iopub.status.idle": "2023-04-05T17:07:40.207876Z",
     "shell.execute_reply": "2023-04-05T17:07:40.206810Z"
    },
    "papermill": {
     "duration": 0.448676,
     "end_time": "2023-04-05T17:07:40.210446",
     "exception": false,
     "start_time": "2023-04-05T17:07:39.761770",
     "status": "completed"
    },
    "tags": []
   },
   "outputs": [
    {
     "data": {
      "text/plain": [
       "<AxesSubplot:ylabel='Count'>"
      ]
     },
     "execution_count": 73,
     "metadata": {},
     "output_type": "execute_result"
    },
    {
     "data": {
      "image/png": "[encoded data removed]",
      "text/plain": [
       "<Figure size 800x800 with 1 Axes>"
      ]
     },
     "metadata": {},
     "output_type": "display_data"
    }
   ],
   "source": [
    "sns.histplot(pred_bert, bins=100)"
   ]
  },
  {
   "cell_type": "code",
   "execution_count": 74,
   "id": "59cc6ca7",
   "metadata": {
    "execution": {
     "iopub.execute_input": "2023-04-05T17:07:40.266349Z",
     "iopub.status.busy": "2023-04-05T17:07:40.265396Z",
     "iopub.status.idle": "2023-04-05T17:07:40.284209Z",
     "shell.execute_reply": "2023-04-05T17:07:40.283227Z"
    },
    "papermill": {
     "duration": 0.048698,
     "end_time": "2023-04-05T17:07:40.286484",
     "exception": false,
     "start_time": "2023-04-05T17:07:40.237786",
     "status": "completed"
    },
    "tags": []
   },
   "outputs": [],
   "source": [
    "pred_to_csv(pred_bert, \"rubert-tiny\") # LB 0.52732"
   ]
  },
  {
   "cell_type": "markdown",
   "id": "40126bd5",
   "metadata": {
    "papermill": {
     "duration": 0.026424,
     "end_time": "2023-04-05T17:07:40.340071",
     "exception": false,
     "start_time": "2023-04-05T17:07:40.313647",
     "status": "completed"
    },
    "tags": []
   },
   "source": [
    "# Basic blend of model predictions<a id=\"section-five\">"
   ]
  },
  {
   "cell_type": "code",
   "execution_count": 75,
   "id": "80ebf12e",
   "metadata": {
    "execution": {
     "iopub.execute_input": "2023-04-05T17:07:40.394882Z",
     "iopub.status.busy": "2023-04-05T17:07:40.394542Z",
     "iopub.status.idle": "2023-04-05T17:07:40.412498Z",
     "shell.execute_reply": "2023-04-05T17:07:40.411554Z"
    },
    "papermill": {
     "duration": 0.048112,
     "end_time": "2023-04-05T17:07:40.414628",
     "exception": false,
     "start_time": "2023-04-05T17:07:40.366516",
     "status": "completed"
    },
    "tags": []
   },
   "outputs": [],
   "source": [
    "basic_blend = (pred_lin + pred_catboost + pred_bert) / 3\n",
    "pred_to_csv(basic_blend, \"blend\") # LB 0.57189"
   ]
  }
 ],
 "metadata": {
  "kernelspec": {
   "display_name": "Python 3",
   "language": "python",
   "name": "python3"
  },
  "language_info": {
   "codemirror_mode": {
    "name": "ipython",
    "version": 3
   },
   "file_extension": ".py",
   "mimetype": "text/x-python",
   "name": "python",
   "nbconvert_exporter": "python",
   "pygments_lexer": "ipython3",
   "version": "3.7.12"
  },
  "papermill": {
   "default_parameters": {},
   "duration": 1027.290399,
   "end_time": "2023-04-05T17:07:44.093589",
   "environment_variables": {},
   "exception": null,
   "input_path": "__notebook__.ipynb",
   "output_path": "__notebook__.ipynb",
   "parameters": {},
   "start_time": "2023-04-05T16:50:36.803190",
   "version": "2.4.0"
  },
  "widgets": {
   "application/vnd.jupyter.widget-state+json": {
    "state": {
     "0180e0dceed44d60aa8aeee8a60f4e1f": {
      "model_module": "@jupyter-widgets/controls",
      "model_module_version": "1.5.0",
      "model_name": "FloatProgressModel",
      "state": {
       "_dom_classes": [],
       "_model_module": "@jupyter-widgets/controls",
       "_model_module_version": "1.5.0",
       "_model_name": "FloatProgressModel",
       "_view_count": null,
       "_view_module": "@jupyter-widgets/controls",
       "_view_module_version": "1.5.0",
       "_view_name": "ProgressView",
       "bar_style": "success",
       "description": "",
       "description_tooltip": null,
       "layout": "IPY_MODEL_8ec5d5de08c2496290412d398e3289d8",
       "max": 112.0,
       "min": 0.0,
       "orientation": "horizontal",
       "style": "IPY_MODEL_2ae4b8fb1dff4599aa379d5f0c97a892",
       "value": 112.0
      }
     },
     "055f4b4ae3144802aad4e9cf5b2a87ba": {
      "model_module": "@jupyter-widgets/controls",
      "model_module_version": "1.5.0",
      "model_name": "HBoxModel",
      "state": {
       "_dom_classes": [],
       "_model_module": "@jupyter-widgets/controls",
       "_model_module_version": "1.5.0",
       "_model_name": "HBoxModel",
       "_view_count": null,
       "_view_module": "@jupyter-widgets/controls",
       "_view_module_version": "1.5.0",
       "_view_name": "HBoxView",
       "box_style": "",
       "children": [
        "IPY_MODEL_f55a4c528fb44b8d8a14789f0076b29d",
        "IPY_MODEL_a9f57586e8ad4d7f8b885a31fc3f412a",
        "IPY_MODEL_ed315ff553f1498c9eb7f86df993d4ec"
       ],
       "layout": "IPY_MODEL_517386efa7a845f1977c61032d96e1fb"
      }
     },
     "06f4d673a5ee4bc88a61bdb073654f65": {
      "model_module": "@jupyter-widgets/base",
      "model_module_version": "1.2.0",
      "model_name": "LayoutModel",
      "state": {
       "_model_module": "@jupyter-widgets/base",
       "_model_module_version": "1.2.0",
       "_model_name": "LayoutModel",
       "_view_count": null,
       "_view_module": "@jupyter-widgets/base",
       "_view_module_version": "1.2.0",
       "_view_name": "LayoutView",
       "align_content": null,
       "align_items": null,
       "align_self": null,
       "border": null,
       "bottom": null,
       "display": null,
       "flex": null,
       "flex_flow": null,
       "grid_area": null,
       "grid_auto_columns": null,
       "grid_auto_flow": null,
       "grid_auto_rows": null,
       "grid_column": null,
       "grid_gap": null,
       "grid_row": null,
       "grid_template_areas": null,
       "grid_template_columns": null,
       "grid_template_rows": null,
       "height": null,
       "justify_content": null,
       "justify_items": null,
       "left": null,
       "margin": null,
       "max_height": null,
       "max_width": null,
       "min_height": null,
       "min_width": null,
       "object_fit": null,
       "object_position": null,
       "order": null,
       "overflow": null,
       "overflow_x": null,
       "overflow_y": null,
       "padding": null,
       "right": null,
       "top": null,
       "visibility": null,
       "width": null
      }
     },
     "075848ded2e94139b24a9c6a1db90bbd": {
      "model_module": "@jupyter-widgets/controls",
      "model_module_version": "1.5.0",
      "model_name": "HTMLModel",
      "state": {
       "_dom_classes": [],
       "_model_module": "@jupyter-widgets/controls",
       "_model_module_version": "1.5.0",
       "_model_name": "HTMLModel",
       "_view_count": null,
       "_view_module": "@jupyter-widgets/controls",
       "_view_module_version": "1.5.0",
       "_view_name": "HTMLView",
       "description": "",
       "description_tooltip": null,
       "layout": "IPY_MODEL_207238da1e70485399855a994eb604a1",
       "placeholder": "​",
       "style": "IPY_MODEL_d4c53d39b5a445bc9540f2824cd35134",
       "value": " 401/401 [00:00&lt;00:00, 17.1kB/s]"
      }
     },
     "0b1077a228c1436da856f91c70affad0": {
      "model_module": "@jupyter-widgets/controls",
      "model_module_version": "1.5.0",
      "model_name": "ProgressStyleModel",
      "state": {
       "_model_module": "@jupyter-widgets/controls",
       "_model_module_version": "1.5.0",
       "_model_name": "ProgressStyleModel",
       "_view_count": null,
       "_view_module": "@jupyter-widgets/base",
       "_view_module_version": "1.2.0",
       "_view_name": "StyleView",
       "bar_color": null,
       "description_width": ""
      }
     },
     "0d15f24f273e4d6ca63988d39aacd094": {
      "model_module": "@jupyter-widgets/base",
      "model_module_version": "1.2.0",
      "model_name": "LayoutModel",
      "state": {
       "_model_module": "@jupyter-widgets/base",
       "_model_module_version": "1.2.0",
       "_model_name": "LayoutModel",
       "_view_count": null,
       "_view_module": "@jupyter-widgets/base",
       "_view_module_version": "1.2.0",
       "_view_name": "LayoutView",
       "align_content": null,
       "align_items": null,
       "align_self": null,
       "border": null,
       "bottom": null,
       "display": null,
       "flex": "2",
       "flex_flow": null,
       "grid_area": null,
       "grid_auto_columns": null,
       "grid_auto_flow": null,
       "grid_auto_rows": null,
       "grid_column": null,
       "grid_gap": null,
       "grid_row": null,
       "grid_template_areas": null,
       "grid_template_columns": null,
       "grid_template_rows": null,
       "height": null,
       "justify_content": null,
       "justify_items": null,
       "left": null,
       "margin": null,
       "max_height": null,
       "max_width": null,
       "min_height": null,
       "min_width": null,
       "object_fit": null,
       "object_position": null,
       "order": null,
       "overflow": null,
       "overflow_x": null,
       "overflow_y": null,
       "padding": null,
       "right": null,
       "top": null,
       "visibility": null,
       "width": null
      }
     },
     "0d9acc463b884cf79e8d6f673589f041": {
      "model_module": "@jupyter-widgets/base",
      "model_module_version": "1.2.0",
      "model_name": "LayoutModel",
      "state": {
       "_model_module": "@jupyter-widgets/base",
       "_model_module_version": "1.2.0",
       "_model_name": "LayoutModel",
       "_view_count": null,
       "_view_module": "@jupyter-widgets/base",
       "_view_module_version": "1.2.0",
       "_view_name": "LayoutView",
       "align_content": null,
       "align_items": null,
       "align_self": null,
       "border": null,
       "bottom": null,
       "display": null,
       "flex": null,
       "flex_flow": null,
       "grid_area": null,
       "grid_auto_columns": null,
       "grid_auto_flow": null,
       "grid_auto_rows": null,
       "grid_column": null,
       "grid_gap": null,
       "grid_row": null,
       "grid_template_areas": null,
       "grid_template_columns": null,
       "grid_template_rows": null,
       "height": null,
       "justify_content": null,
       "justify_items": null,
       "left": null,
       "margin": null,
       "max_height": null,
       "max_width": null,
       "min_height": null,
       "min_width": null,
       "object_fit": null,
       "object_position": null,
       "order": null,
       "overflow": null,
       "overflow_x": null,
       "overflow_y": null,
       "padding": null,
       "right": null,
       "top": null,
       "visibility": null,
       "width": null
      }
     },
     "0efa51fe2a964763b29dc714a3ebf395": {
      "model_module": "@jupyter-widgets/controls",
      "model_module_version": "1.5.0",
      "model_name": "DescriptionStyleModel",
      "state": {
       "_model_module": "@jupyter-widgets/controls",
       "_model_module_version": "1.5.0",
       "_model_name": "DescriptionStyleModel",
       "_view_count": null,
       "_view_module": "@jupyter-widgets/base",
       "_view_module_version": "1.2.0",
       "_view_name": "StyleView",
       "description_width": ""
      }
     },
     "0f72aa4e10054b9b93597abad8d26c4c": {
      "model_module": "@jupyter-widgets/controls",
      "model_module_version": "1.5.0",
      "model_name": "DescriptionStyleModel",
      "state": {
       "_model_module": "@jupyter-widgets/controls",
       "_model_module_version": "1.5.0",
       "_model_name": "DescriptionStyleModel",
       "_view_count": null,
       "_view_module": "@jupyter-widgets/base",
       "_view_module_version": "1.2.0",
       "_view_name": "StyleView",
       "description_width": ""
      }
     },
     "0f9c5682931743a59a14b526c1458bee": {
      "model_module": "@jupyter-widgets/controls",
      "model_module_version": "1.5.0",
      "model_name": "ProgressStyleModel",
      "state": {
       "_model_module": "@jupyter-widgets/controls",
       "_model_module_version": "1.5.0",
       "_model_name": "ProgressStyleModel",
       "_view_count": null,
       "_view_module": "@jupyter-widgets/base",
       "_view_module_version": "1.2.0",
       "_view_name": "StyleView",
       "bar_color": null,
       "description_width": ""
      }
     },
     "0f9f06e25cb04a168bfa9a20b5cdb141": {
      "model_module": "@jupyter-widgets/base",
      "model_module_version": "1.2.0",
      "model_name": "LayoutModel",
      "state": {
       "_model_module": "@jupyter-widgets/base",
       "_model_module_version": "1.2.0",
       "_model_name": "LayoutModel",
       "_view_count": null,
       "_view_module": "@jupyter-widgets/base",
       "_view_module_version": "1.2.0",
       "_view_name": "LayoutView",
       "align_content": null,
       "align_items": null,
       "align_self": null,
       "border": null,
       "bottom": null,
       "display": null,
       "flex": null,
       "flex_flow": null,
       "grid_area": null,
       "grid_auto_columns": null,
       "grid_auto_flow": null,
       "grid_auto_rows": null,
       "grid_column": null,
       "grid_gap": null,
       "grid_row": null,
       "grid_template_areas": null,
       "grid_template_columns": null,
       "grid_template_rows": null,
       "height": null,
       "justify_content": null,
       "justify_items": null,
       "left": null,
       "margin": null,
       "max_height": null,
       "max_width": null,
       "min_height": null,
       "min_width": null,
       "object_fit": null,
       "object_position": null,
       "order": null,
       "overflow": null,
       "overflow_x": null,
       "overflow_y": null,
       "padding": null,
       "right": null,
       "top": null,
       "visibility": null,
       "width": null
      }
     },
     "11eda57c244f4a73b9e4a24f328121e3": {
      "model_module": "@jupyter-widgets/controls",
      "model_module_version": "1.5.0",
      "model_name": "ProgressStyleModel",
      "state": {
       "_model_module": "@jupyter-widgets/controls",
       "_model_module_version": "1.5.0",
       "_model_name": "ProgressStyleModel",
       "_view_count": null,
       "_view_module": "@jupyter-widgets/base",
       "_view_module_version": "1.2.0",
       "_view_name": "StyleView",
       "bar_color": null,
       "description_width": ""
      }
     },
     "16135c42f1f24c9da2b0c3c444470c36": {
      "model_module": "@jupyter-widgets/controls",
      "model_module_version": "1.5.0",
      "model_name": "HTMLModel",
      "state": {
       "_dom_classes": [],
       "_model_module": "@jupyter-widgets/controls",
       "_model_module_version": "1.5.0",
       "_model_name": "HTMLModel",
       "_view_count": null,
       "_view_module": "@jupyter-widgets/controls",
       "_view_module_version": "1.5.0",
       "_view_name": "HTMLView",
       "description": "",
       "description_tooltip": null,
       "layout": "IPY_MODEL_24e47f13e87448c1889e09a74a13ff5b",
       "placeholder": "​",
       "style": "IPY_MODEL_7866652892884ad2bac7041a68266075",
       "value": "Downloading (…)/main/tokenizer.json: "
      }
     },
     "177a35e801a54f2baf68af74bf3a3d6c": {
      "model_module": "@jupyter-widgets/base",
      "model_module_version": "1.2.0",
      "model_name": "LayoutModel",
      "state": {
       "_model_module": "@jupyter-widgets/base",
       "_model_module_version": "1.2.0",
       "_model_name": "LayoutModel",
       "_view_count": null,
       "_view_module": "@jupyter-widgets/base",
       "_view_module_version": "1.2.0",
       "_view_name": "LayoutView",
       "align_content": null,
       "align_items": null,
       "align_self": null,
       "border": null,
       "bottom": null,
       "display": null,
       "flex": null,
       "flex_flow": null,
       "grid_area": null,
       "grid_auto_columns": null,
       "grid_auto_flow": null,
       "grid_auto_rows": null,
       "grid_column": null,
       "grid_gap": null,
       "grid_row": null,
       "grid_template_areas": null,
       "grid_template_columns": null,
       "grid_template_rows": null,
       "height": null,
       "justify_content": null,
       "justify_items": null,
       "left": null,
       "margin": null,
       "max_height": null,
       "max_width": null,
       "min_height": null,
       "min_width": null,
       "object_fit": null,
       "object_position": null,
       "order": null,
       "overflow": null,
       "overflow_x": null,
       "overflow_y": null,
       "padding": null,
       "right": null,
       "top": null,
       "visibility": null,
       "width": null
      }
     },
     "190a669ce42a46809c995060bbe04cdf": {
      "model_module": "@jupyter-widgets/controls",
      "model_module_version": "1.5.0",
      "model_name": "DescriptionStyleModel",
      "state": {
       "_model_module": "@jupyter-widgets/controls",
       "_model_module_version": "1.5.0",
       "_model_name": "DescriptionStyleModel",
       "_view_count": null,
       "_view_module": "@jupyter-widgets/base",
       "_view_module_version": "1.2.0",
       "_view_name": "StyleView",
       "description_width": ""
      }
     },
     "1b620936a05f48eda596ee5c0755e0e8": {
      "model_module": "@jupyter-widgets/base",
      "model_module_version": "1.2.0",
      "model_name": "LayoutModel",
      "state": {
       "_model_module": "@jupyter-widgets/base",
       "_model_module_version": "1.2.0",
       "_model_name": "LayoutModel",
       "_view_count": null,
       "_view_module": "@jupyter-widgets/base",
       "_view_module_version": "1.2.0",
       "_view_name": "LayoutView",
       "align_content": null,
       "align_items": null,
       "align_self": null,
       "border": null,
       "bottom": null,
       "display": null,
       "flex": null,
       "flex_flow": null,
       "grid_area": null,
       "grid_auto_columns": null,
       "grid_auto_flow": null,
       "grid_auto_rows": null,
       "grid_column": null,
       "grid_gap": null,
       "grid_row": null,
       "grid_template_areas": null,
       "grid_template_columns": null,
       "grid_template_rows": null,
       "height": null,
       "justify_content": null,
       "justify_items": null,
       "left": null,
       "margin": null,
       "max_height": null,
       "max_width": null,
       "min_height": null,
       "min_width": null,
       "object_fit": null,
       "object_position": null,
       "order": null,
       "overflow": null,
       "overflow_x": null,
       "overflow_y": null,
       "padding": null,
       "right": null,
       "top": null,
       "visibility": null,
       "width": null
      }
     },
     "1b7bdf4240e14425aaa51022e41c1d44": {
      "model_module": "@jupyter-widgets/controls",
      "model_module_version": "1.5.0",
      "model_name": "ProgressStyleModel",
      "state": {
       "_model_module": "@jupyter-widgets/controls",
       "_model_module_version": "1.5.0",
       "_model_name": "ProgressStyleModel",
       "_view_count": null,
       "_view_module": "@jupyter-widgets/base",
       "_view_module_version": "1.2.0",
       "_view_name": "StyleView",
       "bar_color": null,
       "description_width": ""
      }
     },
     "1ba81bbfe515491d9e8ebbb319eb340f": {
      "model_module": "@jupyter-widgets/controls",
      "model_module_version": "1.5.0",
      "model_name": "HTMLModel",
      "state": {
       "_dom_classes": [],
       "_model_module": "@jupyter-widgets/controls",
       "_model_module_version": "1.5.0",
       "_model_name": "HTMLModel",
       "_view_count": null,
       "_view_module": "@jupyter-widgets/controls",
       "_view_module_version": "1.5.0",
       "_view_name": "HTMLView",
       "description": "",
       "description_tooltip": null,
       "layout": "IPY_MODEL_ce0d4d05b14840609a9addd4df65aab9",
       "placeholder": "​",
       "style": "IPY_MODEL_0efa51fe2a964763b29dc714a3ebf395",
       "value": "Downloading (…)okenizer_config.json: 100%"
      }
     },
     "1bd402ff99104d2b9683d0004b07af3e": {
      "model_module": "@jupyter-widgets/controls",
      "model_module_version": "1.5.0",
      "model_name": "DescriptionStyleModel",
      "state": {
       "_model_module": "@jupyter-widgets/controls",
       "_model_module_version": "1.5.0",
       "_model_name": "DescriptionStyleModel",
       "_view_count": null,
       "_view_module": "@jupyter-widgets/base",
       "_view_module_version": "1.2.0",
       "_view_name": "StyleView",
       "description_width": ""
      }
     },
     "1c00204ad61246b4bc22743d247b1e85": {
      "model_module": "@jupyter-widgets/base",
      "model_module_version": "1.2.0",
      "model_name": "LayoutModel",
      "state": {
       "_model_module": "@jupyter-widgets/base",
       "_model_module_version": "1.2.0",
       "_model_name": "LayoutModel",
       "_view_count": null,
       "_view_module": "@jupyter-widgets/base",
       "_view_module_version": "1.2.0",
       "_view_name": "LayoutView",
       "align_content": null,
       "align_items": null,
       "align_self": null,
       "border": null,
       "bottom": null,
       "display": null,
       "flex": null,
       "flex_flow": null,
       "grid_area": null,
       "grid_auto_columns": null,
       "grid_auto_flow": null,
       "grid_auto_rows": null,
       "grid_column": null,
       "grid_gap": null,
       "grid_row": null,
       "grid_template_areas": null,
       "grid_template_columns": null,
       "grid_template_rows": null,
       "height": null,
       "justify_content": null,
       "justify_items": null,
       "left": null,
       "margin": null,
       "max_height": null,
       "max_width": null,
       "min_height": null,
       "min_width": null,
       "object_fit": null,
       "object_position": null,
       "order": null,
       "overflow": null,
       "overflow_x": null,
       "overflow_y": null,
       "padding": null,
       "right": null,
       "top": null,
       "visibility": null,
       "width": null
      }
     },
     "207238da1e70485399855a994eb604a1": {
      "model_module": "@jupyter-widgets/base",
      "model_module_version": "1.2.0",
      "model_name": "LayoutModel",
      "state": {
       "_model_module": "@jupyter-widgets/base",
       "_model_module_version": "1.2.0",
       "_model_name": "LayoutModel",
       "_view_count": null,
       "_view_module": "@jupyter-widgets/base",
       "_view_module_version": "1.2.0",
       "_view_name": "LayoutView",
       "align_content": null,
       "align_items": null,
       "align_self": null,
       "border": null,
       "bottom": null,
       "display": null,
       "flex": null,
       "flex_flow": null,
       "grid_area": null,
       "grid_auto_columns": null,
       "grid_auto_flow": null,
       "grid_auto_rows": null,
       "grid_column": null,
       "grid_gap": null,
       "grid_row": null,
       "grid_template_areas": null,
       "grid_template_columns": null,
       "grid_template_rows": null,
       "height": null,
       "justify_content": null,
       "justify_items": null,
       "left": null,
       "margin": null,
       "max_height": null,
       "max_width": null,
       "min_height": null,
       "min_width": null,
       "object_fit": null,
       "object_position": null,
       "order": null,
       "overflow": null,
       "overflow_x": null,
       "overflow_y": null,
       "padding": null,
       "right": null,
       "top": null,
       "visibility": null,
       "width": null
      }
     },
     "20ab1237cac74dfe85c858149c3f72a8": {
      "model_module": "@jupyter-widgets/controls",
      "model_module_version": "1.5.0",
      "model_name": "DescriptionStyleModel",
      "state": {
       "_model_module": "@jupyter-widgets/controls",
       "_model_module_version": "1.5.0",
       "_model_name": "DescriptionStyleModel",
       "_view_count": null,
       "_view_module": "@jupyter-widgets/base",
       "_view_module_version": "1.2.0",
       "_view_name": "StyleView",
       "description_width": ""
      }
     },
     "20b2e2d7d5e6446392fe1d4a14c21948": {
      "model_module": "@jupyter-widgets/controls",
      "model_module_version": "1.5.0",
      "model_name": "HBoxModel",
      "state": {
       "_dom_classes": [],
       "_model_module": "@jupyter-widgets/controls",
       "_model_module_version": "1.5.0",
       "_model_name": "HBoxModel",
       "_view_count": null,
       "_view_module": "@jupyter-widgets/controls",
       "_view_module_version": "1.5.0",
       "_view_name": "HBoxView",
       "box_style": "",
       "children": [
        "IPY_MODEL_bd507ff3f1e34c24b0e6ac212b100270",
        "IPY_MODEL_8fc5bd1f95f545148dcbe02e7eea07f2",
        "IPY_MODEL_4a4d0f4c882a453889f3be68ee4944ed"
       ],
       "layout": "IPY_MODEL_c8c73992d381422aba0e2f44108be9b9"
      }
     },
     "20ec1148a41c4b3eb54a65a4934f8a6f": {
      "model_module": "@jupyter-widgets/base",
      "model_module_version": "1.2.0",
      "model_name": "LayoutModel",
      "state": {
       "_model_module": "@jupyter-widgets/base",
       "_model_module_version": "1.2.0",
       "_model_name": "LayoutModel",
       "_view_count": null,
       "_view_module": "@jupyter-widgets/base",
       "_view_module_version": "1.2.0",
       "_view_name": "LayoutView",
       "align_content": null,
       "align_items": null,
       "align_self": null,
       "border": null,
       "bottom": null,
       "display": null,
       "flex": "2",
       "flex_flow": null,
       "grid_area": null,
       "grid_auto_columns": null,
       "grid_auto_flow": null,
       "grid_auto_rows": null,
       "grid_column": null,
       "grid_gap": null,
       "grid_row": null,
       "grid_template_areas": null,
       "grid_template_columns": null,
       "grid_template_rows": null,
       "height": null,
       "justify_content": null,
       "justify_items": null,
       "left": null,
       "margin": null,
       "max_height": null,
       "max_width": null,
       "min_height": null,
       "min_width": null,
       "object_fit": null,
       "object_position": null,
       "order": null,
       "overflow": null,
       "overflow_x": null,
       "overflow_y": null,
       "padding": null,
       "right": null,
       "top": null,
       "visibility": null,
       "width": null
      }
     },
     "22e684173c7a429789aea0cdc584f004": {
      "model_module": "@jupyter-widgets/base",
      "model_module_version": "1.2.0",
      "model_name": "LayoutModel",
      "state": {
       "_model_module": "@jupyter-widgets/base",
       "_model_module_version": "1.2.0",
       "_model_name": "LayoutModel",
       "_view_count": null,
       "_view_module": "@jupyter-widgets/base",
       "_view_module_version": "1.2.0",
       "_view_name": "LayoutView",
       "align_content": null,
       "align_items": null,
       "align_self": null,
       "border": null,
       "bottom": null,
       "display": null,
       "flex": null,
       "flex_flow": null,
       "grid_area": null,
       "grid_auto_columns": null,
       "grid_auto_flow": null,
       "grid_auto_rows": null,
       "grid_column": null,
       "grid_gap": null,
       "grid_row": null,
       "grid_template_areas": null,
       "grid_template_columns": null,
       "grid_template_rows": null,
       "height": null,
       "justify_content": null,
       "justify_items": null,
       "left": null,
       "margin": null,
       "max_height": null,
       "max_width": null,
       "min_height": null,
       "min_width": null,
       "object_fit": null,
       "object_position": null,
       "order": null,
       "overflow": null,
       "overflow_x": null,
       "overflow_y": null,
       "padding": null,
       "right": null,
       "top": null,
       "visibility": null,
       "width": null
      }
     },
     "24e47f13e87448c1889e09a74a13ff5b": {
      "model_module": "@jupyter-widgets/base",
      "model_module_version": "1.2.0",
      "model_name": "LayoutModel",
      "state": {
       "_model_module": "@jupyter-widgets/base",
       "_model_module_version": "1.2.0",
       "_model_name": "LayoutModel",
       "_view_count": null,
       "_view_module": "@jupyter-widgets/base",
       "_view_module_version": "1.2.0",
       "_view_name": "LayoutView",
       "align_content": null,
       "align_items": null,
       "align_self": null,
       "border": null,
       "bottom": null,
       "display": null,
       "flex": null,
       "flex_flow": null,
       "grid_area": null,
       "grid_auto_columns": null,
       "grid_auto_flow": null,
       "grid_auto_rows": null,
       "grid_column": null,
       "grid_gap": null,
       "grid_row": null,
       "grid_template_areas": null,
       "grid_template_columns": null,
       "grid_template_rows": null,
       "height": null,
       "justify_content": null,
       "justify_items": null,
       "left": null,
       "margin": null,
       "max_height": null,
       "max_width": null,
       "min_height": null,
       "min_width": null,
       "object_fit": null,
       "object_position": null,
       "order": null,
       "overflow": null,
       "overflow_x": null,
       "overflow_y": null,
       "padding": null,
       "right": null,
       "top": null,
       "visibility": null,
       "width": null
      }
     },
     "2516e13d11304968b05122b2d95843fd": {
      "model_module": "@jupyter-widgets/controls",
      "model_module_version": "1.5.0",
      "model_name": "HTMLModel",
      "state": {
       "_dom_classes": [],
       "_model_module": "@jupyter-widgets/controls",
       "_model_module_version": "1.5.0",
       "_model_name": "HTMLModel",
       "_view_count": null,
       "_view_module": "@jupyter-widgets/controls",
       "_view_module_version": "1.5.0",
       "_view_name": "HTMLView",
       "description": "",
       "description_tooltip": null,
       "layout": "IPY_MODEL_9e5df05217694b5d86779ab166465e08",
       "placeholder": "​",
       "style": "IPY_MODEL_bd1787d2defc455990e824a607692d4c",
       "value": "Downloading (…)lve/main/config.json: 100%"
      }
     },
     "262179a3da0e4645867fdb5ac72c86cb": {
      "model_module": "@jupyter-widgets/base",
      "model_module_version": "1.2.0",
      "model_name": "LayoutModel",
      "state": {
       "_model_module": "@jupyter-widgets/base",
       "_model_module_version": "1.2.0",
       "_model_name": "LayoutModel",
       "_view_count": null,
       "_view_module": "@jupyter-widgets/base",
       "_view_module_version": "1.2.0",
       "_view_name": "LayoutView",
       "align_content": null,
       "align_items": null,
       "align_self": null,
       "border": null,
       "bottom": null,
       "display": null,
       "flex": null,
       "flex_flow": null,
       "grid_area": null,
       "grid_auto_columns": null,
       "grid_auto_flow": null,
       "grid_auto_rows": null,
       "grid_column": null,
       "grid_gap": null,
       "grid_row": null,
       "grid_template_areas": null,
       "grid_template_columns": null,
       "grid_template_rows": null,
       "height": null,
       "justify_content": null,
       "justify_items": null,
       "left": null,
       "margin": null,
       "max_height": null,
       "max_width": null,
       "min_height": null,
       "min_width": null,
       "object_fit": null,
       "object_position": null,
       "order": null,
       "overflow": null,
       "overflow_x": null,
       "overflow_y": null,
       "padding": null,
       "right": null,
       "top": null,
       "visibility": null,
       "width": null
      }
     },
     "275443a6771d4f7cab5e18cd1c490219": {
      "model_module": "@jupyter-widgets/base",
      "model_module_version": "1.2.0",
      "model_name": "LayoutModel",
      "state": {
       "_model_module": "@jupyter-widgets/base",
       "_model_module_version": "1.2.0",
       "_model_name": "LayoutModel",
       "_view_count": null,
       "_view_module": "@jupyter-widgets/base",
       "_view_module_version": "1.2.0",
       "_view_name": "LayoutView",
       "align_content": null,
       "align_items": null,
       "align_self": null,
       "border": null,
       "bottom": null,
       "display": null,
       "flex": null,
       "flex_flow": null,
       "grid_area": null,
       "grid_auto_columns": null,
       "grid_auto_flow": null,
       "grid_auto_rows": null,
       "grid_column": null,
       "grid_gap": null,
       "grid_row": null,
       "grid_template_areas": null,
       "grid_template_columns": null,
       "grid_template_rows": null,
       "height": null,
       "justify_content": null,
       "justify_items": null,
       "left": null,
       "margin": null,
       "max_height": null,
       "max_width": null,
       "min_height": null,
       "min_width": null,
       "object_fit": null,
       "object_position": null,
       "order": null,
       "overflow": null,
       "overflow_x": null,
       "overflow_y": null,
       "padding": null,
       "right": null,
       "top": null,
       "visibility": null,
       "width": null
      }
     },
     "28b78a7a6ba64d8687594618a491f25a": {
      "model_module": "@jupyter-widgets/controls",
      "model_module_version": "1.5.0",
      "model_name": "HTMLModel",
      "state": {
       "_dom_classes": [],
       "_model_module": "@jupyter-widgets/controls",
       "_model_module_version": "1.5.0",
       "_model_name": "HTMLModel",
       "_view_count": null,
       "_view_module": "@jupyter-widgets/controls",
       "_view_module_version": "1.5.0",
       "_view_name": "HTMLView",
       "description": "",
       "description_tooltip": null,
       "layout": "IPY_MODEL_dbc95de9aa9f4c0e80afe523547b927a",
       "placeholder": "​",
       "style": "IPY_MODEL_7a7ad67beded4131ac48b32ed9f01baf",
       "value": "Validation DataLoader 0: 100%"
      }
     },
     "2965e96a2a404f27947c0713647b5c46": {
      "model_module": "@jupyter-widgets/base",
      "model_module_version": "1.2.0",
      "model_name": "LayoutModel",
      "state": {
       "_model_module": "@jupyter-widgets/base",
       "_model_module_version": "1.2.0",
       "_model_name": "LayoutModel",
       "_view_count": null,
       "_view_module": "@jupyter-widgets/base",
       "_view_module_version": "1.2.0",
       "_view_name": "LayoutView",
       "align_content": null,
       "align_items": null,
       "align_self": null,
       "border": null,
       "bottom": null,
       "display": null,
       "flex": null,
       "flex_flow": null,
       "grid_area": null,
       "grid_auto_columns": null,
       "grid_auto_flow": null,
       "grid_auto_rows": null,
       "grid_column": null,
       "grid_gap": null,
       "grid_row": null,
       "grid_template_areas": null,
       "grid_template_columns": null,
       "grid_template_rows": null,
       "height": null,
       "justify_content": null,
       "justify_items": null,
       "left": null,
       "margin": null,
       "max_height": null,
       "max_width": null,
       "min_height": null,
       "min_width": null,
       "object_fit": null,
       "object_position": null,
       "order": null,
       "overflow": null,
       "overflow_x": null,
       "overflow_y": null,
       "padding": null,
       "right": null,
       "top": null,
       "visibility": null,
       "width": null
      }
     },
     "29fbd4bff14d4bb8a09b6cf94fde2a4f": {
      "model_module": "@jupyter-widgets/controls",
      "model_module_version": "1.5.0",
      "model_name": "DescriptionStyleModel",
      "state": {
       "_model_module": "@jupyter-widgets/controls",
       "_model_module_version": "1.5.0",
       "_model_name": "DescriptionStyleModel",
       "_view_count": null,
       "_view_module": "@jupyter-widgets/base",
       "_view_module_version": "1.2.0",
       "_view_name": "StyleView",
       "description_width": ""
      }
     },
     "2ad332e2f66a4aa28fbfbee16925b81a": {
      "model_module": "@jupyter-widgets/controls",
      "model_module_version": "1.5.0",
      "model_name": "HBoxModel",
      "state": {
       "_dom_classes": [],
       "_model_module": "@jupyter-widgets/controls",
       "_model_module_version": "1.5.0",
       "_model_name": "HBoxModel",
       "_view_count": null,
       "_view_module": "@jupyter-widgets/controls",
       "_view_module_version": "1.5.0",
       "_view_name": "HBoxView",
       "box_style": "",
       "children": [
        "IPY_MODEL_1ba81bbfe515491d9e8ebbb319eb340f",
        "IPY_MODEL_6d15b1d0b29c4a5bad2e1752a845525e",
        "IPY_MODEL_075848ded2e94139b24a9c6a1db90bbd"
       ],
       "layout": "IPY_MODEL_a80e5e5e2c734de180b4f7129c8ea666"
      }
     },
     "2ae4b8fb1dff4599aa379d5f0c97a892": {
      "model_module": "@jupyter-widgets/controls",
      "model_module_version": "1.5.0",
      "model_name": "ProgressStyleModel",
      "state": {
       "_model_module": "@jupyter-widgets/controls",
       "_model_module_version": "1.5.0",
       "_model_name": "ProgressStyleModel",
       "_view_count": null,
       "_view_module": "@jupyter-widgets/base",
       "_view_module_version": "1.2.0",
       "_view_name": "StyleView",
       "bar_color": null,
       "description_width": ""
      }
     },
     "2bfab1dac57d4f6cabbf0439c32cf99e": {
      "model_module": "@jupyter-widgets/controls",
      "model_module_version": "1.5.0",
      "model_name": "HTMLModel",
      "state": {
       "_dom_classes": [],
       "_model_module": "@jupyter-widgets/controls",
       "_model_module_version": "1.5.0",
       "_model_name": "HTMLModel",
       "_view_count": null,
       "_view_module": "@jupyter-widgets/controls",
       "_view_module_version": "1.5.0",
       "_view_name": "HTMLView",
       "description": "",
       "description_tooltip": null,
       "layout": "IPY_MODEL_0f9f06e25cb04a168bfa9a20b5cdb141",
       "placeholder": "​",
       "style": "IPY_MODEL_654eb5ec347e4f85aa835dcf773f8153",
       "value": " 112/112 [00:00&lt;00:00, 6.29kB/s]"
      }
     },
     "2c892906c1924f858ac4a441930d6096": {
      "model_module": "@jupyter-widgets/controls",
      "model_module_version": "1.5.0",
      "model_name": "FloatProgressModel",
      "state": {
       "_dom_classes": [],
       "_model_module": "@jupyter-widgets/controls",
       "_model_module_version": "1.5.0",
       "_model_name": "FloatProgressModel",
       "_view_count": null,
       "_view_module": "@jupyter-widgets/controls",
       "_view_module_version": "1.5.0",
       "_view_name": "ProgressView",
       "bar_style": "success",
       "description": "",
       "description_tooltip": null,
       "layout": "IPY_MODEL_0d15f24f273e4d6ca63988d39aacd094",
       "max": 260.0,
       "min": 0.0,
       "orientation": "horizontal",
       "style": "IPY_MODEL_df5ac7bf9e174745a3f6dc85f9b9ab36",
       "value": 260.0
      }
     },
     "2d889ae2a3a147b0964bd88145afd369": {
      "model_module": "@jupyter-widgets/controls",
      "model_module_version": "1.5.0",
      "model_name": "DescriptionStyleModel",
      "state": {
       "_model_module": "@jupyter-widgets/controls",
       "_model_module_version": "1.5.0",
       "_model_name": "DescriptionStyleModel",
       "_view_count": null,
       "_view_module": "@jupyter-widgets/base",
       "_view_module_version": "1.2.0",
       "_view_name": "StyleView",
       "description_width": ""
      }
     },
     "316e43565de14a4aa5d7cb2dd31c8615": {
      "model_module": "@jupyter-widgets/controls",
      "model_module_version": "1.5.0",
      "model_name": "HBoxModel",
      "state": {
       "_dom_classes": [],
       "_model_module": "@jupyter-widgets/controls",
       "_model_module_version": "1.5.0",
       "_model_name": "HBoxModel",
       "_view_count": null,
       "_view_module": "@jupyter-widgets/controls",
       "_view_module_version": "1.5.0",
       "_view_name": "HBoxView",
       "box_style": "",
       "children": [
        "IPY_MODEL_5d7c9f9c037d4bfc9accdf2b4df8ceb5",
        "IPY_MODEL_0180e0dceed44d60aa8aeee8a60f4e1f",
        "IPY_MODEL_2bfab1dac57d4f6cabbf0439c32cf99e"
       ],
       "layout": "IPY_MODEL_7eefe56e36a246c3a80155283a8673a2"
      }
     },
     "39b6340490dd4603b4ba906ce051da54": {
      "model_module": "@jupyter-widgets/controls",
      "model_module_version": "1.5.0",
      "model_name": "HTMLModel",
      "state": {
       "_dom_classes": [],
       "_model_module": "@jupyter-widgets/controls",
       "_model_module_version": "1.5.0",
       "_model_name": "HTMLModel",
       "_view_count": null,
       "_view_module": "@jupyter-widgets/controls",
       "_view_module_version": "1.5.0",
       "_view_name": "HTMLView",
       "description": "",
       "description_tooltip": null,
       "layout": "IPY_MODEL_c712f7418c2c4e1592eba5d421aa1c4b",
       "placeholder": "​",
       "style": "IPY_MODEL_724693c6aaae42228361b2b76717e3aa",
       "value": " 26/26 [00:02&lt;00:00, 12.03it/s]"
      }
     },
     "3a9cd758a72e48bba8cca736b41f8deb": {
      "model_module": "@jupyter-widgets/controls",
      "model_module_version": "1.5.0",
      "model_name": "DescriptionStyleModel",
      "state": {
       "_model_module": "@jupyter-widgets/controls",
       "_model_module_version": "1.5.0",
       "_model_name": "DescriptionStyleModel",
       "_view_count": null,
       "_view_module": "@jupyter-widgets/base",
       "_view_module_version": "1.2.0",
       "_view_name": "StyleView",
       "description_width": ""
      }
     },
     "3c363ae2674745bc95539cb7f9c5063b": {
      "model_module": "@jupyter-widgets/controls",
      "model_module_version": "1.5.0",
      "model_name": "DescriptionStyleModel",
      "state": {
       "_model_module": "@jupyter-widgets/controls",
       "_model_module_version": "1.5.0",
       "_model_name": "DescriptionStyleModel",
       "_view_count": null,
       "_view_module": "@jupyter-widgets/base",
       "_view_module_version": "1.2.0",
       "_view_name": "StyleView",
       "description_width": ""
      }
     },
     "3fc7184d67134b4ab92a226ab1725ac4": {
      "model_module": "@jupyter-widgets/controls",
      "model_module_version": "1.5.0",
      "model_name": "ProgressStyleModel",
      "state": {
       "_model_module": "@jupyter-widgets/controls",
       "_model_module_version": "1.5.0",
       "_model_name": "ProgressStyleModel",
       "_view_count": null,
       "_view_module": "@jupyter-widgets/base",
       "_view_module_version": "1.2.0",
       "_view_name": "StyleView",
       "bar_color": null,
       "description_width": ""
      }
     },
     "492b405c60d8425b881a7c2de6e29314": {
      "model_module": "@jupyter-widgets/base",
      "model_module_version": "1.2.0",
      "model_name": "LayoutModel",
      "state": {
       "_model_module": "@jupyter-widgets/base",
       "_model_module_version": "1.2.0",
       "_model_name": "LayoutModel",
       "_view_count": null,
       "_view_module": "@jupyter-widgets/base",
       "_view_module_version": "1.2.0",
       "_view_name": "LayoutView",
       "align_content": null,
       "align_items": null,
       "align_self": null,
       "border": null,
       "bottom": null,
       "display": null,
       "flex": null,
       "flex_flow": null,
       "grid_area": null,
       "grid_auto_columns": null,
       "grid_auto_flow": null,
       "grid_auto_rows": null,
       "grid_column": null,
       "grid_gap": null,
       "grid_row": null,
       "grid_template_areas": null,
       "grid_template_columns": null,
       "grid_template_rows": null,
       "height": null,
       "justify_content": null,
       "justify_items": null,
       "left": null,
       "margin": null,
       "max_height": null,
       "max_width": null,
       "min_height": null,
       "min_width": null,
       "object_fit": null,
       "object_position": null,
       "order": null,
       "overflow": null,
       "overflow_x": null,
       "overflow_y": null,
       "padding": null,
       "right": null,
       "top": null,
       "visibility": null,
       "width": null
      }
     },
     "4a4d0f4c882a453889f3be68ee4944ed": {
      "model_module": "@jupyter-widgets/controls",
      "model_module_version": "1.5.0",
      "model_name": "HTMLModel",
      "state": {
       "_dom_classes": [],
       "_model_module": "@jupyter-widgets/controls",
       "_model_module_version": "1.5.0",
       "_model_name": "HTMLModel",
       "_view_count": null,
       "_view_module": "@jupyter-widgets/controls",
       "_view_module_version": "1.5.0",
       "_view_name": "HTMLView",
       "description": "",
       "description_tooltip": null,
       "layout": "IPY_MODEL_492b405c60d8425b881a7c2de6e29314",
       "placeholder": "​",
       "style": "IPY_MODEL_90d84cdf35ec41328f78f05100c4ef49",
       "value": " 26/26 [00:02&lt;00:00, 12.03it/s]"
      }
     },
     "4b5a5459fda34e6bacfe48474af60e6c": {
      "model_module": "@jupyter-widgets/base",
      "model_module_version": "1.2.0",
      "model_name": "LayoutModel",
      "state": {
       "_model_module": "@jupyter-widgets/base",
       "_model_module_version": "1.2.0",
       "_model_name": "LayoutModel",
       "_view_count": null,
       "_view_module": "@jupyter-widgets/base",
       "_view_module_version": "1.2.0",
       "_view_name": "LayoutView",
       "align_content": null,
       "align_items": null,
       "align_self": null,
       "border": null,
       "bottom": null,
       "display": null,
       "flex": "2",
       "flex_flow": null,
       "grid_area": null,
       "grid_auto_columns": null,
       "grid_auto_flow": null,
       "grid_auto_rows": null,
       "grid_column": null,
       "grid_gap": null,
       "grid_row": null,
       "grid_template_areas": null,
       "grid_template_columns": null,
       "grid_template_rows": null,
       "height": null,
       "justify_content": null,
       "justify_items": null,
       "left": null,
       "margin": null,
       "max_height": null,
       "max_width": null,
       "min_height": null,
       "min_width": null,
       "object_fit": null,
       "object_position": null,
       "order": null,
       "overflow": null,
       "overflow_x": null,
       "overflow_y": null,
       "padding": null,
       "right": null,
       "top": null,
       "visibility": null,
       "width": null
      }
     },
     "4dc503879e3a494b9c2ef4002d8568cc": {
      "model_module": "@jupyter-widgets/controls",
      "model_module_version": "1.5.0",
      "model_name": "FloatProgressModel",
      "state": {
       "_dom_classes": [],
       "_model_module": "@jupyter-widgets/controls",
       "_model_module_version": "1.5.0",
       "_model_name": "FloatProgressModel",
       "_view_count": null,
       "_view_module": "@jupyter-widgets/controls",
       "_view_module_version": "1.5.0",
       "_view_name": "ProgressView",
       "bar_style": "success",
       "description": "",
       "description_tooltip": null,
       "layout": "IPY_MODEL_7a8d4588b00749e6816b2bbb6f7e301b",
       "max": 1.0,
       "min": 0.0,
       "orientation": "horizontal",
       "style": "IPY_MODEL_1b7bdf4240e14425aaa51022e41c1d44",
       "value": 1.0
      }
     },
     "4f6432e8a5b94d348c977ba7c8d7f23a": {
      "model_module": "@jupyter-widgets/base",
      "model_module_version": "1.2.0",
      "model_name": "LayoutModel",
      "state": {
       "_model_module": "@jupyter-widgets/base",
       "_model_module_version": "1.2.0",
       "_model_name": "LayoutModel",
       "_view_count": null,
       "_view_module": "@jupyter-widgets/base",
       "_view_module_version": "1.2.0",
       "_view_name": "LayoutView",
       "align_content": null,
       "align_items": null,
       "align_self": null,
       "border": null,
       "bottom": null,
       "display": "inline-flex",
       "flex": null,
       "flex_flow": "row wrap",
       "grid_area": null,
       "grid_auto_columns": null,
       "grid_auto_flow": null,
       "grid_auto_rows": null,
       "grid_column": null,
       "grid_gap": null,
       "grid_row": null,
       "grid_template_areas": null,
       "grid_template_columns": null,
       "grid_template_rows": null,
       "height": null,
       "justify_content": null,
       "justify_items": null,
       "left": null,
       "margin": null,
       "max_height": null,
       "max_width": null,
       "min_height": null,
       "min_width": null,
       "object_fit": null,
       "object_position": null,
       "order": null,
       "overflow": null,
       "overflow_x": null,
       "overflow_y": null,
       "padding": null,
       "right": null,
       "top": null,
       "visibility": "hidden",
       "width": "100%"
      }
     },
     "517386efa7a845f1977c61032d96e1fb": {
      "model_module": "@jupyter-widgets/base",
      "model_module_version": "1.2.0",
      "model_name": "LayoutModel",
      "state": {
       "_model_module": "@jupyter-widgets/base",
       "_model_module_version": "1.2.0",
       "_model_name": "LayoutModel",
       "_view_count": null,
       "_view_module": "@jupyter-widgets/base",
       "_view_module_version": "1.2.0",
       "_view_name": "LayoutView",
       "align_content": null,
       "align_items": null,
       "align_self": null,
       "border": null,
       "bottom": null,
       "display": null,
       "flex": null,
       "flex_flow": null,
       "grid_area": null,
       "grid_auto_columns": null,
       "grid_auto_flow": null,
       "grid_auto_rows": null,
       "grid_column": null,
       "grid_gap": null,
       "grid_row": null,
       "grid_template_areas": null,
       "grid_template_columns": null,
       "grid_template_rows": null,
       "height": null,
       "justify_content": null,
       "justify_items": null,
       "left": null,
       "margin": null,
       "max_height": null,
       "max_width": null,
       "min_height": null,
       "min_width": null,
       "object_fit": null,
       "object_position": null,
       "order": null,
       "overflow": null,
       "overflow_x": null,
       "overflow_y": null,
       "padding": null,
       "right": null,
       "top": null,
       "visibility": null,
       "width": null
      }
     },
     "522387594ffc4302958ae986f75a864a": {
      "model_module": "@jupyter-widgets/base",
      "model_module_version": "1.2.0",
      "model_name": "LayoutModel",
      "state": {
       "_model_module": "@jupyter-widgets/base",
       "_model_module_version": "1.2.0",
       "_model_name": "LayoutModel",
       "_view_count": null,
       "_view_module": "@jupyter-widgets/base",
       "_view_module_version": "1.2.0",
       "_view_name": "LayoutView",
       "align_content": null,
       "align_items": null,
       "align_self": null,
       "border": null,
       "bottom": null,
       "display": null,
       "flex": null,
       "flex_flow": null,
       "grid_area": null,
       "grid_auto_columns": null,
       "grid_auto_flow": null,
       "grid_auto_rows": null,
       "grid_column": null,
       "grid_gap": null,
       "grid_row": null,
       "grid_template_areas": null,
       "grid_template_columns": null,
       "grid_template_rows": null,
       "height": null,
       "justify_content": null,
       "justify_items": null,
       "left": null,
       "margin": null,
       "max_height": null,
       "max_width": null,
       "min_height": null,
       "min_width": null,
       "object_fit": null,
       "object_position": null,
       "order": null,
       "overflow": null,
       "overflow_x": null,
       "overflow_y": null,
       "padding": null,
       "right": null,
       "top": null,
       "visibility": null,
       "width": null
      }
     },
     "55229dddadcf4c91a082205df3f91805": {
      "model_module": "@jupyter-widgets/controls",
      "model_module_version": "1.5.0",
      "model_name": "HTMLModel",
      "state": {
       "_dom_classes": [],
       "_model_module": "@jupyter-widgets/controls",
       "_model_module_version": "1.5.0",
       "_model_name": "HTMLModel",
       "_view_count": null,
       "_view_module": "@jupyter-widgets/controls",
       "_view_module_version": "1.5.0",
       "_view_name": "HTMLView",
       "description": "",
       "description_tooltip": null,
       "layout": "IPY_MODEL_1c00204ad61246b4bc22743d247b1e85",
       "placeholder": "​",
       "style": "IPY_MODEL_3c363ae2674745bc95539cb7f9c5063b",
       "value": "Validation DataLoader 0: 100%"
      }
     },
     "5d7c9f9c037d4bfc9accdf2b4df8ceb5": {
      "model_module": "@jupyter-widgets/controls",
      "model_module_version": "1.5.0",
      "model_name": "HTMLModel",
      "state": {
       "_dom_classes": [],
       "_model_module": "@jupyter-widgets/controls",
       "_model_module_version": "1.5.0",
       "_model_name": "HTMLModel",
       "_view_count": null,
       "_view_module": "@jupyter-widgets/controls",
       "_view_module_version": "1.5.0",
       "_view_name": "HTMLView",
       "description": "",
       "description_tooltip": null,
       "layout": "IPY_MODEL_fd24451e59374443b2e0a18206d8c720",
       "placeholder": "​",
       "style": "IPY_MODEL_1bd402ff99104d2b9683d0004b07af3e",
       "value": "Downloading (…)cial_tokens_map.json: 100%"
      }
     },
     "60b273acf5e14074a144439fb1e765c6": {
      "model_module": "@jupyter-widgets/controls",
      "model_module_version": "1.5.0",
      "model_name": "HTMLModel",
      "state": {
       "_dom_classes": [],
       "_model_module": "@jupyter-widgets/controls",
       "_model_module_version": "1.5.0",
       "_model_name": "HTMLModel",
       "_view_count": null,
       "_view_module": "@jupyter-widgets/controls",
       "_view_module_version": "1.5.0",
       "_view_name": "HTMLView",
       "description": "",
       "description_tooltip": null,
       "layout": "IPY_MODEL_d75259f997d647338f427c8c24a0dfd4",
       "placeholder": "​",
       "style": "IPY_MODEL_fbd8d791e89147c19e0b99c2d7b5d21f",
       "value": "Sanity Checking DataLoader 0: 100%"
      }
     },
     "614270b0d54e484d9a4b3a82887fe33b": {
      "model_module": "@jupyter-widgets/controls",
      "model_module_version": "1.5.0",
      "model_name": "DescriptionStyleModel",
      "state": {
       "_model_module": "@jupyter-widgets/controls",
       "_model_module_version": "1.5.0",
       "_model_name": "DescriptionStyleModel",
       "_view_count": null,
       "_view_module": "@jupyter-widgets/base",
       "_view_module_version": "1.2.0",
       "_view_name": "StyleView",
       "description_width": ""
      }
     },
     "629624163e104512be35c7eeddbd0d20": {
      "model_module": "@jupyter-widgets/base",
      "model_module_version": "1.2.0",
      "model_name": "LayoutModel",
      "state": {
       "_model_module": "@jupyter-widgets/base",
       "_model_module_version": "1.2.0",
       "_model_name": "LayoutModel",
       "_view_count": null,
       "_view_module": "@jupyter-widgets/base",
       "_view_module_version": "1.2.0",
       "_view_name": "LayoutView",
       "align_content": null,
       "align_items": null,
       "align_self": null,
       "border": null,
       "bottom": null,
       "display": "inline-flex",
       "flex": null,
       "flex_flow": "row wrap",
       "grid_area": null,
       "grid_auto_columns": null,
       "grid_auto_flow": null,
       "grid_auto_rows": null,
       "grid_column": null,
       "grid_gap": null,
       "grid_row": null,
       "grid_template_areas": null,
       "grid_template_columns": null,
       "grid_template_rows": null,
       "height": null,
       "justify_content": null,
       "justify_items": null,
       "left": null,
       "margin": null,
       "max_height": null,
       "max_width": null,
       "min_height": null,
       "min_width": null,
       "object_fit": null,
       "object_position": null,
       "order": null,
       "overflow": null,
       "overflow_x": null,
       "overflow_y": null,
       "padding": null,
       "right": null,
       "top": null,
       "visibility": "hidden",
       "width": "100%"
      }
     },
     "63599eaf11e546d2a850f51b8ab1a35e": {
      "model_module": "@jupyter-widgets/base",
      "model_module_version": "1.2.0",
      "model_name": "LayoutModel",
      "state": {
       "_model_module": "@jupyter-widgets/base",
       "_model_module_version": "1.2.0",
       "_model_name": "LayoutModel",
       "_view_count": null,
       "_view_module": "@jupyter-widgets/base",
       "_view_module_version": "1.2.0",
       "_view_name": "LayoutView",
       "align_content": null,
       "align_items": null,
       "align_self": null,
       "border": null,
       "bottom": null,
       "display": null,
       "flex": null,
       "flex_flow": null,
       "grid_area": null,
       "grid_auto_columns": null,
       "grid_auto_flow": null,
       "grid_auto_rows": null,
       "grid_column": null,
       "grid_gap": null,
       "grid_row": null,
       "grid_template_areas": null,
       "grid_template_columns": null,
       "grid_template_rows": null,
       "height": null,
       "justify_content": null,
       "justify_items": null,
       "left": null,
       "margin": null,
       "max_height": null,
       "max_width": null,
       "min_height": null,
       "min_width": null,
       "object_fit": null,
       "object_position": null,
       "order": null,
       "overflow": null,
       "overflow_x": null,
       "overflow_y": null,
       "padding": null,
       "right": null,
       "top": null,
       "visibility": null,
       "width": null
      }
     },
     "6418d6d206224b98ade7d1b0f6d806d3": {
      "model_module": "@jupyter-widgets/base",
      "model_module_version": "1.2.0",
      "model_name": "LayoutModel",
      "state": {
       "_model_module": "@jupyter-widgets/base",
       "_model_module_version": "1.2.0",
       "_model_name": "LayoutModel",
       "_view_count": null,
       "_view_module": "@jupyter-widgets/base",
       "_view_module_version": "1.2.0",
       "_view_name": "LayoutView",
       "align_content": null,
       "align_items": null,
       "align_self": null,
       "border": null,
       "bottom": null,
       "display": "inline-flex",
       "flex": null,
       "flex_flow": "row wrap",
       "grid_area": null,
       "grid_auto_columns": null,
       "grid_auto_flow": null,
       "grid_auto_rows": null,
       "grid_column": null,
       "grid_gap": null,
       "grid_row": null,
       "grid_template_areas": null,
       "grid_template_columns": null,
       "grid_template_rows": null,
       "height": null,
       "justify_content": null,
       "justify_items": null,
       "left": null,
       "margin": null,
       "max_height": null,
       "max_width": null,
       "min_height": null,
       "min_width": null,
       "object_fit": null,
       "object_position": null,
       "order": null,
       "overflow": null,
       "overflow_x": null,
       "overflow_y": null,
       "padding": null,
       "right": null,
       "top": null,
       "visibility": null,
       "width": "100%"
      }
     },
     "641d51d9fe084f93853c774a1767f5a5": {
      "model_module": "@jupyter-widgets/controls",
      "model_module_version": "1.5.0",
      "model_name": "DescriptionStyleModel",
      "state": {
       "_model_module": "@jupyter-widgets/controls",
       "_model_module_version": "1.5.0",
       "_model_name": "DescriptionStyleModel",
       "_view_count": null,
       "_view_module": "@jupyter-widgets/base",
       "_view_module_version": "1.2.0",
       "_view_name": "StyleView",
       "description_width": ""
      }
     },
     "643edf00c71b43a791b546b27f9668ef": {
      "model_module": "@jupyter-widgets/controls",
      "model_module_version": "1.5.0",
      "model_name": "FloatProgressModel",
      "state": {
       "_dom_classes": [],
       "_model_module": "@jupyter-widgets/controls",
       "_model_module_version": "1.5.0",
       "_model_name": "FloatProgressModel",
       "_view_count": null,
       "_view_module": "@jupyter-widgets/controls",
       "_view_module_version": "1.5.0",
       "_view_name": "ProgressView",
       "bar_style": "",
       "description": "",
       "description_tooltip": null,
       "layout": "IPY_MODEL_4b5a5459fda34e6bacfe48474af60e6c",
       "max": 26.0,
       "min": 0.0,
       "orientation": "horizontal",
       "style": "IPY_MODEL_3fc7184d67134b4ab92a226ab1725ac4",
       "value": 26.0
      }
     },
     "64ed39fd33d14b8a8d9f8ff04684f194": {
      "model_module": "@jupyter-widgets/controls",
      "model_module_version": "1.5.0",
      "model_name": "FloatProgressModel",
      "state": {
       "_dom_classes": [],
       "_model_module": "@jupyter-widgets/controls",
       "_model_module_version": "1.5.0",
       "_model_name": "FloatProgressModel",
       "_view_count": null,
       "_view_module": "@jupyter-widgets/controls",
       "_view_module_version": "1.5.0",
       "_view_name": "ProgressView",
       "bar_style": "success",
       "description": "",
       "description_tooltip": null,
       "layout": "IPY_MODEL_ae92c9e2b64448e7abf159bb8491fce0",
       "max": 1.0,
       "min": 0.0,
       "orientation": "horizontal",
       "style": "IPY_MODEL_cc7a7ef738e24e749650c02305733ccd",
       "value": 1.0
      }
     },
     "654eb5ec347e4f85aa835dcf773f8153": {
      "model_module": "@jupyter-widgets/controls",
      "model_module_version": "1.5.0",
      "model_name": "DescriptionStyleModel",
      "state": {
       "_model_module": "@jupyter-widgets/controls",
       "_model_module_version": "1.5.0",
       "_model_name": "DescriptionStyleModel",
       "_view_count": null,
       "_view_module": "@jupyter-widgets/base",
       "_view_module_version": "1.2.0",
       "_view_name": "StyleView",
       "description_width": ""
      }
     },
     "6932485243d9467eb7a745d3c85e7855": {
      "model_module": "@jupyter-widgets/controls",
      "model_module_version": "1.5.0",
      "model_name": "FloatProgressModel",
      "state": {
       "_dom_classes": [],
       "_model_module": "@jupyter-widgets/controls",
       "_model_module_version": "1.5.0",
       "_model_name": "FloatProgressModel",
       "_view_count": null,
       "_view_module": "@jupyter-widgets/controls",
       "_view_module_version": "1.5.0",
       "_view_name": "ProgressView",
       "bar_style": "",
       "description": "",
       "description_tooltip": null,
       "layout": "IPY_MODEL_f4db33ea088140119890ac7de8c76c61",
       "max": 26.0,
       "min": 0.0,
       "orientation": "horizontal",
       "style": "IPY_MODEL_11eda57c244f4a73b9e4a24f328121e3",
       "value": 26.0
      }
     },
     "6a97723bce7b43f3a9d819dea67eb25a": {
      "model_module": "@jupyter-widgets/base",
      "model_module_version": "1.2.0",
      "model_name": "LayoutModel",
      "state": {
       "_model_module": "@jupyter-widgets/base",
       "_model_module_version": "1.2.0",
       "_model_name": "LayoutModel",
       "_view_count": null,
       "_view_module": "@jupyter-widgets/base",
       "_view_module_version": "1.2.0",
       "_view_name": "LayoutView",
       "align_content": null,
       "align_items": null,
       "align_self": null,
       "border": null,
       "bottom": null,
       "display": null,
       "flex": "2",
       "flex_flow": null,
       "grid_area": null,
       "grid_auto_columns": null,
       "grid_auto_flow": null,
       "grid_auto_rows": null,
       "grid_column": null,
       "grid_gap": null,
       "grid_row": null,
       "grid_template_areas": null,
       "grid_template_columns": null,
       "grid_template_rows": null,
       "height": null,
       "justify_content": null,
       "justify_items": null,
       "left": null,
       "margin": null,
       "max_height": null,
       "max_width": null,
       "min_height": null,
       "min_width": null,
       "object_fit": null,
       "object_position": null,
       "order": null,
       "overflow": null,
       "overflow_x": null,
       "overflow_y": null,
       "padding": null,
       "right": null,
       "top": null,
       "visibility": null,
       "width": null
      }
     },
     "6c4cde3202bf4319a6bdee4bc5aadb12": {
      "model_module": "@jupyter-widgets/base",
      "model_module_version": "1.2.0",
      "model_name": "LayoutModel",
      "state": {
       "_model_module": "@jupyter-widgets/base",
       "_model_module_version": "1.2.0",
       "_model_name": "LayoutModel",
       "_view_count": null,
       "_view_module": "@jupyter-widgets/base",
       "_view_module_version": "1.2.0",
       "_view_name": "LayoutView",
       "align_content": null,
       "align_items": null,
       "align_self": null,
       "border": null,
       "bottom": null,
       "display": null,
       "flex": null,
       "flex_flow": null,
       "grid_area": null,
       "grid_auto_columns": null,
       "grid_auto_flow": null,
       "grid_auto_rows": null,
       "grid_column": null,
       "grid_gap": null,
       "grid_row": null,
       "grid_template_areas": null,
       "grid_template_columns": null,
       "grid_template_rows": null,
       "height": null,
       "justify_content": null,
       "justify_items": null,
       "left": null,
       "margin": null,
       "max_height": null,
       "max_width": null,
       "min_height": null,
       "min_width": null,
       "object_fit": null,
       "object_position": null,
       "order": null,
       "overflow": null,
       "overflow_x": null,
       "overflow_y": null,
       "padding": null,
       "right": null,
       "top": null,
       "visibility": null,
       "width": null
      }
     },
     "6d15b1d0b29c4a5bad2e1752a845525e": {
      "model_module": "@jupyter-widgets/controls",
      "model_module_version": "1.5.0",
      "model_name": "FloatProgressModel",
      "state": {
       "_dom_classes": [],
       "_model_module": "@jupyter-widgets/controls",
       "_model_module_version": "1.5.0",
       "_model_name": "FloatProgressModel",
       "_view_count": null,
       "_view_module": "@jupyter-widgets/controls",
       "_view_module_version": "1.5.0",
       "_view_name": "ProgressView",
       "bar_style": "success",
       "description": "",
       "description_tooltip": null,
       "layout": "IPY_MODEL_262179a3da0e4645867fdb5ac72c86cb",
       "max": 401.0,
       "min": 0.0,
       "orientation": "horizontal",
       "style": "IPY_MODEL_e85c5900d5fa43269e0718039710f127",
       "value": 401.0
      }
     },
     "6f5708ae3afe43fc936a72727484e100": {
      "model_module": "@jupyter-widgets/controls",
      "model_module_version": "1.5.0",
      "model_name": "HBoxModel",
      "state": {
       "_dom_classes": [],
       "_model_module": "@jupyter-widgets/controls",
       "_model_module_version": "1.5.0",
       "_model_name": "HBoxModel",
       "_view_count": null,
       "_view_module": "@jupyter-widgets/controls",
       "_view_module_version": "1.5.0",
       "_view_name": "HBoxView",
       "box_style": "",
       "children": [
        "IPY_MODEL_886ccab35108458aa6febbb67649abfe",
        "IPY_MODEL_93f2a42a062a4e61a67001d6b0592953",
        "IPY_MODEL_c64e35aca04241c18025787348f3cdfc"
       ],
       "layout": "IPY_MODEL_a4af81d98b284c47a089d777b19c0985"
      }
     },
     "70dc609ab5d94518bbfd522f5d7fbe00": {
      "model_module": "@jupyter-widgets/controls",
      "model_module_version": "1.5.0",
      "model_name": "HBoxModel",
      "state": {
       "_dom_classes": [],
       "_model_module": "@jupyter-widgets/controls",
       "_model_module_version": "1.5.0",
       "_model_name": "HBoxModel",
       "_view_count": null,
       "_view_module": "@jupyter-widgets/controls",
       "_view_module_version": "1.5.0",
       "_view_name": "HBoxView",
       "box_style": "",
       "children": [
        "IPY_MODEL_2516e13d11304968b05122b2d95843fd",
        "IPY_MODEL_f2fa47da6cf4423cb120a51f1ca47b04",
        "IPY_MODEL_c5ed0802d480451b932763c2c06dc81b"
       ],
       "layout": "IPY_MODEL_275443a6771d4f7cab5e18cd1c490219"
      }
     },
     "7205cd605c8e4a788f13a1735c8a4a32": {
      "model_module": "@jupyter-widgets/controls",
      "model_module_version": "1.5.0",
      "model_name": "HBoxModel",
      "state": {
       "_dom_classes": [],
       "_model_module": "@jupyter-widgets/controls",
       "_model_module_version": "1.5.0",
       "_model_name": "HBoxModel",
       "_view_count": null,
       "_view_module": "@jupyter-widgets/controls",
       "_view_module_version": "1.5.0",
       "_view_name": "HBoxView",
       "box_style": "",
       "children": [
        "IPY_MODEL_16135c42f1f24c9da2b0c3c444470c36",
        "IPY_MODEL_4dc503879e3a494b9c2ef4002d8568cc",
        "IPY_MODEL_ed8d0fb51bbf4f56a45c0916099ff37d"
       ],
       "layout": "IPY_MODEL_760fb93ff0294d78aeffe59c782c77ff"
      }
     },
     "724693c6aaae42228361b2b76717e3aa": {
      "model_module": "@jupyter-widgets/controls",
      "model_module_version": "1.5.0",
      "model_name": "DescriptionStyleModel",
      "state": {
       "_model_module": "@jupyter-widgets/controls",
       "_model_module_version": "1.5.0",
       "_model_name": "DescriptionStyleModel",
       "_view_count": null,
       "_view_module": "@jupyter-widgets/base",
       "_view_module_version": "1.2.0",
       "_view_name": "StyleView",
       "description_width": ""
      }
     },
     "7414a1136ae543999c89606bd446e832": {
      "model_module": "@jupyter-widgets/base",
      "model_module_version": "1.2.0",
      "model_name": "LayoutModel",
      "state": {
       "_model_module": "@jupyter-widgets/base",
       "_model_module_version": "1.2.0",
       "_model_name": "LayoutModel",
       "_view_count": null,
       "_view_module": "@jupyter-widgets/base",
       "_view_module_version": "1.2.0",
       "_view_name": "LayoutView",
       "align_content": null,
       "align_items": null,
       "align_self": null,
       "border": null,
       "bottom": null,
       "display": null,
       "flex": "2",
       "flex_flow": null,
       "grid_area": null,
       "grid_auto_columns": null,
       "grid_auto_flow": null,
       "grid_auto_rows": null,
       "grid_column": null,
       "grid_gap": null,
       "grid_row": null,
       "grid_template_areas": null,
       "grid_template_columns": null,
       "grid_template_rows": null,
       "height": null,
       "justify_content": null,
       "justify_items": null,
       "left": null,
       "margin": null,
       "max_height": null,
       "max_width": null,
       "min_height": null,
       "min_width": null,
       "object_fit": null,
       "object_position": null,
       "order": null,
       "overflow": null,
       "overflow_x": null,
       "overflow_y": null,
       "padding": null,
       "right": null,
       "top": null,
       "visibility": null,
       "width": null
      }
     },
     "74512181c6a1497d897e3eb5f6f50ef3": {
      "model_module": "@jupyter-widgets/controls",
      "model_module_version": "1.5.0",
      "model_name": "HBoxModel",
      "state": {
       "_dom_classes": [],
       "_model_module": "@jupyter-widgets/controls",
       "_model_module_version": "1.5.0",
       "_model_name": "HBoxModel",
       "_view_count": null,
       "_view_module": "@jupyter-widgets/controls",
       "_view_module_version": "1.5.0",
       "_view_name": "HBoxView",
       "box_style": "",
       "children": [
        "IPY_MODEL_55229dddadcf4c91a082205df3f91805",
        "IPY_MODEL_c5edfe7c30054e67b3b4fbad90494995",
        "IPY_MODEL_f344f65cc6f2402b8d863a1d50f2b071"
       ],
       "layout": "IPY_MODEL_629624163e104512be35c7eeddbd0d20"
      }
     },
     "755d0979f22c4571b7a4e8e90705cd96": {
      "model_module": "@jupyter-widgets/controls",
      "model_module_version": "1.5.0",
      "model_name": "HTMLModel",
      "state": {
       "_dom_classes": [],
       "_model_module": "@jupyter-widgets/controls",
       "_model_module_version": "1.5.0",
       "_model_name": "HTMLModel",
       "_view_count": null,
       "_view_module": "@jupyter-widgets/controls",
       "_view_module_version": "1.5.0",
       "_view_name": "HTMLView",
       "description": "",
       "description_tooltip": null,
       "layout": "IPY_MODEL_c69c9a8082f2424da04c182cd3306d3a",
       "placeholder": "​",
       "style": "IPY_MODEL_b748d1360e7a43d7941d2719c0aed161",
       "value": " 26/26 [00:02&lt;00:00, 12.03it/s]"
      }
     },
     "760fb93ff0294d78aeffe59c782c77ff": {
      "model_module": "@jupyter-widgets/base",
      "model_module_version": "1.2.0",
      "model_name": "LayoutModel",
      "state": {
       "_model_module": "@jupyter-widgets/base",
       "_model_module_version": "1.2.0",
       "_model_name": "LayoutModel",
       "_view_count": null,
       "_view_module": "@jupyter-widgets/base",
       "_view_module_version": "1.2.0",
       "_view_name": "LayoutView",
       "align_content": null,
       "align_items": null,
       "align_self": null,
       "border": null,
       "bottom": null,
       "display": null,
       "flex": null,
       "flex_flow": null,
       "grid_area": null,
       "grid_auto_columns": null,
       "grid_auto_flow": null,
       "grid_auto_rows": null,
       "grid_column": null,
       "grid_gap": null,
       "grid_row": null,
       "grid_template_areas": null,
       "grid_template_columns": null,
       "grid_template_rows": null,
       "height": null,
       "justify_content": null,
       "justify_items": null,
       "left": null,
       "margin": null,
       "max_height": null,
       "max_width": null,
       "min_height": null,
       "min_width": null,
       "object_fit": null,
       "object_position": null,
       "order": null,
       "overflow": null,
       "overflow_x": null,
       "overflow_y": null,
       "padding": null,
       "right": null,
       "top": null,
       "visibility": null,
       "width": null
      }
     },
     "77eb9d9fe4704ea999b1a899eae3b44d": {
      "model_module": "@jupyter-widgets/controls",
      "model_module_version": "1.5.0",
      "model_name": "HBoxModel",
      "state": {
       "_dom_classes": [],
       "_model_module": "@jupyter-widgets/controls",
       "_model_module_version": "1.5.0",
       "_model_name": "HBoxModel",
       "_view_count": null,
       "_view_module": "@jupyter-widgets/controls",
       "_view_module_version": "1.5.0",
       "_view_name": "HBoxView",
       "box_style": "",
       "children": [
        "IPY_MODEL_60b273acf5e14074a144439fb1e765c6",
        "IPY_MODEL_c26dd5fb664d4d5d9dc5700ac4bf1359",
        "IPY_MODEL_fb781f8e5d0a4c76aad131de2fa3950a"
       ],
       "layout": "IPY_MODEL_e34a13c3a22f4e22b6225197bde981bd"
      }
     },
     "7866652892884ad2bac7041a68266075": {
      "model_module": "@jupyter-widgets/controls",
      "model_module_version": "1.5.0",
      "model_name": "DescriptionStyleModel",
      "state": {
       "_model_module": "@jupyter-widgets/controls",
       "_model_module_version": "1.5.0",
       "_model_name": "DescriptionStyleModel",
       "_view_count": null,
       "_view_module": "@jupyter-widgets/base",
       "_view_module_version": "1.2.0",
       "_view_name": "StyleView",
       "description_width": ""
      }
     },
     "797f5db734d84dfe8a528310c9d15166": {
      "model_module": "@jupyter-widgets/controls",
      "model_module_version": "1.5.0",
      "model_name": "HTMLModel",
      "state": {
       "_dom_classes": [],
       "_model_module": "@jupyter-widgets/controls",
       "_model_module_version": "1.5.0",
       "_model_name": "HTMLModel",
       "_view_count": null,
       "_view_module": "@jupyter-widgets/controls",
       "_view_module_version": "1.5.0",
       "_view_name": "HTMLView",
       "description": "",
       "description_tooltip": null,
       "layout": "IPY_MODEL_7cfddb42c69e44f49ab7f1e4c2dd1f4c",
       "placeholder": "​",
       "style": "IPY_MODEL_190a669ce42a46809c995060bbe04cdf",
       "value": " 260/260 [01:08&lt;00:00,  3.80it/s, loss=0.238, v_num=0, val_loss=0.512, val_r2=0.497, train_loss=0.233, train_r2=0.762]"
      }
     },
     "7a7ad67beded4131ac48b32ed9f01baf": {
      "model_module": "@jupyter-widgets/controls",
      "model_module_version": "1.5.0",
      "model_name": "DescriptionStyleModel",
      "state": {
       "_model_module": "@jupyter-widgets/controls",
       "_model_module_version": "1.5.0",
       "_model_name": "DescriptionStyleModel",
       "_view_count": null,
       "_view_module": "@jupyter-widgets/base",
       "_view_module_version": "1.2.0",
       "_view_name": "StyleView",
       "description_width": ""
      }
     },
     "7a8d4588b00749e6816b2bbb6f7e301b": {
      "model_module": "@jupyter-widgets/base",
      "model_module_version": "1.2.0",
      "model_name": "LayoutModel",
      "state": {
       "_model_module": "@jupyter-widgets/base",
       "_model_module_version": "1.2.0",
       "_model_name": "LayoutModel",
       "_view_count": null,
       "_view_module": "@jupyter-widgets/base",
       "_view_module_version": "1.2.0",
       "_view_name": "LayoutView",
       "align_content": null,
       "align_items": null,
       "align_self": null,
       "border": null,
       "bottom": null,
       "display": null,
       "flex": null,
       "flex_flow": null,
       "grid_area": null,
       "grid_auto_columns": null,
       "grid_auto_flow": null,
       "grid_auto_rows": null,
       "grid_column": null,
       "grid_gap": null,
       "grid_row": null,
       "grid_template_areas": null,
       "grid_template_columns": null,
       "grid_template_rows": null,
       "height": null,
       "justify_content": null,
       "justify_items": null,
       "left": null,
       "margin": null,
       "max_height": null,
       "max_width": null,
       "min_height": null,
       "min_width": null,
       "object_fit": null,
       "object_position": null,
       "order": null,
       "overflow": null,
       "overflow_x": null,
       "overflow_y": null,
       "padding": null,
       "right": null,
       "top": null,
       "visibility": null,
       "width": "20px"
      }
     },
     "7cfddb42c69e44f49ab7f1e4c2dd1f4c": {
      "model_module": "@jupyter-widgets/base",
      "model_module_version": "1.2.0",
      "model_name": "LayoutModel",
      "state": {
       "_model_module": "@jupyter-widgets/base",
       "_model_module_version": "1.2.0",
       "_model_name": "LayoutModel",
       "_view_count": null,
       "_view_module": "@jupyter-widgets/base",
       "_view_module_version": "1.2.0",
       "_view_name": "LayoutView",
       "align_content": null,
       "align_items": null,
       "align_self": null,
       "border": null,
       "bottom": null,
       "display": null,
       "flex": null,
       "flex_flow": null,
       "grid_area": null,
       "grid_auto_columns": null,
       "grid_auto_flow": null,
       "grid_auto_rows": null,
       "grid_column": null,
       "grid_gap": null,
       "grid_row": null,
       "grid_template_areas": null,
       "grid_template_columns": null,
       "grid_template_rows": null,
       "height": null,
       "justify_content": null,
       "justify_items": null,
       "left": null,
       "margin": null,
       "max_height": null,
       "max_width": null,
       "min_height": null,
       "min_width": null,
       "object_fit": null,
       "object_position": null,
       "order": null,
       "overflow": null,
       "overflow_x": null,
       "overflow_y": null,
       "padding": null,
       "right": null,
       "top": null,
       "visibility": null,
       "width": null
      }
     },
     "7eefe56e36a246c3a80155283a8673a2": {
      "model_module": "@jupyter-widgets/base",
      "model_module_version": "1.2.0",
      "model_name": "LayoutModel",
      "state": {
       "_model_module": "@jupyter-widgets/base",
       "_model_module_version": "1.2.0",
       "_model_name": "LayoutModel",
       "_view_count": null,
       "_view_module": "@jupyter-widgets/base",
       "_view_module_version": "1.2.0",
       "_view_name": "LayoutView",
       "align_content": null,
       "align_items": null,
       "align_self": null,
       "border": null,
       "bottom": null,
       "display": null,
       "flex": null,
       "flex_flow": null,
       "grid_area": null,
       "grid_auto_columns": null,
       "grid_auto_flow": null,
       "grid_auto_rows": null,
       "grid_column": null,
       "grid_gap": null,
       "grid_row": null,
       "grid_template_areas": null,
       "grid_template_columns": null,
       "grid_template_rows": null,
       "height": null,
       "justify_content": null,
       "justify_items": null,
       "left": null,
       "margin": null,
       "max_height": null,
       "max_width": null,
       "min_height": null,
       "min_width": null,
       "object_fit": null,
       "object_position": null,
       "order": null,
       "overflow": null,
       "overflow_x": null,
       "overflow_y": null,
       "padding": null,
       "right": null,
       "top": null,
       "visibility": null,
       "width": null
      }
     },
     "81da19e2d19f47e78ac6f4f02778eb66": {
      "model_module": "@jupyter-widgets/base",
      "model_module_version": "1.2.0",
      "model_name": "LayoutModel",
      "state": {
       "_model_module": "@jupyter-widgets/base",
       "_model_module_version": "1.2.0",
       "_model_name": "LayoutModel",
       "_view_count": null,
       "_view_module": "@jupyter-widgets/base",
       "_view_module_version": "1.2.0",
       "_view_name": "LayoutView",
       "align_content": null,
       "align_items": null,
       "align_self": null,
       "border": null,
       "bottom": null,
       "display": null,
       "flex": "2",
       "flex_flow": null,
       "grid_area": null,
       "grid_auto_columns": null,
       "grid_auto_flow": null,
       "grid_auto_rows": null,
       "grid_column": null,
       "grid_gap": null,
       "grid_row": null,
       "grid_template_areas": null,
       "grid_template_columns": null,
       "grid_template_rows": null,
       "height": null,
       "justify_content": null,
       "justify_items": null,
       "left": null,
       "margin": null,
       "max_height": null,
       "max_width": null,
       "min_height": null,
       "min_width": null,
       "object_fit": null,
       "object_position": null,
       "order": null,
       "overflow": null,
       "overflow_x": null,
       "overflow_y": null,
       "padding": null,
       "right": null,
       "top": null,
       "visibility": null,
       "width": null
      }
     },
     "84d36b09e19d4d98a97e2464f0d5ea6e": {
      "model_module": "@jupyter-widgets/controls",
      "model_module_version": "1.5.0",
      "model_name": "DescriptionStyleModel",
      "state": {
       "_model_module": "@jupyter-widgets/controls",
       "_model_module_version": "1.5.0",
       "_model_name": "DescriptionStyleModel",
       "_view_count": null,
       "_view_module": "@jupyter-widgets/base",
       "_view_module_version": "1.2.0",
       "_view_name": "StyleView",
       "description_width": ""
      }
     },
     "886ccab35108458aa6febbb67649abfe": {
      "model_module": "@jupyter-widgets/controls",
      "model_module_version": "1.5.0",
      "model_name": "HTMLModel",
      "state": {
       "_dom_classes": [],
       "_model_module": "@jupyter-widgets/controls",
       "_model_module_version": "1.5.0",
       "_model_name": "HTMLModel",
       "_view_count": null,
       "_view_module": "@jupyter-widgets/controls",
       "_view_module_version": "1.5.0",
       "_view_name": "HTMLView",
       "description": "",
       "description_tooltip": null,
       "layout": "IPY_MODEL_b1f427a3df3a41248151a3ab8a428168",
       "placeholder": "​",
       "style": "IPY_MODEL_eef877cba75c4613b228d5d4f566a1e2",
       "value": "Validation DataLoader 0: 100%"
      }
     },
     "8ec5d5de08c2496290412d398e3289d8": {
      "model_module": "@jupyter-widgets/base",
      "model_module_version": "1.2.0",
      "model_name": "LayoutModel",
      "state": {
       "_model_module": "@jupyter-widgets/base",
       "_model_module_version": "1.2.0",
       "_model_name": "LayoutModel",
       "_view_count": null,
       "_view_module": "@jupyter-widgets/base",
       "_view_module_version": "1.2.0",
       "_view_name": "LayoutView",
       "align_content": null,
       "align_items": null,
       "align_self": null,
       "border": null,
       "bottom": null,
       "display": null,
       "flex": null,
       "flex_flow": null,
       "grid_area": null,
       "grid_auto_columns": null,
       "grid_auto_flow": null,
       "grid_auto_rows": null,
       "grid_column": null,
       "grid_gap": null,
       "grid_row": null,
       "grid_template_areas": null,
       "grid_template_columns": null,
       "grid_template_rows": null,
       "height": null,
       "justify_content": null,
       "justify_items": null,
       "left": null,
       "margin": null,
       "max_height": null,
       "max_width": null,
       "min_height": null,
       "min_width": null,
       "object_fit": null,
       "object_position": null,
       "order": null,
       "overflow": null,
       "overflow_x": null,
       "overflow_y": null,
       "padding": null,
       "right": null,
       "top": null,
       "visibility": null,
       "width": null
      }
     },
     "8fc5bd1f95f545148dcbe02e7eea07f2": {
      "model_module": "@jupyter-widgets/controls",
      "model_module_version": "1.5.0",
      "model_name": "FloatProgressModel",
      "state": {
       "_dom_classes": [],
       "_model_module": "@jupyter-widgets/controls",
       "_model_module_version": "1.5.0",
       "_model_name": "FloatProgressModel",
       "_view_count": null,
       "_view_module": "@jupyter-widgets/controls",
       "_view_module_version": "1.5.0",
       "_view_name": "ProgressView",
       "bar_style": "",
       "description": "",
       "description_tooltip": null,
       "layout": "IPY_MODEL_7414a1136ae543999c89606bd446e832",
       "max": 26.0,
       "min": 0.0,
       "orientation": "horizontal",
       "style": "IPY_MODEL_fef937ab1d184ccf967ba1255d6339b9",
       "value": 26.0
      }
     },
     "90d84cdf35ec41328f78f05100c4ef49": {
      "model_module": "@jupyter-widgets/controls",
      "model_module_version": "1.5.0",
      "model_name": "DescriptionStyleModel",
      "state": {
       "_model_module": "@jupyter-widgets/controls",
       "_model_module_version": "1.5.0",
       "_model_name": "DescriptionStyleModel",
       "_view_count": null,
       "_view_module": "@jupyter-widgets/base",
       "_view_module_version": "1.2.0",
       "_view_name": "StyleView",
       "description_width": ""
      }
     },
     "93f2a42a062a4e61a67001d6b0592953": {
      "model_module": "@jupyter-widgets/controls",
      "model_module_version": "1.5.0",
      "model_name": "FloatProgressModel",
      "state": {
       "_dom_classes": [],
       "_model_module": "@jupyter-widgets/controls",
       "_model_module_version": "1.5.0",
       "_model_name": "FloatProgressModel",
       "_view_count": null,
       "_view_module": "@jupyter-widgets/controls",
       "_view_module_version": "1.5.0",
       "_view_name": "ProgressView",
       "bar_style": "",
       "description": "",
       "description_tooltip": null,
       "layout": "IPY_MODEL_6a97723bce7b43f3a9d819dea67eb25a",
       "max": 26.0,
       "min": 0.0,
       "orientation": "horizontal",
       "style": "IPY_MODEL_c35dc10c3f2545faad29c8dc571a1775",
       "value": 26.0
      }
     },
     "959f2603c64a47769b69f7b93fa22d33": {
      "model_module": "@jupyter-widgets/controls",
      "model_module_version": "1.5.0",
      "model_name": "HBoxModel",
      "state": {
       "_dom_classes": [],
       "_model_module": "@jupyter-widgets/controls",
       "_model_module_version": "1.5.0",
       "_model_name": "HBoxModel",
       "_view_count": null,
       "_view_module": "@jupyter-widgets/controls",
       "_view_module_version": "1.5.0",
       "_view_name": "HBoxView",
       "box_style": "",
       "children": [
        "IPY_MODEL_28b78a7a6ba64d8687594618a491f25a",
        "IPY_MODEL_6932485243d9467eb7a745d3c85e7855",
        "IPY_MODEL_39b6340490dd4603b4ba906ce051da54"
       ],
       "layout": "IPY_MODEL_4f6432e8a5b94d348c977ba7c8d7f23a"
      }
     },
     "9b640a857cfb44c99c86db1164207138": {
      "model_module": "@jupyter-widgets/controls",
      "model_module_version": "1.5.0",
      "model_name": "HTMLModel",
      "state": {
       "_dom_classes": [],
       "_model_module": "@jupyter-widgets/controls",
       "_model_module_version": "1.5.0",
       "_model_name": "HTMLModel",
       "_view_count": null,
       "_view_module": "@jupyter-widgets/controls",
       "_view_module_version": "1.5.0",
       "_view_name": "HTMLView",
       "description": "",
       "description_tooltip": null,
       "layout": "IPY_MODEL_6c4cde3202bf4319a6bdee4bc5aadb12",
       "placeholder": "​",
       "style": "IPY_MODEL_2d889ae2a3a147b0964bd88145afd369",
       "value": "Epoch 4: 100%"
      }
     },
     "9e5df05217694b5d86779ab166465e08": {
      "model_module": "@jupyter-widgets/base",
      "model_module_version": "1.2.0",
      "model_name": "LayoutModel",
      "state": {
       "_model_module": "@jupyter-widgets/base",
       "_model_module_version": "1.2.0",
       "_model_name": "LayoutModel",
       "_view_count": null,
       "_view_module": "@jupyter-widgets/base",
       "_view_module_version": "1.2.0",
       "_view_name": "LayoutView",
       "align_content": null,
       "align_items": null,
       "align_self": null,
       "border": null,
       "bottom": null,
       "display": null,
       "flex": null,
       "flex_flow": null,
       "grid_area": null,
       "grid_auto_columns": null,
       "grid_auto_flow": null,
       "grid_auto_rows": null,
       "grid_column": null,
       "grid_gap": null,
       "grid_row": null,
       "grid_template_areas": null,
       "grid_template_columns": null,
       "grid_template_rows": null,
       "height": null,
       "justify_content": null,
       "justify_items": null,
       "left": null,
       "margin": null,
       "max_height": null,
       "max_width": null,
       "min_height": null,
       "min_width": null,
       "object_fit": null,
       "object_position": null,
       "order": null,
       "overflow": null,
       "overflow_x": null,
       "overflow_y": null,
       "padding": null,
       "right": null,
       "top": null,
       "visibility": null,
       "width": null
      }
     },
     "a2832e235bfe44d18746abb0d21901b3": {
      "model_module": "@jupyter-widgets/base",
      "model_module_version": "1.2.0",
      "model_name": "LayoutModel",
      "state": {
       "_model_module": "@jupyter-widgets/base",
       "_model_module_version": "1.2.0",
       "_model_name": "LayoutModel",
       "_view_count": null,
       "_view_module": "@jupyter-widgets/base",
       "_view_module_version": "1.2.0",
       "_view_name": "LayoutView",
       "align_content": null,
       "align_items": null,
       "align_self": null,
       "border": null,
       "bottom": null,
       "display": null,
       "flex": null,
       "flex_flow": null,
       "grid_area": null,
       "grid_auto_columns": null,
       "grid_auto_flow": null,
       "grid_auto_rows": null,
       "grid_column": null,
       "grid_gap": null,
       "grid_row": null,
       "grid_template_areas": null,
       "grid_template_columns": null,
       "grid_template_rows": null,
       "height": null,
       "justify_content": null,
       "justify_items": null,
       "left": null,
       "margin": null,
       "max_height": null,
       "max_width": null,
       "min_height": null,
       "min_width": null,
       "object_fit": null,
       "object_position": null,
       "order": null,
       "overflow": null,
       "overflow_x": null,
       "overflow_y": null,
       "padding": null,
       "right": null,
       "top": null,
       "visibility": null,
       "width": null
      }
     },
     "a354a79a5f0b4e59958e2cef8e94fdb1": {
      "model_module": "@jupyter-widgets/base",
      "model_module_version": "1.2.0",
      "model_name": "LayoutModel",
      "state": {
       "_model_module": "@jupyter-widgets/base",
       "_model_module_version": "1.2.0",
       "_model_name": "LayoutModel",
       "_view_count": null,
       "_view_module": "@jupyter-widgets/base",
       "_view_module_version": "1.2.0",
       "_view_name": "LayoutView",
       "align_content": null,
       "align_items": null,
       "align_self": null,
       "border": null,
       "bottom": null,
       "display": null,
       "flex": null,
       "flex_flow": null,
       "grid_area": null,
       "grid_auto_columns": null,
       "grid_auto_flow": null,
       "grid_auto_rows": null,
       "grid_column": null,
       "grid_gap": null,
       "grid_row": null,
       "grid_template_areas": null,
       "grid_template_columns": null,
       "grid_template_rows": null,
       "height": null,
       "justify_content": null,
       "justify_items": null,
       "left": null,
       "margin": null,
       "max_height": null,
       "max_width": null,
       "min_height": null,
       "min_width": null,
       "object_fit": null,
       "object_position": null,
       "order": null,
       "overflow": null,
       "overflow_x": null,
       "overflow_y": null,
       "padding": null,
       "right": null,
       "top": null,
       "visibility": null,
       "width": null
      }
     },
     "a4af81d98b284c47a089d777b19c0985": {
      "model_module": "@jupyter-widgets/base",
      "model_module_version": "1.2.0",
      "model_name": "LayoutModel",
      "state": {
       "_model_module": "@jupyter-widgets/base",
       "_model_module_version": "1.2.0",
       "_model_name": "LayoutModel",
       "_view_count": null,
       "_view_module": "@jupyter-widgets/base",
       "_view_module_version": "1.2.0",
       "_view_name": "LayoutView",
       "align_content": null,
       "align_items": null,
       "align_self": null,
       "border": null,
       "bottom": null,
       "display": "inline-flex",
       "flex": null,
       "flex_flow": "row wrap",
       "grid_area": null,
       "grid_auto_columns": null,
       "grid_auto_flow": null,
       "grid_auto_rows": null,
       "grid_column": null,
       "grid_gap": null,
       "grid_row": null,
       "grid_template_areas": null,
       "grid_template_columns": null,
       "grid_template_rows": null,
       "height": null,
       "justify_content": null,
       "justify_items": null,
       "left": null,
       "margin": null,
       "max_height": null,
       "max_width": null,
       "min_height": null,
       "min_width": null,
       "object_fit": null,
       "object_position": null,
       "order": null,
       "overflow": null,
       "overflow_x": null,
       "overflow_y": null,
       "padding": null,
       "right": null,
       "top": null,
       "visibility": "hidden",
       "width": "100%"
      }
     },
     "a4bdd8827b7c469096146dcecc25b8ce": {
      "model_module": "@jupyter-widgets/controls",
      "model_module_version": "1.5.0",
      "model_name": "HBoxModel",
      "state": {
       "_dom_classes": [],
       "_model_module": "@jupyter-widgets/controls",
       "_model_module_version": "1.5.0",
       "_model_name": "HBoxModel",
       "_view_count": null,
       "_view_module": "@jupyter-widgets/controls",
       "_view_module_version": "1.5.0",
       "_view_name": "HBoxView",
       "box_style": "",
       "children": [
        "IPY_MODEL_b8005dc5e5ff4ffc99a4c936afa9187f",
        "IPY_MODEL_643edf00c71b43a791b546b27f9668ef",
        "IPY_MODEL_755d0979f22c4571b7a4e8e90705cd96"
       ],
       "layout": "IPY_MODEL_e144a32e4f7f431e8674c8384ed0bd04"
      }
     },
     "a80e5e5e2c734de180b4f7129c8ea666": {
      "model_module": "@jupyter-widgets/base",
      "model_module_version": "1.2.0",
      "model_name": "LayoutModel",
      "state": {
       "_model_module": "@jupyter-widgets/base",
       "_model_module_version": "1.2.0",
       "_model_name": "LayoutModel",
       "_view_count": null,
       "_view_module": "@jupyter-widgets/base",
       "_view_module_version": "1.2.0",
       "_view_name": "LayoutView",
       "align_content": null,
       "align_items": null,
       "align_self": null,
       "border": null,
       "bottom": null,
       "display": null,
       "flex": null,
       "flex_flow": null,
       "grid_area": null,
       "grid_auto_columns": null,
       "grid_auto_flow": null,
       "grid_auto_rows": null,
       "grid_column": null,
       "grid_gap": null,
       "grid_row": null,
       "grid_template_areas": null,
       "grid_template_columns": null,
       "grid_template_rows": null,
       "height": null,
       "justify_content": null,
       "justify_items": null,
       "left": null,
       "margin": null,
       "max_height": null,
       "max_width": null,
       "min_height": null,
       "min_width": null,
       "object_fit": null,
       "object_position": null,
       "order": null,
       "overflow": null,
       "overflow_x": null,
       "overflow_y": null,
       "padding": null,
       "right": null,
       "top": null,
       "visibility": null,
       "width": null
      }
     },
     "a9f57586e8ad4d7f8b885a31fc3f412a": {
      "model_module": "@jupyter-widgets/controls",
      "model_module_version": "1.5.0",
      "model_name": "FloatProgressModel",
      "state": {
       "_dom_classes": [],
       "_model_module": "@jupyter-widgets/controls",
       "_model_module_version": "1.5.0",
       "_model_name": "FloatProgressModel",
       "_view_count": null,
       "_view_module": "@jupyter-widgets/controls",
       "_view_module_version": "1.5.0",
       "_view_name": "ProgressView",
       "bar_style": "success",
       "description": "",
       "description_tooltip": null,
       "layout": "IPY_MODEL_d99436bc0e43407dab7b289be2628220",
       "max": 117546024.0,
       "min": 0.0,
       "orientation": "horizontal",
       "style": "IPY_MODEL_0f9c5682931743a59a14b526c1458bee",
       "value": 117546024.0
      }
     },
     "ae92c9e2b64448e7abf159bb8491fce0": {
      "model_module": "@jupyter-widgets/base",
      "model_module_version": "1.2.0",
      "model_name": "LayoutModel",
      "state": {
       "_model_module": "@jupyter-widgets/base",
       "_model_module_version": "1.2.0",
       "_model_name": "LayoutModel",
       "_view_count": null,
       "_view_module": "@jupyter-widgets/base",
       "_view_module_version": "1.2.0",
       "_view_name": "LayoutView",
       "align_content": null,
       "align_items": null,
       "align_self": null,
       "border": null,
       "bottom": null,
       "display": null,
       "flex": null,
       "flex_flow": null,
       "grid_area": null,
       "grid_auto_columns": null,
       "grid_auto_flow": null,
       "grid_auto_rows": null,
       "grid_column": null,
       "grid_gap": null,
       "grid_row": null,
       "grid_template_areas": null,
       "grid_template_columns": null,
       "grid_template_rows": null,
       "height": null,
       "justify_content": null,
       "justify_items": null,
       "left": null,
       "margin": null,
       "max_height": null,
       "max_width": null,
       "min_height": null,
       "min_width": null,
       "object_fit": null,
       "object_position": null,
       "order": null,
       "overflow": null,
       "overflow_x": null,
       "overflow_y": null,
       "padding": null,
       "right": null,
       "top": null,
       "visibility": null,
       "width": "20px"
      }
     },
     "b0387dc67e0d4752ac774a51e2ff03d7": {
      "model_module": "@jupyter-widgets/controls",
      "model_module_version": "1.5.0",
      "model_name": "DescriptionStyleModel",
      "state": {
       "_model_module": "@jupyter-widgets/controls",
       "_model_module_version": "1.5.0",
       "_model_name": "DescriptionStyleModel",
       "_view_count": null,
       "_view_module": "@jupyter-widgets/base",
       "_view_module_version": "1.2.0",
       "_view_name": "StyleView",
       "description_width": ""
      }
     },
     "b1f427a3df3a41248151a3ab8a428168": {
      "model_module": "@jupyter-widgets/base",
      "model_module_version": "1.2.0",
      "model_name": "LayoutModel",
      "state": {
       "_model_module": "@jupyter-widgets/base",
       "_model_module_version": "1.2.0",
       "_model_name": "LayoutModel",
       "_view_count": null,
       "_view_module": "@jupyter-widgets/base",
       "_view_module_version": "1.2.0",
       "_view_name": "LayoutView",
       "align_content": null,
       "align_items": null,
       "align_self": null,
       "border": null,
       "bottom": null,
       "display": null,
       "flex": null,
       "flex_flow": null,
       "grid_area": null,
       "grid_auto_columns": null,
       "grid_auto_flow": null,
       "grid_auto_rows": null,
       "grid_column": null,
       "grid_gap": null,
       "grid_row": null,
       "grid_template_areas": null,
       "grid_template_columns": null,
       "grid_template_rows": null,
       "height": null,
       "justify_content": null,
       "justify_items": null,
       "left": null,
       "margin": null,
       "max_height": null,
       "max_width": null,
       "min_height": null,
       "min_width": null,
       "object_fit": null,
       "object_position": null,
       "order": null,
       "overflow": null,
       "overflow_x": null,
       "overflow_y": null,
       "padding": null,
       "right": null,
       "top": null,
       "visibility": null,
       "width": null
      }
     },
     "b22b830b6b6c4ac2859ad75624f0abdc": {
      "model_module": "@jupyter-widgets/base",
      "model_module_version": "1.2.0",
      "model_name": "LayoutModel",
      "state": {
       "_model_module": "@jupyter-widgets/base",
       "_model_module_version": "1.2.0",
       "_model_name": "LayoutModel",
       "_view_count": null,
       "_view_module": "@jupyter-widgets/base",
       "_view_module_version": "1.2.0",
       "_view_name": "LayoutView",
       "align_content": null,
       "align_items": null,
       "align_self": null,
       "border": null,
       "bottom": null,
       "display": null,
       "flex": null,
       "flex_flow": null,
       "grid_area": null,
       "grid_auto_columns": null,
       "grid_auto_flow": null,
       "grid_auto_rows": null,
       "grid_column": null,
       "grid_gap": null,
       "grid_row": null,
       "grid_template_areas": null,
       "grid_template_columns": null,
       "grid_template_rows": null,
       "height": null,
       "justify_content": null,
       "justify_items": null,
       "left": null,
       "margin": null,
       "max_height": null,
       "max_width": null,
       "min_height": null,
       "min_width": null,
       "object_fit": null,
       "object_position": null,
       "order": null,
       "overflow": null,
       "overflow_x": null,
       "overflow_y": null,
       "padding": null,
       "right": null,
       "top": null,
       "visibility": null,
       "width": null
      }
     },
     "b234b72e07eb46e78b83ac514ae20ea7": {
      "model_module": "@jupyter-widgets/controls",
      "model_module_version": "1.5.0",
      "model_name": "ProgressStyleModel",
      "state": {
       "_model_module": "@jupyter-widgets/controls",
       "_model_module_version": "1.5.0",
       "_model_name": "ProgressStyleModel",
       "_view_count": null,
       "_view_module": "@jupyter-widgets/base",
       "_view_module_version": "1.2.0",
       "_view_name": "StyleView",
       "bar_color": null,
       "description_width": ""
      }
     },
     "b748d1360e7a43d7941d2719c0aed161": {
      "model_module": "@jupyter-widgets/controls",
      "model_module_version": "1.5.0",
      "model_name": "DescriptionStyleModel",
      "state": {
       "_model_module": "@jupyter-widgets/controls",
       "_model_module_version": "1.5.0",
       "_model_name": "DescriptionStyleModel",
       "_view_count": null,
       "_view_module": "@jupyter-widgets/base",
       "_view_module_version": "1.2.0",
       "_view_name": "StyleView",
       "description_width": ""
      }
     },
     "b8005dc5e5ff4ffc99a4c936afa9187f": {
      "model_module": "@jupyter-widgets/controls",
      "model_module_version": "1.5.0",
      "model_name": "HTMLModel",
      "state": {
       "_dom_classes": [],
       "_model_module": "@jupyter-widgets/controls",
       "_model_module_version": "1.5.0",
       "_model_name": "HTMLModel",
       "_view_count": null,
       "_view_module": "@jupyter-widgets/controls",
       "_view_module_version": "1.5.0",
       "_view_name": "HTMLView",
       "description": "",
       "description_tooltip": null,
       "layout": "IPY_MODEL_22e684173c7a429789aea0cdc584f004",
       "placeholder": "​",
       "style": "IPY_MODEL_20ab1237cac74dfe85c858149c3f72a8",
       "value": "Validation DataLoader 0: 100%"
      }
     },
     "bd1787d2defc455990e824a607692d4c": {
      "model_module": "@jupyter-widgets/controls",
      "model_module_version": "1.5.0",
      "model_name": "DescriptionStyleModel",
      "state": {
       "_model_module": "@jupyter-widgets/controls",
       "_model_module_version": "1.5.0",
       "_model_name": "DescriptionStyleModel",
       "_view_count": null,
       "_view_module": "@jupyter-widgets/base",
       "_view_module_version": "1.2.0",
       "_view_name": "StyleView",
       "description_width": ""
      }
     },
     "bd507ff3f1e34c24b0e6ac212b100270": {
      "model_module": "@jupyter-widgets/controls",
      "model_module_version": "1.5.0",
      "model_name": "HTMLModel",
      "state": {
       "_dom_classes": [],
       "_model_module": "@jupyter-widgets/controls",
       "_model_module_version": "1.5.0",
       "_model_name": "HTMLModel",
       "_view_count": null,
       "_view_module": "@jupyter-widgets/controls",
       "_view_module_version": "1.5.0",
       "_view_name": "HTMLView",
       "description": "",
       "description_tooltip": null,
       "layout": "IPY_MODEL_63599eaf11e546d2a850f51b8ab1a35e",
       "placeholder": "​",
       "style": "IPY_MODEL_c09c78b362034e2984b3a41509fb83b9",
       "value": "Validation DataLoader 0: 100%"
      }
     },
     "c09c78b362034e2984b3a41509fb83b9": {
      "model_module": "@jupyter-widgets/controls",
      "model_module_version": "1.5.0",
      "model_name": "DescriptionStyleModel",
      "state": {
       "_model_module": "@jupyter-widgets/controls",
       "_model_module_version": "1.5.0",
       "_model_name": "DescriptionStyleModel",
       "_view_count": null,
       "_view_module": "@jupyter-widgets/base",
       "_view_module_version": "1.2.0",
       "_view_name": "StyleView",
       "description_width": ""
      }
     },
     "c26dd5fb664d4d5d9dc5700ac4bf1359": {
      "model_module": "@jupyter-widgets/controls",
      "model_module_version": "1.5.0",
      "model_name": "FloatProgressModel",
      "state": {
       "_dom_classes": [],
       "_model_module": "@jupyter-widgets/controls",
       "_model_module_version": "1.5.0",
       "_model_name": "FloatProgressModel",
       "_view_count": null,
       "_view_module": "@jupyter-widgets/controls",
       "_view_module_version": "1.5.0",
       "_view_name": "ProgressView",
       "bar_style": "",
       "description": "",
       "description_tooltip": null,
       "layout": "IPY_MODEL_20ec1148a41c4b3eb54a65a4934f8a6f",
       "max": 2.0,
       "min": 0.0,
       "orientation": "horizontal",
       "style": "IPY_MODEL_b234b72e07eb46e78b83ac514ae20ea7",
       "value": 2.0
      }
     },
     "c35dc10c3f2545faad29c8dc571a1775": {
      "model_module": "@jupyter-widgets/controls",
      "model_module_version": "1.5.0",
      "model_name": "ProgressStyleModel",
      "state": {
       "_model_module": "@jupyter-widgets/controls",
       "_model_module_version": "1.5.0",
       "_model_name": "ProgressStyleModel",
       "_view_count": null,
       "_view_module": "@jupyter-widgets/base",
       "_view_module_version": "1.2.0",
       "_view_name": "StyleView",
       "bar_color": null,
       "description_width": ""
      }
     },
     "c53789e1630545f48312342d0ce13da4": {
      "model_module": "@jupyter-widgets/controls",
      "model_module_version": "1.5.0",
      "model_name": "HTMLModel",
      "state": {
       "_dom_classes": [],
       "_model_module": "@jupyter-widgets/controls",
       "_model_module_version": "1.5.0",
       "_model_name": "HTMLModel",
       "_view_count": null,
       "_view_module": "@jupyter-widgets/controls",
       "_view_module_version": "1.5.0",
       "_view_name": "HTMLView",
       "description": "",
       "description_tooltip": null,
       "layout": "IPY_MODEL_2965e96a2a404f27947c0713647b5c46",
       "placeholder": "​",
       "style": "IPY_MODEL_ff5f06430f6348ce8b677ffe273b9621",
       "value": "Downloading (…)solve/main/vocab.txt: "
      }
     },
     "c5ed0802d480451b932763c2c06dc81b": {
      "model_module": "@jupyter-widgets/controls",
      "model_module_version": "1.5.0",
      "model_name": "HTMLModel",
      "state": {
       "_dom_classes": [],
       "_model_module": "@jupyter-widgets/controls",
       "_model_module_version": "1.5.0",
       "_model_name": "HTMLModel",
       "_view_count": null,
       "_view_module": "@jupyter-widgets/controls",
       "_view_module_version": "1.5.0",
       "_view_name": "HTMLView",
       "description": "",
       "description_tooltip": null,
       "layout": "IPY_MODEL_d4f8066037244d02a9070f42b349b414",
       "placeholder": "​",
       "style": "IPY_MODEL_84d36b09e19d4d98a97e2464f0d5ea6e",
       "value": " 715/715 [00:00&lt;00:00, 44.4kB/s]"
      }
     },
     "c5edfe7c30054e67b3b4fbad90494995": {
      "model_module": "@jupyter-widgets/controls",
      "model_module_version": "1.5.0",
      "model_name": "FloatProgressModel",
      "state": {
       "_dom_classes": [],
       "_model_module": "@jupyter-widgets/controls",
       "_model_module_version": "1.5.0",
       "_model_name": "FloatProgressModel",
       "_view_count": null,
       "_view_module": "@jupyter-widgets/controls",
       "_view_module_version": "1.5.0",
       "_view_name": "ProgressView",
       "bar_style": "",
       "description": "",
       "description_tooltip": null,
       "layout": "IPY_MODEL_81da19e2d19f47e78ac6f4f02778eb66",
       "max": 26.0,
       "min": 0.0,
       "orientation": "horizontal",
       "style": "IPY_MODEL_0b1077a228c1436da856f91c70affad0",
       "value": 26.0
      }
     },
     "c64e35aca04241c18025787348f3cdfc": {
      "model_module": "@jupyter-widgets/controls",
      "model_module_version": "1.5.0",
      "model_name": "HTMLModel",
      "state": {
       "_dom_classes": [],
       "_model_module": "@jupyter-widgets/controls",
       "_model_module_version": "1.5.0",
       "_model_name": "HTMLModel",
       "_view_count": null,
       "_view_module": "@jupyter-widgets/controls",
       "_view_module_version": "1.5.0",
       "_view_name": "HTMLView",
       "description": "",
       "description_tooltip": null,
       "layout": "IPY_MODEL_a2832e235bfe44d18746abb0d21901b3",
       "placeholder": "​",
       "style": "IPY_MODEL_614270b0d54e484d9a4b3a82887fe33b",
       "value": " 26/26 [00:02&lt;00:00, 12.03it/s]"
      }
     },
     "c69c9a8082f2424da04c182cd3306d3a": {
      "model_module": "@jupyter-widgets/base",
      "model_module_version": "1.2.0",
      "model_name": "LayoutModel",
      "state": {
       "_model_module": "@jupyter-widgets/base",
       "_model_module_version": "1.2.0",
       "_model_name": "LayoutModel",
       "_view_count": null,
       "_view_module": "@jupyter-widgets/base",
       "_view_module_version": "1.2.0",
       "_view_name": "LayoutView",
       "align_content": null,
       "align_items": null,
       "align_self": null,
       "border": null,
       "bottom": null,
       "display": null,
       "flex": null,
       "flex_flow": null,
       "grid_area": null,
       "grid_auto_columns": null,
       "grid_auto_flow": null,
       "grid_auto_rows": null,
       "grid_column": null,
       "grid_gap": null,
       "grid_row": null,
       "grid_template_areas": null,
       "grid_template_columns": null,
       "grid_template_rows": null,
       "height": null,
       "justify_content": null,
       "justify_items": null,
       "left": null,
       "margin": null,
       "max_height": null,
       "max_width": null,
       "min_height": null,
       "min_width": null,
       "object_fit": null,
       "object_position": null,
       "order": null,
       "overflow": null,
       "overflow_x": null,
       "overflow_y": null,
       "padding": null,
       "right": null,
       "top": null,
       "visibility": null,
       "width": null
      }
     },
     "c712f7418c2c4e1592eba5d421aa1c4b": {
      "model_module": "@jupyter-widgets/base",
      "model_module_version": "1.2.0",
      "model_name": "LayoutModel",
      "state": {
       "_model_module": "@jupyter-widgets/base",
       "_model_module_version": "1.2.0",
       "_model_name": "LayoutModel",
       "_view_count": null,
       "_view_module": "@jupyter-widgets/base",
       "_view_module_version": "1.2.0",
       "_view_name": "LayoutView",
       "align_content": null,
       "align_items": null,
       "align_self": null,
       "border": null,
       "bottom": null,
       "display": null,
       "flex": null,
       "flex_flow": null,
       "grid_area": null,
       "grid_auto_columns": null,
       "grid_auto_flow": null,
       "grid_auto_rows": null,
       "grid_column": null,
       "grid_gap": null,
       "grid_row": null,
       "grid_template_areas": null,
       "grid_template_columns": null,
       "grid_template_rows": null,
       "height": null,
       "justify_content": null,
       "justify_items": null,
       "left": null,
       "margin": null,
       "max_height": null,
       "max_width": null,
       "min_height": null,
       "min_width": null,
       "object_fit": null,
       "object_position": null,
       "order": null,
       "overflow": null,
       "overflow_x": null,
       "overflow_y": null,
       "padding": null,
       "right": null,
       "top": null,
       "visibility": null,
       "width": null
      }
     },
     "c8c73992d381422aba0e2f44108be9b9": {
      "model_module": "@jupyter-widgets/base",
      "model_module_version": "1.2.0",
      "model_name": "LayoutModel",
      "state": {
       "_model_module": "@jupyter-widgets/base",
       "_model_module_version": "1.2.0",
       "_model_name": "LayoutModel",
       "_view_count": null,
       "_view_module": "@jupyter-widgets/base",
       "_view_module_version": "1.2.0",
       "_view_name": "LayoutView",
       "align_content": null,
       "align_items": null,
       "align_self": null,
       "border": null,
       "bottom": null,
       "display": "inline-flex",
       "flex": null,
       "flex_flow": "row wrap",
       "grid_area": null,
       "grid_auto_columns": null,
       "grid_auto_flow": null,
       "grid_auto_rows": null,
       "grid_column": null,
       "grid_gap": null,
       "grid_row": null,
       "grid_template_areas": null,
       "grid_template_columns": null,
       "grid_template_rows": null,
       "height": null,
       "justify_content": null,
       "justify_items": null,
       "left": null,
       "margin": null,
       "max_height": null,
       "max_width": null,
       "min_height": null,
       "min_width": null,
       "object_fit": null,
       "object_position": null,
       "order": null,
       "overflow": null,
       "overflow_x": null,
       "overflow_y": null,
       "padding": null,
       "right": null,
       "top": null,
       "visibility": "hidden",
       "width": "100%"
      }
     },
     "c963547f9a0c40d5ae5cef6b1630a943": {
      "model_module": "@jupyter-widgets/controls",
      "model_module_version": "1.5.0",
      "model_name": "HBoxModel",
      "state": {
       "_dom_classes": [],
       "_model_module": "@jupyter-widgets/controls",
       "_model_module_version": "1.5.0",
       "_model_name": "HBoxModel",
       "_view_count": null,
       "_view_module": "@jupyter-widgets/controls",
       "_view_module_version": "1.5.0",
       "_view_name": "HBoxView",
       "box_style": "",
       "children": [
        "IPY_MODEL_9b640a857cfb44c99c86db1164207138",
        "IPY_MODEL_2c892906c1924f858ac4a441930d6096",
        "IPY_MODEL_797f5db734d84dfe8a528310c9d15166"
       ],
       "layout": "IPY_MODEL_6418d6d206224b98ade7d1b0f6d806d3"
      }
     },
     "cc7a7ef738e24e749650c02305733ccd": {
      "model_module": "@jupyter-widgets/controls",
      "model_module_version": "1.5.0",
      "model_name": "ProgressStyleModel",
      "state": {
       "_model_module": "@jupyter-widgets/controls",
       "_model_module_version": "1.5.0",
       "_model_name": "ProgressStyleModel",
       "_view_count": null,
       "_view_module": "@jupyter-widgets/base",
       "_view_module_version": "1.2.0",
       "_view_name": "StyleView",
       "bar_color": null,
       "description_width": ""
      }
     },
     "ce0d4d05b14840609a9addd4df65aab9": {
      "model_module": "@jupyter-widgets/base",
      "model_module_version": "1.2.0",
      "model_name": "LayoutModel",
      "state": {
       "_model_module": "@jupyter-widgets/base",
       "_model_module_version": "1.2.0",
       "_model_name": "LayoutModel",
       "_view_count": null,
       "_view_module": "@jupyter-widgets/base",
       "_view_module_version": "1.2.0",
       "_view_name": "LayoutView",
       "align_content": null,
       "align_items": null,
       "align_self": null,
       "border": null,
       "bottom": null,
       "display": null,
       "flex": null,
       "flex_flow": null,
       "grid_area": null,
       "grid_auto_columns": null,
       "grid_auto_flow": null,
       "grid_auto_rows": null,
       "grid_column": null,
       "grid_gap": null,
       "grid_row": null,
       "grid_template_areas": null,
       "grid_template_columns": null,
       "grid_template_rows": null,
       "height": null,
       "justify_content": null,
       "justify_items": null,
       "left": null,
       "margin": null,
       "max_height": null,
       "max_width": null,
       "min_height": null,
       "min_width": null,
       "object_fit": null,
       "object_position": null,
       "order": null,
       "overflow": null,
       "overflow_x": null,
       "overflow_y": null,
       "padding": null,
       "right": null,
       "top": null,
       "visibility": null,
       "width": null
      }
     },
     "cf2798c0ba0c4fd38c8deb9f55514ea9": {
      "model_module": "@jupyter-widgets/controls",
      "model_module_version": "1.5.0",
      "model_name": "DescriptionStyleModel",
      "state": {
       "_model_module": "@jupyter-widgets/controls",
       "_model_module_version": "1.5.0",
       "_model_name": "DescriptionStyleModel",
       "_view_count": null,
       "_view_module": "@jupyter-widgets/base",
       "_view_module_version": "1.2.0",
       "_view_name": "StyleView",
       "description_width": ""
      }
     },
     "d4c53d39b5a445bc9540f2824cd35134": {
      "model_module": "@jupyter-widgets/controls",
      "model_module_version": "1.5.0",
      "model_name": "DescriptionStyleModel",
      "state": {
       "_model_module": "@jupyter-widgets/controls",
       "_model_module_version": "1.5.0",
       "_model_name": "DescriptionStyleModel",
       "_view_count": null,
       "_view_module": "@jupyter-widgets/base",
       "_view_module_version": "1.2.0",
       "_view_name": "StyleView",
       "description_width": ""
      }
     },
     "d4f8066037244d02a9070f42b349b414": {
      "model_module": "@jupyter-widgets/base",
      "model_module_version": "1.2.0",
      "model_name": "LayoutModel",
      "state": {
       "_model_module": "@jupyter-widgets/base",
       "_model_module_version": "1.2.0",
       "_model_name": "LayoutModel",
       "_view_count": null,
       "_view_module": "@jupyter-widgets/base",
       "_view_module_version": "1.2.0",
       "_view_name": "LayoutView",
       "align_content": null,
       "align_items": null,
       "align_self": null,
       "border": null,
       "bottom": null,
       "display": null,
       "flex": null,
       "flex_flow": null,
       "grid_area": null,
       "grid_auto_columns": null,
       "grid_auto_flow": null,
       "grid_auto_rows": null,
       "grid_column": null,
       "grid_gap": null,
       "grid_row": null,
       "grid_template_areas": null,
       "grid_template_columns": null,
       "grid_template_rows": null,
       "height": null,
       "justify_content": null,
       "justify_items": null,
       "left": null,
       "margin": null,
       "max_height": null,
       "max_width": null,
       "min_height": null,
       "min_width": null,
       "object_fit": null,
       "object_position": null,
       "order": null,
       "overflow": null,
       "overflow_x": null,
       "overflow_y": null,
       "padding": null,
       "right": null,
       "top": null,
       "visibility": null,
       "width": null
      }
     },
     "d75259f997d647338f427c8c24a0dfd4": {
      "model_module": "@jupyter-widgets/base",
      "model_module_version": "1.2.0",
      "model_name": "LayoutModel",
      "state": {
       "_model_module": "@jupyter-widgets/base",
       "_model_module_version": "1.2.0",
       "_model_name": "LayoutModel",
       "_view_count": null,
       "_view_module": "@jupyter-widgets/base",
       "_view_module_version": "1.2.0",
       "_view_name": "LayoutView",
       "align_content": null,
       "align_items": null,
       "align_self": null,
       "border": null,
       "bottom": null,
       "display": null,
       "flex": null,
       "flex_flow": null,
       "grid_area": null,
       "grid_auto_columns": null,
       "grid_auto_flow": null,
       "grid_auto_rows": null,
       "grid_column": null,
       "grid_gap": null,
       "grid_row": null,
       "grid_template_areas": null,
       "grid_template_columns": null,
       "grid_template_rows": null,
       "height": null,
       "justify_content": null,
       "justify_items": null,
       "left": null,
       "margin": null,
       "max_height": null,
       "max_width": null,
       "min_height": null,
       "min_width": null,
       "object_fit": null,
       "object_position": null,
       "order": null,
       "overflow": null,
       "overflow_x": null,
       "overflow_y": null,
       "padding": null,
       "right": null,
       "top": null,
       "visibility": null,
       "width": null
      }
     },
     "d99436bc0e43407dab7b289be2628220": {
      "model_module": "@jupyter-widgets/base",
      "model_module_version": "1.2.0",
      "model_name": "LayoutModel",
      "state": {
       "_model_module": "@jupyter-widgets/base",
       "_model_module_version": "1.2.0",
       "_model_name": "LayoutModel",
       "_view_count": null,
       "_view_module": "@jupyter-widgets/base",
       "_view_module_version": "1.2.0",
       "_view_name": "LayoutView",
       "align_content": null,
       "align_items": null,
       "align_self": null,
       "border": null,
       "bottom": null,
       "display": null,
       "flex": null,
       "flex_flow": null,
       "grid_area": null,
       "grid_auto_columns": null,
       "grid_auto_flow": null,
       "grid_auto_rows": null,
       "grid_column": null,
       "grid_gap": null,
       "grid_row": null,
       "grid_template_areas": null,
       "grid_template_columns": null,
       "grid_template_rows": null,
       "height": null,
       "justify_content": null,
       "justify_items": null,
       "left": null,
       "margin": null,
       "max_height": null,
       "max_width": null,
       "min_height": null,
       "min_width": null,
       "object_fit": null,
       "object_position": null,
       "order": null,
       "overflow": null,
       "overflow_x": null,
       "overflow_y": null,
       "padding": null,
       "right": null,
       "top": null,
       "visibility": null,
       "width": null
      }
     },
     "dadfb10f417d41e8b6af74f10e07741d": {
      "model_module": "@jupyter-widgets/controls",
      "model_module_version": "1.5.0",
      "model_name": "HTMLModel",
      "state": {
       "_dom_classes": [],
       "_model_module": "@jupyter-widgets/controls",
       "_model_module_version": "1.5.0",
       "_model_name": "HTMLModel",
       "_view_count": null,
       "_view_module": "@jupyter-widgets/controls",
       "_view_module_version": "1.5.0",
       "_view_name": "HTMLView",
       "description": "",
       "description_tooltip": null,
       "layout": "IPY_MODEL_0d9acc463b884cf79e8d6f673589f041",
       "placeholder": "​",
       "style": "IPY_MODEL_b0387dc67e0d4752ac774a51e2ff03d7",
       "value": " 1.08M/? [00:00&lt;00:00, 1.43MB/s]"
      }
     },
     "db17a49fa5af4d9cbf5c77c1aaf88f49": {
      "model_module": "@jupyter-widgets/base",
      "model_module_version": "1.2.0",
      "model_name": "LayoutModel",
      "state": {
       "_model_module": "@jupyter-widgets/base",
       "_model_module_version": "1.2.0",
       "_model_name": "LayoutModel",
       "_view_count": null,
       "_view_module": "@jupyter-widgets/base",
       "_view_module_version": "1.2.0",
       "_view_name": "LayoutView",
       "align_content": null,
       "align_items": null,
       "align_self": null,
       "border": null,
       "bottom": null,
       "display": null,
       "flex": null,
       "flex_flow": null,
       "grid_area": null,
       "grid_auto_columns": null,
       "grid_auto_flow": null,
       "grid_auto_rows": null,
       "grid_column": null,
       "grid_gap": null,
       "grid_row": null,
       "grid_template_areas": null,
       "grid_template_columns": null,
       "grid_template_rows": null,
       "height": null,
       "justify_content": null,
       "justify_items": null,
       "left": null,
       "margin": null,
       "max_height": null,
       "max_width": null,
       "min_height": null,
       "min_width": null,
       "object_fit": null,
       "object_position": null,
       "order": null,
       "overflow": null,
       "overflow_x": null,
       "overflow_y": null,
       "padding": null,
       "right": null,
       "top": null,
       "visibility": null,
       "width": null
      }
     },
     "dbc95de9aa9f4c0e80afe523547b927a": {
      "model_module": "@jupyter-widgets/base",
      "model_module_version": "1.2.0",
      "model_name": "LayoutModel",
      "state": {
       "_model_module": "@jupyter-widgets/base",
       "_model_module_version": "1.2.0",
       "_model_name": "LayoutModel",
       "_view_count": null,
       "_view_module": "@jupyter-widgets/base",
       "_view_module_version": "1.2.0",
       "_view_name": "LayoutView",
       "align_content": null,
       "align_items": null,
       "align_self": null,
       "border": null,
       "bottom": null,
       "display": null,
       "flex": null,
       "flex_flow": null,
       "grid_area": null,
       "grid_auto_columns": null,
       "grid_auto_flow": null,
       "grid_auto_rows": null,
       "grid_column": null,
       "grid_gap": null,
       "grid_row": null,
       "grid_template_areas": null,
       "grid_template_columns": null,
       "grid_template_rows": null,
       "height": null,
       "justify_content": null,
       "justify_items": null,
       "left": null,
       "margin": null,
       "max_height": null,
       "max_width": null,
       "min_height": null,
       "min_width": null,
       "object_fit": null,
       "object_position": null,
       "order": null,
       "overflow": null,
       "overflow_x": null,
       "overflow_y": null,
       "padding": null,
       "right": null,
       "top": null,
       "visibility": null,
       "width": null
      }
     },
     "df5ac7bf9e174745a3f6dc85f9b9ab36": {
      "model_module": "@jupyter-widgets/controls",
      "model_module_version": "1.5.0",
      "model_name": "ProgressStyleModel",
      "state": {
       "_model_module": "@jupyter-widgets/controls",
       "_model_module_version": "1.5.0",
       "_model_name": "ProgressStyleModel",
       "_view_count": null,
       "_view_module": "@jupyter-widgets/base",
       "_view_module_version": "1.2.0",
       "_view_name": "StyleView",
       "bar_color": null,
       "description_width": ""
      }
     },
     "e144a32e4f7f431e8674c8384ed0bd04": {
      "model_module": "@jupyter-widgets/base",
      "model_module_version": "1.2.0",
      "model_name": "LayoutModel",
      "state": {
       "_model_module": "@jupyter-widgets/base",
       "_model_module_version": "1.2.0",
       "_model_name": "LayoutModel",
       "_view_count": null,
       "_view_module": "@jupyter-widgets/base",
       "_view_module_version": "1.2.0",
       "_view_name": "LayoutView",
       "align_content": null,
       "align_items": null,
       "align_self": null,
       "border": null,
       "bottom": null,
       "display": "inline-flex",
       "flex": null,
       "flex_flow": "row wrap",
       "grid_area": null,
       "grid_auto_columns": null,
       "grid_auto_flow": null,
       "grid_auto_rows": null,
       "grid_column": null,
       "grid_gap": null,
       "grid_row": null,
       "grid_template_areas": null,
       "grid_template_columns": null,
       "grid_template_rows": null,
       "height": null,
       "justify_content": null,
       "justify_items": null,
       "left": null,
       "margin": null,
       "max_height": null,
       "max_width": null,
       "min_height": null,
       "min_width": null,
       "object_fit": null,
       "object_position": null,
       "order": null,
       "overflow": null,
       "overflow_x": null,
       "overflow_y": null,
       "padding": null,
       "right": null,
       "top": null,
       "visibility": "hidden",
       "width": "100%"
      }
     },
     "e34a13c3a22f4e22b6225197bde981bd": {
      "model_module": "@jupyter-widgets/base",
      "model_module_version": "1.2.0",
      "model_name": "LayoutModel",
      "state": {
       "_model_module": "@jupyter-widgets/base",
       "_model_module_version": "1.2.0",
       "_model_name": "LayoutModel",
       "_view_count": null,
       "_view_module": "@jupyter-widgets/base",
       "_view_module_version": "1.2.0",
       "_view_name": "LayoutView",
       "align_content": null,
       "align_items": null,
       "align_self": null,
       "border": null,
       "bottom": null,
       "display": "inline-flex",
       "flex": null,
       "flex_flow": "row wrap",
       "grid_area": null,
       "grid_auto_columns": null,
       "grid_auto_flow": null,
       "grid_auto_rows": null,
       "grid_column": null,
       "grid_gap": null,
       "grid_row": null,
       "grid_template_areas": null,
       "grid_template_columns": null,
       "grid_template_rows": null,
       "height": null,
       "justify_content": null,
       "justify_items": null,
       "left": null,
       "margin": null,
       "max_height": null,
       "max_width": null,
       "min_height": null,
       "min_width": null,
       "object_fit": null,
       "object_position": null,
       "order": null,
       "overflow": null,
       "overflow_x": null,
       "overflow_y": null,
       "padding": null,
       "right": null,
       "top": null,
       "visibility": "hidden",
       "width": "100%"
      }
     },
     "e85c5900d5fa43269e0718039710f127": {
      "model_module": "@jupyter-widgets/controls",
      "model_module_version": "1.5.0",
      "model_name": "ProgressStyleModel",
      "state": {
       "_model_module": "@jupyter-widgets/controls",
       "_model_module_version": "1.5.0",
       "_model_name": "ProgressStyleModel",
       "_view_count": null,
       "_view_module": "@jupyter-widgets/base",
       "_view_module_version": "1.2.0",
       "_view_name": "StyleView",
       "bar_color": null,
       "description_width": ""
      }
     },
     "ed315ff553f1498c9eb7f86df993d4ec": {
      "model_module": "@jupyter-widgets/controls",
      "model_module_version": "1.5.0",
      "model_name": "HTMLModel",
      "state": {
       "_dom_classes": [],
       "_model_module": "@jupyter-widgets/controls",
       "_model_module_version": "1.5.0",
       "_model_name": "HTMLModel",
       "_view_count": null,
       "_view_module": "@jupyter-widgets/controls",
       "_view_module_version": "1.5.0",
       "_view_name": "HTMLView",
       "description": "",
       "description_tooltip": null,
       "layout": "IPY_MODEL_b22b830b6b6c4ac2859ad75624f0abdc",
       "placeholder": "​",
       "style": "IPY_MODEL_29fbd4bff14d4bb8a09b6cf94fde2a4f",
       "value": " 118M/118M [00:04&lt;00:00, 32.1MB/s]"
      }
     },
     "ed8d0fb51bbf4f56a45c0916099ff37d": {
      "model_module": "@jupyter-widgets/controls",
      "model_module_version": "1.5.0",
      "model_name": "HTMLModel",
      "state": {
       "_dom_classes": [],
       "_model_module": "@jupyter-widgets/controls",
       "_model_module_version": "1.5.0",
       "_model_name": "HTMLModel",
       "_view_count": null,
       "_view_module": "@jupyter-widgets/controls",
       "_view_module_version": "1.5.0",
       "_view_name": "HTMLView",
       "description": "",
       "description_tooltip": null,
       "layout": "IPY_MODEL_522387594ffc4302958ae986f75a864a",
       "placeholder": "​",
       "style": "IPY_MODEL_3a9cd758a72e48bba8cca736b41f8deb",
       "value": " 1.74M/? [00:00&lt;00:00, 2.41MB/s]"
      }
     },
     "eef877cba75c4613b228d5d4f566a1e2": {
      "model_module": "@jupyter-widgets/controls",
      "model_module_version": "1.5.0",
      "model_name": "DescriptionStyleModel",
      "state": {
       "_model_module": "@jupyter-widgets/controls",
       "_model_module_version": "1.5.0",
       "_model_name": "DescriptionStyleModel",
       "_view_count": null,
       "_view_module": "@jupyter-widgets/base",
       "_view_module_version": "1.2.0",
       "_view_name": "StyleView",
       "description_width": ""
      }
     },
     "f2224a4ed6c24dc495771c6e2a89ab74": {
      "model_module": "@jupyter-widgets/controls",
      "model_module_version": "1.5.0",
      "model_name": "ProgressStyleModel",
      "state": {
       "_model_module": "@jupyter-widgets/controls",
       "_model_module_version": "1.5.0",
       "_model_name": "ProgressStyleModel",
       "_view_count": null,
       "_view_module": "@jupyter-widgets/base",
       "_view_module_version": "1.2.0",
       "_view_name": "StyleView",
       "bar_color": null,
       "description_width": ""
      }
     },
     "f2fa47da6cf4423cb120a51f1ca47b04": {
      "model_module": "@jupyter-widgets/controls",
      "model_module_version": "1.5.0",
      "model_name": "FloatProgressModel",
      "state": {
       "_dom_classes": [],
       "_model_module": "@jupyter-widgets/controls",
       "_model_module_version": "1.5.0",
       "_model_name": "FloatProgressModel",
       "_view_count": null,
       "_view_module": "@jupyter-widgets/controls",
       "_view_module_version": "1.5.0",
       "_view_name": "ProgressView",
       "bar_style": "success",
       "description": "",
       "description_tooltip": null,
       "layout": "IPY_MODEL_06f4d673a5ee4bc88a61bdb073654f65",
       "max": 715.0,
       "min": 0.0,
       "orientation": "horizontal",
       "style": "IPY_MODEL_f2224a4ed6c24dc495771c6e2a89ab74",
       "value": 715.0
      }
     },
     "f344f65cc6f2402b8d863a1d50f2b071": {
      "model_module": "@jupyter-widgets/controls",
      "model_module_version": "1.5.0",
      "model_name": "HTMLModel",
      "state": {
       "_dom_classes": [],
       "_model_module": "@jupyter-widgets/controls",
       "_model_module_version": "1.5.0",
       "_model_name": "HTMLModel",
       "_view_count": null,
       "_view_module": "@jupyter-widgets/controls",
       "_view_module_version": "1.5.0",
       "_view_name": "HTMLView",
       "description": "",
       "description_tooltip": null,
       "layout": "IPY_MODEL_db17a49fa5af4d9cbf5c77c1aaf88f49",
       "placeholder": "​",
       "style": "IPY_MODEL_641d51d9fe084f93853c774a1767f5a5",
       "value": " 26/26 [00:02&lt;00:00, 12.02it/s]"
      }
     },
     "f4db33ea088140119890ac7de8c76c61": {
      "model_module": "@jupyter-widgets/base",
      "model_module_version": "1.2.0",
      "model_name": "LayoutModel",
      "state": {
       "_model_module": "@jupyter-widgets/base",
       "_model_module_version": "1.2.0",
       "_model_name": "LayoutModel",
       "_view_count": null,
       "_view_module": "@jupyter-widgets/base",
       "_view_module_version": "1.2.0",
       "_view_name": "LayoutView",
       "align_content": null,
       "align_items": null,
       "align_self": null,
       "border": null,
       "bottom": null,
       "display": null,
       "flex": "2",
       "flex_flow": null,
       "grid_area": null,
       "grid_auto_columns": null,
       "grid_auto_flow": null,
       "grid_auto_rows": null,
       "grid_column": null,
       "grid_gap": null,
       "grid_row": null,
       "grid_template_areas": null,
       "grid_template_columns": null,
       "grid_template_rows": null,
       "height": null,
       "justify_content": null,
       "justify_items": null,
       "left": null,
       "margin": null,
       "max_height": null,
       "max_width": null,
       "min_height": null,
       "min_width": null,
       "object_fit": null,
       "object_position": null,
       "order": null,
       "overflow": null,
       "overflow_x": null,
       "overflow_y": null,
       "padding": null,
       "right": null,
       "top": null,
       "visibility": null,
       "width": null
      }
     },
     "f55a4c528fb44b8d8a14789f0076b29d": {
      "model_module": "@jupyter-widgets/controls",
      "model_module_version": "1.5.0",
      "model_name": "HTMLModel",
      "state": {
       "_dom_classes": [],
       "_model_module": "@jupyter-widgets/controls",
       "_model_module_version": "1.5.0",
       "_model_name": "HTMLModel",
       "_view_count": null,
       "_view_module": "@jupyter-widgets/controls",
       "_view_module_version": "1.5.0",
       "_view_name": "HTMLView",
       "description": "",
       "description_tooltip": null,
       "layout": "IPY_MODEL_a354a79a5f0b4e59958e2cef8e94fdb1",
       "placeholder": "​",
       "style": "IPY_MODEL_cf2798c0ba0c4fd38c8deb9f55514ea9",
       "value": "Downloading (…)&quot;pytorch_model.bin&quot;;: 100%"
      }
     },
     "fa56e74475e64cb6a132badfbe54e6fa": {
      "model_module": "@jupyter-widgets/controls",
      "model_module_version": "1.5.0",
      "model_name": "HBoxModel",
      "state": {
       "_dom_classes": [],
       "_model_module": "@jupyter-widgets/controls",
       "_model_module_version": "1.5.0",
       "_model_name": "HBoxModel",
       "_view_count": null,
       "_view_module": "@jupyter-widgets/controls",
       "_view_module_version": "1.5.0",
       "_view_name": "HBoxView",
       "box_style": "",
       "children": [
        "IPY_MODEL_c53789e1630545f48312342d0ce13da4",
        "IPY_MODEL_64ed39fd33d14b8a8d9f8ff04684f194",
        "IPY_MODEL_dadfb10f417d41e8b6af74f10e07741d"
       ],
       "layout": "IPY_MODEL_1b620936a05f48eda596ee5c0755e0e8"
      }
     },
     "fb781f8e5d0a4c76aad131de2fa3950a": {
      "model_module": "@jupyter-widgets/controls",
      "model_module_version": "1.5.0",
      "model_name": "HTMLModel",
      "state": {
       "_dom_classes": [],
       "_model_module": "@jupyter-widgets/controls",
       "_model_module_version": "1.5.0",
       "_model_name": "HTMLModel",
       "_view_count": null,
       "_view_module": "@jupyter-widgets/controls",
       "_view_module_version": "1.5.0",
       "_view_name": "HTMLView",
       "description": "",
       "description_tooltip": null,
       "layout": "IPY_MODEL_177a35e801a54f2baf68af74bf3a3d6c",
       "placeholder": "​",
       "style": "IPY_MODEL_0f72aa4e10054b9b93597abad8d26c4c",
       "value": " 2/2 [00:01&lt;00:00,  1.45it/s]"
      }
     },
     "fbd8d791e89147c19e0b99c2d7b5d21f": {
      "model_module": "@jupyter-widgets/controls",
      "model_module_version": "1.5.0",
      "model_name": "DescriptionStyleModel",
      "state": {
       "_model_module": "@jupyter-widgets/controls",
       "_model_module_version": "1.5.0",
       "_model_name": "DescriptionStyleModel",
       "_view_count": null,
       "_view_module": "@jupyter-widgets/base",
       "_view_module_version": "1.2.0",
       "_view_name": "StyleView",
       "description_width": ""
      }
     },
     "fd24451e59374443b2e0a18206d8c720": {
      "model_module": "@jupyter-widgets/base",
      "model_module_version": "1.2.0",
      "model_name": "LayoutModel",
      "state": {
       "_model_module": "@jupyter-widgets/base",
       "_model_module_version": "1.2.0",
       "_model_name": "LayoutModel",
       "_view_count": null,
       "_view_module": "@jupyter-widgets/base",
       "_view_module_version": "1.2.0",
       "_view_name": "LayoutView",
       "align_content": null,
       "align_items": null,
       "align_self": null,
       "border": null,
       "bottom": null,
       "display": null,
       "flex": null,
       "flex_flow": null,
       "grid_area": null,
       "grid_auto_columns": null,
       "grid_auto_flow": null,
       "grid_auto_rows": null,
       "grid_column": null,
       "grid_gap": null,
       "grid_row": null,
       "grid_template_areas": null,
       "grid_template_columns": null,
       "grid_template_rows": null,
       "height": null,
       "justify_content": null,
       "justify_items": null,
       "left": null,
       "margin": null,
       "max_height": null,
       "max_width": null,
       "min_height": null,
       "min_width": null,
       "object_fit": null,
       "object_position": null,
       "order": null,
       "overflow": null,
       "overflow_x": null,
       "overflow_y": null,
       "padding": null,
       "right": null,
       "top": null,
       "visibility": null,
       "width": null
      }
     },
     "fef937ab1d184ccf967ba1255d6339b9": {
      "model_module": "@jupyter-widgets/controls",
      "model_module_version": "1.5.0",
      "model_name": "ProgressStyleModel",
      "state": {
       "_model_module": "@jupyter-widgets/controls",
       "_model_module_version": "1.5.0",
       "_model_name": "ProgressStyleModel",
       "_view_count": null,
       "_view_module": "@jupyter-widgets/base",
       "_view_module_version": "1.2.0",
       "_view_name": "StyleView",
       "bar_color": null,
       "description_width": ""
      }
     },
     "ff5f06430f6348ce8b677ffe273b9621": {
      "model_module": "@jupyter-widgets/controls",
      "model_module_version": "1.5.0",
      "model_name": "DescriptionStyleModel",
      "state": {
       "_model_module": "@jupyter-widgets/controls",
       "_model_module_version": "1.5.0",
       "_model_name": "DescriptionStyleModel",
       "_view_count": null,
       "_view_module": "@jupyter-widgets/base",
       "_view_module_version": "1.2.0",
       "_view_name": "StyleView",
       "description_width": ""
      }
     }
    },
    "version_major": 2,
    "version_minor": 0
   }
  }
 },
 "nbformat": 4,
 "nbformat_minor": 5
}

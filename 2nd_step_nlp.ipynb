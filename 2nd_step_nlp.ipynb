{
 "cells": [
  {
   "cell_type": "raw",
   "id": "7a852733",
   "metadata": {
    "papermill": {
     "duration": 0.013514,
     "end_time": "2023-03-29T08:27:58.452220",
     "exception": false,
     "start_time": "2023-03-29T08:27:58.438706",
     "status": "completed"
    },
    "tags": []
   },
   "source": [
    "<h1><center>Salary prediction</center></h1>"
   ]
  },
  {
   "cell_type": "markdown",
   "id": "8d880db9",
   "metadata": {
    "papermill": {
     "duration": 0.01186,
     "end_time": "2023-03-29T08:27:58.476471",
     "exception": false,
     "start_time": "2023-03-29T08:27:58.464611",
     "status": "completed"
    },
    "tags": []
   },
   "source": [
    "This notebook contains the  end to end pipeline for training and predicting on test\n",
    "\n",
    "Here are the things we'll cover.\n",
    "1. [EDA on data](#section-one)\n",
    "2. [Data prep and feature generation](#section-two)\n",
    "3. [TF-IDF and linear regression](#section-three)\n",
    "4. [Catboost with text features](#section-four)\n"
   ]
  },
  {
   "cell_type": "markdown",
   "id": "2872cd8a",
   "metadata": {
    "papermill": {
     "duration": 0.01258,
     "end_time": "2023-03-29T08:27:58.501053",
     "exception": false,
     "start_time": "2023-03-29T08:27:58.488473",
     "status": "completed"
    },
    "tags": []
   },
   "source": [
    "## Libraries 📚⬇"
   ]
  },
  {
   "cell_type": "code",
   "execution_count": 1,
   "id": "a4227714",
   "metadata": {
    "execution": {
     "iopub.execute_input": "2023-03-29T08:27:58.528130Z",
     "iopub.status.busy": "2023-03-29T08:27:58.527642Z",
     "iopub.status.idle": "2023-03-29T08:28:09.418762Z",
     "shell.execute_reply": "2023-03-29T08:28:09.417250Z"
    },
    "papermill": {
     "duration": 10.908629,
     "end_time": "2023-03-29T08:28:09.422037",
     "exception": false,
     "start_time": "2023-03-29T08:27:58.513408",
     "status": "completed"
    },
    "tags": []
   },
   "outputs": [
    {
     "name": "stdout",
     "output_type": "stream",
     "text": [
      "\u001b[33mWARNING: Running pip as the 'root' user can result in broken permissions and conflicting behaviour with the system package manager. It is recommended to use a virtual environment instead: https://pip.pypa.io/warnings/venv\u001b[0m\u001b[33m\r\n",
      "\u001b[0m"
     ]
    }
   ],
   "source": [
    "!pip install pymorphy2 -q"
   ]
  },
  {
   "cell_type": "code",
   "execution_count": 2,
   "id": "43117815",
   "metadata": {
    "_kg_hide-output": true,
    "execution": {
     "iopub.execute_input": "2023-03-29T08:28:09.451792Z",
     "iopub.status.busy": "2023-03-29T08:28:09.451423Z",
     "iopub.status.idle": "2023-03-29T08:28:12.608440Z",
     "shell.execute_reply": "2023-03-29T08:28:12.607352Z"
    },
    "papermill": {
     "duration": 3.174605,
     "end_time": "2023-03-29T08:28:12.611050",
     "exception": false,
     "start_time": "2023-03-29T08:28:09.436445",
     "status": "completed"
    },
    "tags": []
   },
   "outputs": [
    {
     "name": "stdout",
     "output_type": "stream",
     "text": [
      "[nltk_data] Downloading package stopwords to /usr/share/nltk_data...\n",
      "[nltk_data]   Package stopwords is already up-to-date!\n",
      "[nltk_data] Downloading package punkt to /usr/share/nltk_data...\n",
      "[nltk_data]   Package punkt is already up-to-date!\n",
      "[nltk_data] Downloading package wordnet to /usr/share/nltk_data...\n",
      "[nltk_data]   Package wordnet is already up-to-date!\n",
      "[nltk_data] Downloading package omw-1.4 to /usr/share/nltk_data...\n"
     ]
    }
   ],
   "source": [
    "import os\n",
    "import pandas as pd\n",
    "import numpy as np\n",
    "import seaborn as sns\n",
    "import matplotlib.pyplot as plt\n",
    "# from tqdm import tqdm\n",
    "from tqdm.notebook import tqdm\n",
    "\n",
    "#### TEXT PROCESSING\n",
    "import re\n",
    "import nltk\n",
    "nltk.download('stopwords')\n",
    "nltk.download('punkt')\n",
    "nltk.download('wordnet')\n",
    "nltk.download('omw-1.4')\n",
    "from nltk.tokenize import word_tokenize\n",
    "from nltk.corpus import stopwords\n",
    "from pymorphy2 import MorphAnalyzer\n",
    "from functools import lru_cache\n",
    "\n",
    "#### MODELS\n",
    "from sklearn.feature_extraction.text import TfidfVectorizer\n",
    "from ast import literal_eval\n",
    "from sklearn.linear_model import Ridge\n",
    "from sklearn.compose import ColumnTransformer\n",
    "from sklearn.pipeline import Pipeline\n",
    "from sklearn.preprocessing import MinMaxScaler, OneHotEncoder\n",
    "from sklearn.preprocessing import MultiLabelBinarizer\n",
    "\n",
    "import statsmodels.api as sm\n",
    "from scipy.stats import norm\n",
    "from scipy.sparse import hstack\n",
    "import scipy.stats as stats\n",
    "\n",
    "#### SETTINGS\n",
    "plt.rcParams[\"figure.figsize\"] = [10, 6]\n",
    "tqdm.pandas()\n",
    "import warnings\n",
    "warnings.filterwarnings('ignore')\n",
    "import random\n",
    "random.seed(42)\n",
    "np.random.seed(42)"
   ]
  },
  {
   "cell_type": "markdown",
   "id": "131ed451",
   "metadata": {
    "papermill": {
     "duration": 0.012136,
     "end_time": "2023-03-29T08:28:12.635869",
     "exception": false,
     "start_time": "2023-03-29T08:28:12.623733",
     "status": "completed"
    },
    "tags": []
   },
   "source": [
    "<a id=\"section-one\"></a>\n",
    "# EDA on data"
   ]
  },
  {
   "cell_type": "code",
   "execution_count": 3,
   "id": "49ed4537",
   "metadata": {
    "execution": {
     "iopub.execute_input": "2023-03-29T08:28:12.661673Z",
     "iopub.status.busy": "2023-03-29T08:28:12.661359Z",
     "iopub.status.idle": "2023-03-29T08:28:13.982267Z",
     "shell.execute_reply": "2023-03-29T08:28:13.981019Z"
    },
    "papermill": {
     "duration": 1.336794,
     "end_time": "2023-03-29T08:28:13.984876",
     "exception": false,
     "start_time": "2023-03-29T08:28:12.648082",
     "status": "completed"
    },
    "tags": []
   },
   "outputs": [],
   "source": [
    "# Import data\n",
    "df_train = pd.read_csv('../input/hse-2nd-step-in-nlp-bootcamp/vacancies_train.csv')\n",
    "df_test = pd.read_csv('../input/hse-2nd-step-in-nlp-bootcamp/vacancies_test.csv', index_col=0)"
   ]
  },
  {
   "cell_type": "code",
   "execution_count": 4,
   "id": "8d41b635",
   "metadata": {
    "execution": {
     "iopub.execute_input": "2023-03-29T08:28:14.011332Z",
     "iopub.status.busy": "2023-03-29T08:28:14.010704Z",
     "iopub.status.idle": "2023-03-29T08:28:14.027349Z",
     "shell.execute_reply": "2023-03-29T08:28:14.026265Z"
    },
    "papermill": {
     "duration": 0.032752,
     "end_time": "2023-03-29T08:28:14.030129",
     "exception": false,
     "start_time": "2023-03-29T08:28:13.997377",
     "status": "completed"
    },
    "tags": []
   },
   "outputs": [
    {
     "data": {
      "text/html": [
       "<div>\n",
       "<style scoped>\n",
       "    .dataframe tbody tr th:only-of-type {\n",
       "        vertical-align: middle;\n",
       "    }\n",
       "\n",
       "    .dataframe tbody tr th {\n",
       "        vertical-align: top;\n",
       "    }\n",
       "\n",
       "    .dataframe thead th {\n",
       "        text-align: right;\n",
       "    }\n",
       "</style>\n",
       "<table border=\"1\" class=\"dataframe\">\n",
       "  <thead>\n",
       "    <tr style=\"text-align: right;\">\n",
       "      <th></th>\n",
       "      <th>name</th>\n",
       "      <th>experience</th>\n",
       "      <th>schedule</th>\n",
       "      <th>employment</th>\n",
       "      <th>description</th>\n",
       "      <th>key_skills</th>\n",
       "      <th>salary</th>\n",
       "    </tr>\n",
       "  </thead>\n",
       "  <tbody>\n",
       "    <tr>\n",
       "      <th>0</th>\n",
       "      <td>Водитель-экспедитор</td>\n",
       "      <td>От 3 до 6 лет</td>\n",
       "      <td>Полный день</td>\n",
       "      <td>Полная занятость</td>\n",
       "      <td>Водитель-экспедитор категории В,С (а\\м ГАЗЕЛЬ ...</td>\n",
       "      <td>[]</td>\n",
       "      <td>42500.0</td>\n",
       "    </tr>\n",
       "    <tr>\n",
       "      <th>1</th>\n",
       "      <td>Кладовщик-комплектовщик/оператор 1С</td>\n",
       "      <td>От 1 года до 3 лет</td>\n",
       "      <td>Полный день</td>\n",
       "      <td>Полная занятость</td>\n",
       "      <td>Обязанности:   Списывание материалов в произво...</td>\n",
       "      <td>['знание пк', 'работа в 1С', 'Работа в команде...</td>\n",
       "      <td>50000.0</td>\n",
       "    </tr>\n",
       "    <tr>\n",
       "      <th>2</th>\n",
       "      <td>Продавец магазина \"Магнит\" (Кировский р-он, В....</td>\n",
       "      <td>Нет опыта</td>\n",
       "      <td>Сменный график</td>\n",
       "      <td>Полная занятость</td>\n",
       "      <td>В крупнейшую Федеральную сеть магазинов \"Магни...</td>\n",
       "      <td>[]</td>\n",
       "      <td>31500.0</td>\n",
       "    </tr>\n",
       "    <tr>\n",
       "      <th>3</th>\n",
       "      <td>Администратор магазина (ТЦ Spar)</td>\n",
       "      <td>От 1 года до 3 лет</td>\n",
       "      <td>Полный день</td>\n",
       "      <td>Полная занятость</td>\n",
       "      <td>Крупная федеральная сеть магазинов мужской и ж...</td>\n",
       "      <td>[]</td>\n",
       "      <td>36700.0</td>\n",
       "    </tr>\n",
       "    <tr>\n",
       "      <th>4</th>\n",
       "      <td>Мойщик посуды (кулинария)</td>\n",
       "      <td>Нет опыта</td>\n",
       "      <td>Сменный график</td>\n",
       "      <td>Полная занятость</td>\n",
       "      <td>Обязанности:  Уборка производственных площадей...</td>\n",
       "      <td>['Пользователь ПК', 'Грамотная речь', 'Работа ...</td>\n",
       "      <td>37000.0</td>\n",
       "    </tr>\n",
       "  </tbody>\n",
       "</table>\n",
       "</div>"
      ],
      "text/plain": [
       "                                                name          experience  \\\n",
       "0                                Водитель-экспедитор       От 3 до 6 лет   \n",
       "1                Кладовщик-комплектовщик/оператор 1С  От 1 года до 3 лет   \n",
       "2  Продавец магазина \"Магнит\" (Кировский р-он, В....           Нет опыта   \n",
       "3                   Администратор магазина (ТЦ Spar)  От 1 года до 3 лет   \n",
       "4                          Мойщик посуды (кулинария)           Нет опыта   \n",
       "\n",
       "         schedule        employment  \\\n",
       "0     Полный день  Полная занятость   \n",
       "1     Полный день  Полная занятость   \n",
       "2  Сменный график  Полная занятость   \n",
       "3     Полный день  Полная занятость   \n",
       "4  Сменный график  Полная занятость   \n",
       "\n",
       "                                         description  \\\n",
       "0  Водитель-экспедитор категории В,С (а\\м ГАЗЕЛЬ ...   \n",
       "1  Обязанности:   Списывание материалов в произво...   \n",
       "2  В крупнейшую Федеральную сеть магазинов \"Магни...   \n",
       "3  Крупная федеральная сеть магазинов мужской и ж...   \n",
       "4  Обязанности:  Уборка производственных площадей...   \n",
       "\n",
       "                                          key_skills   salary  \n",
       "0                                                 []  42500.0  \n",
       "1  ['знание пк', 'работа в 1С', 'Работа в команде...  50000.0  \n",
       "2                                                 []  31500.0  \n",
       "3                                                 []  36700.0  \n",
       "4  ['Пользователь ПК', 'Грамотная речь', 'Работа ...  37000.0  "
      ]
     },
     "execution_count": 4,
     "metadata": {},
     "output_type": "execute_result"
    }
   ],
   "source": [
    "df_train.head()"
   ]
  },
  {
   "cell_type": "code",
   "execution_count": 5,
   "id": "9c85020f",
   "metadata": {
    "execution": {
     "iopub.execute_input": "2023-03-29T08:28:14.057556Z",
     "iopub.status.busy": "2023-03-29T08:28:14.056676Z",
     "iopub.status.idle": "2023-03-29T08:28:14.506396Z",
     "shell.execute_reply": "2023-03-29T08:28:14.505324Z"
    },
    "papermill": {
     "duration": 0.465772,
     "end_time": "2023-03-29T08:28:14.508622",
     "exception": false,
     "start_time": "2023-03-29T08:28:14.042850",
     "status": "completed"
    },
    "tags": []
   },
   "outputs": [
    {
     "data": {
      "text/plain": [
       "<AxesSubplot:xlabel='salary', ylabel='Count'>"
      ]
     },
     "execution_count": 5,
     "metadata": {},
     "output_type": "execute_result"
    },
    {
     "data": {
      "image/png": "[encoded data removed]",
      "text/plain": [
       "<Figure size 1000x600 with 1 Axes>"
      ]
     },
     "metadata": {},
     "output_type": "display_data"
    }
   ],
   "source": [
    "sns.histplot(df_train.salary, bins=100)"
   ]
  },
  {
   "cell_type": "code",
   "execution_count": 6,
   "id": "0c5bae2f",
   "metadata": {
    "execution": {
     "iopub.execute_input": "2023-03-29T08:28:14.536955Z",
     "iopub.status.busy": "2023-03-29T08:28:14.536616Z",
     "iopub.status.idle": "2023-03-29T08:28:14.949279Z",
     "shell.execute_reply": "2023-03-29T08:28:14.948284Z"
    },
    "papermill": {
     "duration": 0.429502,
     "end_time": "2023-03-29T08:28:14.951397",
     "exception": false,
     "start_time": "2023-03-29T08:28:14.521895",
     "status": "completed"
    },
    "tags": []
   },
   "outputs": [
    {
     "data": {
      "text/plain": [
       "<AxesSubplot:xlabel='salary', ylabel='Count'>"
      ]
     },
     "execution_count": 6,
     "metadata": {},
     "output_type": "execute_result"
    },
    {
     "data": {
      "image/png": "[encoded data removed]",
      "text/plain": [
       "<Figure size 1000x600 with 1 Axes>"
      ]
     },
     "metadata": {},
     "output_type": "display_data"
    }
   ],
   "source": [
    "sns.histplot(np.log10(df_train.salary + 1), bins=100)"
   ]
  },
  {
   "cell_type": "code",
   "execution_count": 7,
   "id": "2176b92a",
   "metadata": {
    "execution": {
     "iopub.execute_input": "2023-03-29T08:28:14.979505Z",
     "iopub.status.busy": "2023-03-29T08:28:14.979212Z",
     "iopub.status.idle": "2023-03-29T08:28:14.987177Z",
     "shell.execute_reply": "2023-03-29T08:28:14.986109Z"
    },
    "papermill": {
     "duration": 0.024456,
     "end_time": "2023-03-29T08:28:14.989447",
     "exception": false,
     "start_time": "2023-03-29T08:28:14.964991",
     "status": "completed"
    },
    "tags": []
   },
   "outputs": [
    {
     "data": {
      "text/plain": [
       "7"
      ]
     },
     "execution_count": 7,
     "metadata": {},
     "output_type": "execute_result"
    }
   ],
   "source": [
    "df_train[df_train['salary'] < 1000].shape[0]"
   ]
  },
  {
   "cell_type": "code",
   "execution_count": 8,
   "id": "42ba270a",
   "metadata": {
    "execution": {
     "iopub.execute_input": "2023-03-29T08:28:15.017088Z",
     "iopub.status.busy": "2023-03-29T08:28:15.016818Z",
     "iopub.status.idle": "2023-03-29T08:28:15.030802Z",
     "shell.execute_reply": "2023-03-29T08:28:15.029730Z"
    },
    "papermill": {
     "duration": 0.031433,
     "end_time": "2023-03-29T08:28:15.034115",
     "exception": false,
     "start_time": "2023-03-29T08:28:15.002682",
     "status": "completed"
    },
    "tags": []
   },
   "outputs": [
    {
     "data": {
      "text/html": [
       "<div>\n",
       "<style scoped>\n",
       "    .dataframe tbody tr th:only-of-type {\n",
       "        vertical-align: middle;\n",
       "    }\n",
       "\n",
       "    .dataframe tbody tr th {\n",
       "        vertical-align: top;\n",
       "    }\n",
       "\n",
       "    .dataframe thead th {\n",
       "        text-align: right;\n",
       "    }\n",
       "</style>\n",
       "<table border=\"1\" class=\"dataframe\">\n",
       "  <thead>\n",
       "    <tr style=\"text-align: right;\">\n",
       "      <th></th>\n",
       "      <th>name</th>\n",
       "      <th>experience</th>\n",
       "      <th>schedule</th>\n",
       "      <th>employment</th>\n",
       "      <th>description</th>\n",
       "      <th>key_skills</th>\n",
       "      <th>salary</th>\n",
       "    </tr>\n",
       "  </thead>\n",
       "  <tbody>\n",
       "    <tr>\n",
       "      <th>163</th>\n",
       "      <td>Ведущий специалист/Руководитель тендерного отдела</td>\n",
       "      <td>От 3 до 6 лет</td>\n",
       "      <td>Полный день</td>\n",
       "      <td>Полная занятость</td>\n",
       "      <td>Компания-поставщик медицинских расходных матер...</td>\n",
       "      <td>['Государственные закупки', 'Тендеры', 'Участи...</td>\n",
       "      <td>55.0</td>\n",
       "    </tr>\n",
       "    <tr>\n",
       "      <th>1904</th>\n",
       "      <td>Официант на мероприятия</td>\n",
       "      <td>Нет опыта</td>\n",
       "      <td>Гибкий график</td>\n",
       "      <td>Частичная занятость</td>\n",
       "      <td>Группа компаний WIND TO GO! - это собственный ...</td>\n",
       "      <td>['Работа в команде', 'Грамотная речь', 'Органи...</td>\n",
       "      <td>800.0</td>\n",
       "    </tr>\n",
       "    <tr>\n",
       "      <th>2641</th>\n",
       "      <td>Продавец консультант/старший(ТЦ Эльгрин)</td>\n",
       "      <td>От 1 года до 3 лет</td>\n",
       "      <td>Полный день</td>\n",
       "      <td>Полная занятость</td>\n",
       "      <td>Должностные обязанности: - консультирование кл...</td>\n",
       "      <td>['Клиентоориентированность', 'Мерчандайзинг', ...</td>\n",
       "      <td>30.0</td>\n",
       "    </tr>\n",
       "    <tr>\n",
       "      <th>9696</th>\n",
       "      <td>Фрезеровщик</td>\n",
       "      <td>От 1 года до 3 лет</td>\n",
       "      <td>Полный день</td>\n",
       "      <td>Полная занятость</td>\n",
       "      <td>Обязанности:  Обработка деталей на горизонталь...</td>\n",
       "      <td>['Пользователь ПК', 'Работа в команде', 'Точно...</td>\n",
       "      <td>60.0</td>\n",
       "    </tr>\n",
       "    <tr>\n",
       "      <th>13252</th>\n",
       "      <td>Уборщица/уборщик игрового зала</td>\n",
       "      <td>Нет опыта</td>\n",
       "      <td>Сменный график</td>\n",
       "      <td>Полная занятость</td>\n",
       "      <td>Работа в ночные смены Обязанности:  осуществля...</td>\n",
       "      <td>[]</td>\n",
       "      <td>600.0</td>\n",
       "    </tr>\n",
       "    <tr>\n",
       "      <th>13491</th>\n",
       "      <td>Инженер-экономист</td>\n",
       "      <td>От 1 года до 3 лет</td>\n",
       "      <td>Полный день</td>\n",
       "      <td>Полная занятость</td>\n",
       "      <td>Обязанности Работа с ресурсоснабжающими органи...</td>\n",
       "      <td>['Работа с большим объемом информации', 'Делов...</td>\n",
       "      <td>45.0</td>\n",
       "    </tr>\n",
       "    <tr>\n",
       "      <th>16235</th>\n",
       "      <td>Комплектовщик (Тарасовка)</td>\n",
       "      <td>Нет опыта</td>\n",
       "      <td>Сменный график</td>\n",
       "      <td>Полная занятость</td>\n",
       "      <td>Сервис доставки продуктов Ленточка приглашает ...</td>\n",
       "      <td>[]</td>\n",
       "      <td>44.0</td>\n",
       "    </tr>\n",
       "  </tbody>\n",
       "</table>\n",
       "</div>"
      ],
      "text/plain": [
       "                                                    name          experience  \\\n",
       "163    Ведущий специалист/Руководитель тендерного отдела       От 3 до 6 лет   \n",
       "1904                             Официант на мероприятия           Нет опыта   \n",
       "2641            Продавец консультант/старший(ТЦ Эльгрин)  От 1 года до 3 лет   \n",
       "9696                                         Фрезеровщик  От 1 года до 3 лет   \n",
       "13252                     Уборщица/уборщик игрового зала           Нет опыта   \n",
       "13491                                  Инженер-экономист  От 1 года до 3 лет   \n",
       "16235                          Комплектовщик (Тарасовка)           Нет опыта   \n",
       "\n",
       "             schedule           employment  \\\n",
       "163       Полный день     Полная занятость   \n",
       "1904    Гибкий график  Частичная занятость   \n",
       "2641      Полный день     Полная занятость   \n",
       "9696      Полный день     Полная занятость   \n",
       "13252  Сменный график     Полная занятость   \n",
       "13491     Полный день     Полная занятость   \n",
       "16235  Сменный график     Полная занятость   \n",
       "\n",
       "                                             description  \\\n",
       "163    Компания-поставщик медицинских расходных матер...   \n",
       "1904   Группа компаний WIND TO GO! - это собственный ...   \n",
       "2641   Должностные обязанности: - консультирование кл...   \n",
       "9696   Обязанности:  Обработка деталей на горизонталь...   \n",
       "13252  Работа в ночные смены Обязанности:  осуществля...   \n",
       "13491  Обязанности Работа с ресурсоснабжающими органи...   \n",
       "16235  Сервис доставки продуктов Ленточка приглашает ...   \n",
       "\n",
       "                                              key_skills  salary  \n",
       "163    ['Государственные закупки', 'Тендеры', 'Участи...    55.0  \n",
       "1904   ['Работа в команде', 'Грамотная речь', 'Органи...   800.0  \n",
       "2641   ['Клиентоориентированность', 'Мерчандайзинг', ...    30.0  \n",
       "9696   ['Пользователь ПК', 'Работа в команде', 'Точно...    60.0  \n",
       "13252                                                 []   600.0  \n",
       "13491  ['Работа с большим объемом информации', 'Делов...    45.0  \n",
       "16235                                                 []    44.0  "
      ]
     },
     "execution_count": 8,
     "metadata": {},
     "output_type": "execute_result"
    }
   ],
   "source": [
    "df_train[df_train['salary'] < 1000]"
   ]
  },
  {
   "cell_type": "code",
   "execution_count": 9,
   "id": "45f1d696",
   "metadata": {
    "execution": {
     "iopub.execute_input": "2023-03-29T08:28:15.063072Z",
     "iopub.status.busy": "2023-03-29T08:28:15.062771Z",
     "iopub.status.idle": "2023-03-29T08:28:15.518238Z",
     "shell.execute_reply": "2023-03-29T08:28:15.517233Z"
    },
    "papermill": {
     "duration": 0.472338,
     "end_time": "2023-03-29T08:28:15.520371",
     "exception": false,
     "start_time": "2023-03-29T08:28:15.048033",
     "status": "completed"
    },
    "tags": []
   },
   "outputs": [
    {
     "data": {
      "image/png": "[encoded data removed]",
      "text/plain": [
       "<Figure size 1000x600 with 1 Axes>"
      ]
     },
     "execution_count": 9,
     "metadata": {},
     "output_type": "execute_result"
    },
    {
     "data": {
      "image/png": "[encoded data removed]",
      "text/plain": [
       "<Figure size 1000x600 with 1 Axes>"
      ]
     },
     "metadata": {},
     "output_type": "display_data"
    }
   ],
   "source": [
    "sm.qqplot(np.log10(df_train.salary + 1), line='s')"
   ]
  },
  {
   "cell_type": "markdown",
   "id": "66efe8d3",
   "metadata": {
    "papermill": {
     "duration": 0.014335,
     "end_time": "2023-03-29T08:28:15.549881",
     "exception": false,
     "start_time": "2023-03-29T08:28:15.535546",
     "status": "completed"
    },
    "tags": []
   },
   "source": [
    "# Data prep and feature generation<a id=\"section-two\">"
   ]
  },
  {
   "cell_type": "markdown",
   "id": "e0ce7050",
   "metadata": {
    "papermill": {
     "duration": 0.014278,
     "end_time": "2023-03-29T08:28:15.578605",
     "exception": false,
     "start_time": "2023-03-29T08:28:15.564327",
     "status": "completed"
    },
    "tags": []
   },
   "source": [
    "## Correct errors in salary values"
   ]
  },
  {
   "cell_type": "code",
   "execution_count": 10,
   "id": "374e4caf",
   "metadata": {
    "execution": {
     "iopub.execute_input": "2023-03-29T08:28:15.609837Z",
     "iopub.status.busy": "2023-03-29T08:28:15.609140Z",
     "iopub.status.idle": "2023-03-29T08:28:15.622382Z",
     "shell.execute_reply": "2023-03-29T08:28:15.621440Z"
    },
    "papermill": {
     "duration": 0.031246,
     "end_time": "2023-03-29T08:28:15.624516",
     "exception": false,
     "start_time": "2023-03-29T08:28:15.593270",
     "status": "completed"
    },
    "tags": []
   },
   "outputs": [],
   "source": [
    "df_train['salary'][df_train['salary'] < 200] = df_train['salary'][df_train['salary'] < 200].apply(lambda x: x * 1000)"
   ]
  },
  {
   "cell_type": "markdown",
   "id": "3dbdf43e",
   "metadata": {
    "papermill": {
     "duration": 0.020079,
     "end_time": "2023-03-29T08:28:15.658888",
     "exception": false,
     "start_time": "2023-03-29T08:28:15.638809",
     "status": "completed"
    },
    "tags": []
   },
   "source": [
    "## Create a text column "
   ]
  },
  {
   "cell_type": "code",
   "execution_count": 11,
   "id": "d3e34d5b",
   "metadata": {
    "execution": {
     "iopub.execute_input": "2023-03-29T08:28:15.717743Z",
     "iopub.status.busy": "2023-03-29T08:28:15.717284Z",
     "iopub.status.idle": "2023-03-29T08:28:15.784927Z",
     "shell.execute_reply": "2023-03-29T08:28:15.783863Z"
    },
    "papermill": {
     "duration": 0.099393,
     "end_time": "2023-03-29T08:28:15.788589",
     "exception": false,
     "start_time": "2023-03-29T08:28:15.689196",
     "status": "completed"
    },
    "tags": []
   },
   "outputs": [],
   "source": [
    "df_train['text'] = df_train.name + ' ' + df_train.description"
   ]
  },
  {
   "cell_type": "markdown",
   "id": "56ffa6f9",
   "metadata": {
    "papermill": {
     "duration": 0.022225,
     "end_time": "2023-03-29T08:28:15.834660",
     "exception": false,
     "start_time": "2023-03-29T08:28:15.812435",
     "status": "completed"
    },
    "tags": []
   },
   "source": [
    "## Clean text"
   ]
  },
  {
   "cell_type": "code",
   "execution_count": 12,
   "id": "d3365386",
   "metadata": {
    "execution": {
     "iopub.execute_input": "2023-03-29T08:28:15.880521Z",
     "iopub.status.busy": "2023-03-29T08:28:15.880115Z",
     "iopub.status.idle": "2023-03-29T08:28:16.216621Z",
     "shell.execute_reply": "2023-03-29T08:28:16.215544Z"
    },
    "papermill": {
     "duration": 0.363209,
     "end_time": "2023-03-29T08:28:16.219951",
     "exception": false,
     "start_time": "2023-03-29T08:28:15.856742",
     "status": "completed"
    },
    "tags": []
   },
   "outputs": [],
   "source": [
    "stop_words = set(stopwords.words('russian'))\n",
    "morph = MorphAnalyzer()\n",
    "@lru_cache(maxsize=128)\n",
    "\n",
    "# function for cleaning descriptions\n",
    "def clean_text(text):\n",
    "    text = re.sub(r'http\\S+', ' ', text)# remove links\n",
    "    text = re.sub(r'[^\\w\\s]', ' ', text)# remove punctuation\n",
    "    text = word_tokenize(text.lower()) # convert to lowercase and tokenize by words\n",
    "    # normalize tokens, remove stop words and short tokens\n",
    "    text = [morph.normal_forms(token)[0] for token in text \n",
    "            if token not in stop_words and len(token) > 2]\n",
    "    text = \" \".join(text) # return a string\n",
    "    return text"
   ]
  },
  {
   "cell_type": "code",
   "execution_count": 13,
   "id": "fc3ee8c5",
   "metadata": {
    "execution": {
     "iopub.execute_input": "2023-03-29T08:28:16.271548Z",
     "iopub.status.busy": "2023-03-29T08:28:16.270643Z",
     "iopub.status.idle": "2023-03-29T08:28:17.109989Z",
     "shell.execute_reply": "2023-03-29T08:28:17.108850Z"
    },
    "papermill": {
     "duration": 0.871456,
     "end_time": "2023-03-29T08:28:17.112696",
     "exception": false,
     "start_time": "2023-03-29T08:28:16.241240",
     "status": "completed"
    },
    "tags": []
   },
   "outputs": [],
   "source": [
    "regenerate = False \n",
    "\n",
    "if regenerate: \n",
    "    df_train['clean_text'] = df_train.text.progress_apply(clean_text) \n",
    "    df_train['clean_name'] = df_train.name.progress_apply(clean_text)\n",
    "    df_train['clean_skills'] = df_train.key_skills.progress_apply(clean_text)\n",
    "\n",
    "    df_train[['clean_text',\n",
    "              'clean_name',\n",
    "              'clean_skills']].to_csv('train_cleaned_text_cols.csv', index=False) \n",
    "    \n",
    "else:\n",
    "    df_train_clean_text_cols = pd.read_csv('../input/2nd-step-cleaned-text/train_cleaned_text_cols.csv')\n",
    "    df_train = pd.concat([df_train, df_train_clean_text_cols], axis=1)"
   ]
  },
  {
   "cell_type": "markdown",
   "id": "06e0b8d3",
   "metadata": {
    "papermill": {
     "duration": 0.015387,
     "end_time": "2023-03-29T08:28:17.145148",
     "exception": false,
     "start_time": "2023-03-29T08:28:17.129761",
     "status": "completed"
    },
    "tags": []
   },
   "source": [
    "## Some text features"
   ]
  },
  {
   "cell_type": "code",
   "execution_count": 14,
   "id": "e0914e78",
   "metadata": {
    "execution": {
     "iopub.execute_input": "2023-03-29T08:28:17.178214Z",
     "iopub.status.busy": "2023-03-29T08:28:17.177870Z",
     "iopub.status.idle": "2023-03-29T08:28:17.186113Z",
     "shell.execute_reply": "2023-03-29T08:28:17.185122Z"
    },
    "papermill": {
     "duration": 0.027898,
     "end_time": "2023-03-29T08:28:17.188631",
     "exception": false,
     "start_time": "2023-03-29T08:28:17.160733",
     "status": "completed"
    },
    "tags": []
   },
   "outputs": [],
   "source": [
    "def find_numbers(df, column_name):\n",
    "    # find numbers that look like salariy in the descriptions\n",
    "    \n",
    "    df['found_numbers'] = df[column_name].str.extractall('(\\d{3,4}00+)')\\\n",
    "        .astype(int).groupby(level=0).agg(list)\n",
    "    # Drop any rows where no numbers were found\n",
    "    new_df = df.dropna(subset=['found_numbers'])\n",
    "    return new_df\n",
    "\n",
    "def avg_max_func(x):\n",
    "    '''if we find 2 or more numbers it could mean \n",
    "    we have salary range or some bonuses or incentives'''\n",
    "    if isinstance(x, list):\n",
    "        return pd.Series([sum(x)/len(x), max(x), min(x)])\n",
    "    else:\n",
    "        return pd.Series([x, x, x])"
   ]
  },
  {
   "cell_type": "code",
   "execution_count": 15,
   "id": "7fed2f98",
   "metadata": {
    "execution": {
     "iopub.execute_input": "2023-03-29T08:28:17.220883Z",
     "iopub.status.busy": "2023-03-29T08:28:17.219413Z",
     "iopub.status.idle": "2023-03-29T08:28:20.821329Z",
     "shell.execute_reply": "2023-03-29T08:28:20.820280Z"
    },
    "papermill": {
     "duration": 3.620235,
     "end_time": "2023-03-29T08:28:20.824117",
     "exception": false,
     "start_time": "2023-03-29T08:28:17.203882",
     "status": "completed"
    },
    "tags": []
   },
   "outputs": [],
   "source": [
    "find_numbers(df_train, 'description')\n",
    "df_train[['av_num', 'max_num', 'min_num']] = df_train['found_numbers'].apply(avg_max_func)"
   ]
  },
  {
   "cell_type": "markdown",
   "id": "0a891ee1",
   "metadata": {
    "papermill": {
     "duration": 0.014404,
     "end_time": "2023-03-29T08:28:20.853673",
     "exception": false,
     "start_time": "2023-03-29T08:28:20.839269",
     "status": "completed"
    },
    "tags": []
   },
   "source": [
    "key_skills is a list of strings that is saved as a string"
   ]
  },
  {
   "cell_type": "code",
   "execution_count": 16,
   "id": "e067a7f8",
   "metadata": {
    "execution": {
     "iopub.execute_input": "2023-03-29T08:28:20.884899Z",
     "iopub.status.busy": "2023-03-29T08:28:20.884513Z",
     "iopub.status.idle": "2023-03-29T08:28:21.217313Z",
     "shell.execute_reply": "2023-03-29T08:28:21.216312Z"
    },
    "papermill": {
     "duration": 0.351557,
     "end_time": "2023-03-29T08:28:21.219910",
     "exception": false,
     "start_time": "2023-03-29T08:28:20.868353",
     "status": "completed"
    },
    "tags": []
   },
   "outputs": [],
   "source": [
    "df_train['key_skills_list'] = df_train['key_skills'].apply(literal_eval)\n",
    "df_train['num_skills'] = df_train['key_skills_list'].apply(len)"
   ]
  },
  {
   "cell_type": "code",
   "execution_count": 17,
   "id": "2f2519aa",
   "metadata": {
    "execution": {
     "iopub.execute_input": "2023-03-29T08:28:21.251555Z",
     "iopub.status.busy": "2023-03-29T08:28:21.251245Z",
     "iopub.status.idle": "2023-03-29T08:28:21.519220Z",
     "shell.execute_reply": "2023-03-29T08:28:21.518142Z"
    },
    "papermill": {
     "duration": 0.286604,
     "end_time": "2023-03-29T08:28:21.522018",
     "exception": false,
     "start_time": "2023-03-29T08:28:21.235414",
     "status": "completed"
    },
    "tags": []
   },
   "outputs": [],
   "source": [
    "df_train['perc'] = df_train['description'].str.contains('процент').apply(int)\n",
    "df_train['%'] = df_train['description'].str.contains('%').apply(int)\n",
    "df_train['1s_text'] = df_train['description'].str.contains(r'1\\s*[CcСс][^\\S\\n]*').apply(int)\n",
    "df_train['1s_skills'] = df_train['key_skills'].str.contains(r'1\\s*[CcСс][^\\S\\n]*').apply(int)\n",
    "df_train['en_text'] = df_train['description'].str.contains(r'[A-Za-z]').apply(int)\n",
    "df_train['en_skills'] = df_train['key_skills'].str.contains(r'[A-Za-z]').apply(int)\n",
    "df_train['clean_skills'] = df_train['clean_skills'].fillna('')"
   ]
  },
  {
   "cell_type": "code",
   "execution_count": 18,
   "id": "7abe7373",
   "metadata": {
    "execution": {
     "iopub.execute_input": "2023-03-29T08:28:21.553714Z",
     "iopub.status.busy": "2023-03-29T08:28:21.552748Z",
     "iopub.status.idle": "2023-03-29T08:28:21.560413Z",
     "shell.execute_reply": "2023-03-29T08:28:21.559452Z"
    },
    "papermill": {
     "duration": 0.02551,
     "end_time": "2023-03-29T08:28:21.562512",
     "exception": false,
     "start_time": "2023-03-29T08:28:21.537002",
     "status": "completed"
    },
    "tags": []
   },
   "outputs": [
    {
     "data": {
      "text/plain": [
       "Index(['name', 'experience', 'schedule', 'employment', 'description',\n",
       "       'key_skills', 'salary', 'text', 'clean_text', 'clean_name',\n",
       "       'clean_skills', 'found_numbers', 'av_num', 'max_num', 'min_num',\n",
       "       'key_skills_list', 'num_skills', 'perc', '%', '1s_text', '1s_skills',\n",
       "       'en_text', 'en_skills'],\n",
       "      dtype='object')"
      ]
     },
     "execution_count": 18,
     "metadata": {},
     "output_type": "execute_result"
    }
   ],
   "source": [
    "df_train.columns"
   ]
  },
  {
   "cell_type": "code",
   "execution_count": 19,
   "id": "7f91488e",
   "metadata": {
    "execution": {
     "iopub.execute_input": "2023-03-29T08:28:21.594298Z",
     "iopub.status.busy": "2023-03-29T08:28:21.593352Z",
     "iopub.status.idle": "2023-03-29T08:28:21.598993Z",
     "shell.execute_reply": "2023-03-29T08:28:21.597965Z"
    },
    "papermill": {
     "duration": 0.024061,
     "end_time": "2023-03-29T08:28:21.601271",
     "exception": false,
     "start_time": "2023-03-29T08:28:21.577210",
     "status": "completed"
    },
    "tags": []
   },
   "outputs": [],
   "source": [
    "categorical_features = [\n",
    "    'experience',\n",
    "    'schedule',\n",
    "    'employment'\n",
    "]\n",
    "\n",
    "numerical_features = [\n",
    "    'av_num', \n",
    "    'max_num', \n",
    "    'min_num',\n",
    "    'num_skills'\n",
    "]\n",
    "features_to_drop = [\n",
    "    'key_skills_list',\n",
    "    'description',\n",
    "    'found_numbers',\n",
    "    'name',\n",
    "    'key_skills', \n",
    "    'clean_name',         \n",
    "    'clean_skills',      \n",
    "    'clean_text',         \n",
    "    'text',           \n",
    "    'key_skills_list'  \n",
    "]\n"
   ]
  },
  {
   "cell_type": "markdown",
   "id": "34214f41",
   "metadata": {
    "papermill": {
     "duration": 0.014417,
     "end_time": "2023-03-29T08:28:21.630266",
     "exception": false,
     "start_time": "2023-03-29T08:28:21.615849",
     "status": "completed"
    },
    "tags": []
   },
   "source": [
    "# TF-IDF and linear regression<a id=\"section-three\">"
   ]
  },
  {
   "cell_type": "code",
   "execution_count": 20,
   "id": "d517244b",
   "metadata": {
    "execution": {
     "iopub.execute_input": "2023-03-29T08:28:21.661549Z",
     "iopub.status.busy": "2023-03-29T08:28:21.660541Z",
     "iopub.status.idle": "2023-03-29T08:28:21.666582Z",
     "shell.execute_reply": "2023-03-29T08:28:21.665660Z"
    },
    "papermill": {
     "duration": 0.02381,
     "end_time": "2023-03-29T08:28:21.668640",
     "exception": false,
     "start_time": "2023-03-29T08:28:21.644830",
     "status": "completed"
    },
    "tags": []
   },
   "outputs": [],
   "source": [
    "tfidf_words = TfidfVectorizer(\n",
    "    analyzer='word',\n",
    "    ngram_range=(1, 2),\n",
    "    lowercase=True,\n",
    "    sublinear_tf=True\n",
    ")\n",
    "tfidf_chars = TfidfVectorizer(\n",
    "    analyzer='char',\n",
    "    ngram_range=(1, 5),\n",
    "    lowercase=True,\n",
    "    sublinear_tf=True\n",
    ")"
   ]
  },
  {
   "cell_type": "code",
   "execution_count": 21,
   "id": "42942376",
   "metadata": {
    "execution": {
     "iopub.execute_input": "2023-03-29T08:28:21.699472Z",
     "iopub.status.busy": "2023-03-29T08:28:21.699157Z",
     "iopub.status.idle": "2023-03-29T08:28:21.824335Z",
     "shell.execute_reply": "2023-03-29T08:28:21.823110Z"
    },
    "papermill": {
     "duration": 0.143837,
     "end_time": "2023-03-29T08:28:21.827125",
     "exception": false,
     "start_time": "2023-03-29T08:28:21.683288",
     "status": "completed"
    },
    "tags": []
   },
   "outputs": [
    {
     "data": {
      "text/plain": [
       "(16629, 4357)"
      ]
     },
     "execution_count": 21,
     "metadata": {},
     "output_type": "execute_result"
    }
   ],
   "source": [
    "mlb = MultiLabelBinarizer()\n",
    "\n",
    "# fit_transform on the column will return a numpy array with binary encoding\n",
    "X_mlb = mlb.fit_transform(df_train['key_skills_list'])\n",
    "X_mlb.shape"
   ]
  },
  {
   "cell_type": "code",
   "execution_count": 22,
   "id": "2f520367",
   "metadata": {
    "execution": {
     "iopub.execute_input": "2023-03-29T08:28:21.858524Z",
     "iopub.status.busy": "2023-03-29T08:28:21.858197Z",
     "iopub.status.idle": "2023-03-29T08:29:29.531925Z",
     "shell.execute_reply": "2023-03-29T08:29:29.530774Z"
    },
    "papermill": {
     "duration": 67.692823,
     "end_time": "2023-03-29T08:29:29.534937",
     "exception": false,
     "start_time": "2023-03-29T08:28:21.842114",
     "status": "completed"
    },
    "tags": []
   },
   "outputs": [],
   "source": [
    "X_tfidf_words = tfidf_words.fit_transform(df_train['clean_text'])\n",
    "X_tfidf_chars = tfidf_chars.fit_transform(df_train['text'])"
   ]
  },
  {
   "cell_type": "code",
   "execution_count": 23,
   "id": "6df1117d",
   "metadata": {
    "execution": {
     "iopub.execute_input": "2023-03-29T08:29:29.566614Z",
     "iopub.status.busy": "2023-03-29T08:29:29.566286Z",
     "iopub.status.idle": "2023-03-29T08:29:29.572755Z",
     "shell.execute_reply": "2023-03-29T08:29:29.571613Z"
    },
    "papermill": {
     "duration": 0.025737,
     "end_time": "2023-03-29T08:29:29.576179",
     "exception": false,
     "start_time": "2023-03-29T08:29:29.550442",
     "status": "completed"
    },
    "tags": []
   },
   "outputs": [
    {
     "data": {
      "text/plain": [
       "(16629, 890609)"
      ]
     },
     "execution_count": 23,
     "metadata": {},
     "output_type": "execute_result"
    }
   ],
   "source": [
    "X_tfidf_chars.shape"
   ]
  },
  {
   "cell_type": "code",
   "execution_count": 24,
   "id": "de6a2537",
   "metadata": {
    "execution": {
     "iopub.execute_input": "2023-03-29T08:29:29.607723Z",
     "iopub.status.busy": "2023-03-29T08:29:29.607385Z",
     "iopub.status.idle": "2023-03-29T08:29:29.613771Z",
     "shell.execute_reply": "2023-03-29T08:29:29.612735Z"
    },
    "papermill": {
     "duration": 0.02463,
     "end_time": "2023-03-29T08:29:29.615945",
     "exception": false,
     "start_time": "2023-03-29T08:29:29.591315",
     "status": "completed"
    },
    "tags": []
   },
   "outputs": [
    {
     "data": {
      "text/plain": [
       "(16629, 516698)"
      ]
     },
     "execution_count": 24,
     "metadata": {},
     "output_type": "execute_result"
    }
   ],
   "source": [
    "X_tfidf_words.shape"
   ]
  },
  {
   "cell_type": "code",
   "execution_count": 25,
   "id": "3f2406f2",
   "metadata": {
    "execution": {
     "iopub.execute_input": "2023-03-29T08:29:29.647364Z",
     "iopub.status.busy": "2023-03-29T08:29:29.647063Z",
     "iopub.status.idle": "2023-03-29T08:29:29.688257Z",
     "shell.execute_reply": "2023-03-29T08:29:29.687091Z"
    },
    "papermill": {
     "duration": 0.060091,
     "end_time": "2023-03-29T08:29:29.690867",
     "exception": false,
     "start_time": "2023-03-29T08:29:29.630776",
     "status": "completed"
    },
    "tags": []
   },
   "outputs": [
    {
     "data": {
      "text/plain": [
       "(16629, 23)"
      ]
     },
     "execution_count": 25,
     "metadata": {},
     "output_type": "execute_result"
    }
   ],
   "source": [
    "preprocessor = ColumnTransformer(\n",
    "    transformers=[\n",
    "    #('tfidf_words', tfidf_words, ['clean_text']),\n",
    "    #('tfidf_chars', tfidf_chars, ['text']),\n",
    "    ('categorical', OneHotEncoder(), categorical_features),\n",
    "    #('skills_list', MyMultiLabelBinarizer(), ['key_skills_list']),\n",
    "    ('numerical', MinMaxScaler(), numerical_features), \n",
    "    ('drop', 'drop', features_to_drop)\n",
    "    ],\n",
    "    remainder='passthrough',\n",
    ")\n",
    "\n",
    "X_proc = preprocessor.fit_transform(df_train.drop(columns=['salary']))\n",
    "X_proc.shape"
   ]
  },
  {
   "cell_type": "code",
   "execution_count": 26,
   "id": "7e5c8c41",
   "metadata": {
    "execution": {
     "iopub.execute_input": "2023-03-29T08:29:29.722878Z",
     "iopub.status.busy": "2023-03-29T08:29:29.722234Z",
     "iopub.status.idle": "2023-03-29T08:29:35.320996Z",
     "shell.execute_reply": "2023-03-29T08:29:35.319791Z"
    },
    "papermill": {
     "duration": 5.617146,
     "end_time": "2023-03-29T08:29:35.323264",
     "exception": false,
     "start_time": "2023-03-29T08:29:29.706118",
     "status": "completed"
    },
    "tags": []
   },
   "outputs": [
    {
     "data": {
      "text/plain": [
       "((16629, 1411687), (16629,))"
      ]
     },
     "execution_count": 26,
     "metadata": {},
     "output_type": "execute_result"
    }
   ],
   "source": [
    "X_train = hstack([\n",
    "    X_tfidf_words,\n",
    "    X_tfidf_chars,\n",
    "    X_mlb,\n",
    "    X_proc\n",
    "]).tocsr()\n",
    "y_train = df_train['salary']\n",
    "X_train.shape, y_train.shape"
   ]
  },
  {
   "cell_type": "code",
   "execution_count": 27,
   "id": "dc000ad1",
   "metadata": {
    "execution": {
     "iopub.execute_input": "2023-03-29T08:29:35.356473Z",
     "iopub.status.busy": "2023-03-29T08:29:35.356130Z",
     "iopub.status.idle": "2023-03-29T08:29:35.479044Z",
     "shell.execute_reply": "2023-03-29T08:29:35.477860Z"
    },
    "papermill": {
     "duration": 0.142322,
     "end_time": "2023-03-29T08:29:35.481688",
     "exception": false,
     "start_time": "2023-03-29T08:29:35.339366",
     "status": "completed"
    },
    "tags": []
   },
   "outputs": [],
   "source": [
    "nan_rows = np.isnan(X_train.data)\n",
    "inf_rows = np.isinf(X_train.data)\n",
    "\n",
    "# Replace NaN or infinity values with a finite number (e.g., 0)\n",
    "X_train.data[nan_rows] = 0\n",
    "X_train.data[inf_rows] = 0\n"
   ]
  },
  {
   "cell_type": "code",
   "execution_count": 28,
   "id": "59ef131a",
   "metadata": {
    "execution": {
     "iopub.execute_input": "2023-03-29T08:29:35.514397Z",
     "iopub.status.busy": "2023-03-29T08:29:35.514062Z",
     "iopub.status.idle": "2023-03-29T08:30:40.945774Z",
     "shell.execute_reply": "2023-03-29T08:30:40.944759Z"
    },
    "papermill": {
     "duration": 65.462778,
     "end_time": "2023-03-29T08:30:40.960287",
     "exception": false,
     "start_time": "2023-03-29T08:29:35.497509",
     "status": "completed"
    },
    "tags": []
   },
   "outputs": [
    {
     "data": {
      "text/plain": [
       "Ridge(random_state=42, solver='sag')"
      ]
     },
     "execution_count": 28,
     "metadata": {},
     "output_type": "execute_result"
    }
   ],
   "source": [
    "model = Ridge(solver=\"sag\", fit_intercept=True, random_state=42)\n",
    "model.fit(X_train, y_train)"
   ]
  },
  {
   "cell_type": "code",
   "execution_count": 29,
   "id": "20290844",
   "metadata": {
    "execution": {
     "iopub.execute_input": "2023-03-29T08:30:40.992418Z",
     "iopub.status.busy": "2023-03-29T08:30:40.991532Z",
     "iopub.status.idle": "2023-03-29T08:30:41.178279Z",
     "shell.execute_reply": "2023-03-29T08:30:41.177127Z"
    },
    "papermill": {
     "duration": 0.205633,
     "end_time": "2023-03-29T08:30:41.181169",
     "exception": false,
     "start_time": "2023-03-29T08:30:40.975536",
     "status": "completed"
    },
    "tags": []
   },
   "outputs": [
    {
     "data": {
      "text/plain": [
       "0.9255747370963487"
      ]
     },
     "execution_count": 29,
     "metadata": {},
     "output_type": "execute_result"
    }
   ],
   "source": [
    "model.score(X_train, y_train)"
   ]
  },
  {
   "cell_type": "markdown",
   "id": "d32de692",
   "metadata": {
    "papermill": {
     "duration": 0.015264,
     "end_time": "2023-03-29T08:30:41.211904",
     "exception": false,
     "start_time": "2023-03-29T08:30:41.196640",
     "status": "completed"
    },
    "tags": []
   },
   "source": [
    "## Making a submission"
   ]
  },
  {
   "cell_type": "code",
   "execution_count": 30,
   "id": "f9e51261",
   "metadata": {
    "execution": {
     "iopub.execute_input": "2023-03-29T08:30:41.244311Z",
     "iopub.status.busy": "2023-03-29T08:30:41.243333Z",
     "iopub.status.idle": "2023-03-29T08:30:41.248985Z",
     "shell.execute_reply": "2023-03-29T08:30:41.247952Z"
    },
    "papermill": {
     "duration": 0.023798,
     "end_time": "2023-03-29T08:30:41.251032",
     "exception": false,
     "start_time": "2023-03-29T08:30:41.227234",
     "status": "completed"
    },
    "tags": []
   },
   "outputs": [],
   "source": [
    "def pred_to_csv(pred, name):\n",
    "    a = pd.Series(pred, name=\"salary\")\n",
    "    a.index.name = \"id\"\n",
    "    a.to_csv(f\"/kaggle/working/{name}.csv\")"
   ]
  },
  {
   "cell_type": "markdown",
   "id": "13cac512",
   "metadata": {
    "papermill": {
     "duration": 0.014846,
     "end_time": "2023-03-29T08:30:41.281362",
     "exception": false,
     "start_time": "2023-03-29T08:30:41.266516",
     "status": "completed"
    },
    "tags": []
   },
   "source": [
    "## Preparing test "
   ]
  },
  {
   "cell_type": "code",
   "execution_count": 31,
   "id": "561a51b1",
   "metadata": {
    "execution": {
     "iopub.execute_input": "2023-03-29T08:30:41.313393Z",
     "iopub.status.busy": "2023-03-29T08:30:41.312521Z",
     "iopub.status.idle": "2023-03-29T08:30:41.324063Z",
     "shell.execute_reply": "2023-03-29T08:30:41.323131Z"
    },
    "papermill": {
     "duration": 0.029701,
     "end_time": "2023-03-29T08:30:41.326206",
     "exception": false,
     "start_time": "2023-03-29T08:30:41.296505",
     "status": "completed"
    },
    "tags": []
   },
   "outputs": [],
   "source": [
    "df_test['text'] = df_test.name + ' ' + df_test.description"
   ]
  },
  {
   "cell_type": "code",
   "execution_count": 32,
   "id": "c784660c",
   "metadata": {
    "execution": {
     "iopub.execute_input": "2023-03-29T08:30:41.358142Z",
     "iopub.status.busy": "2023-03-29T08:30:41.357296Z",
     "iopub.status.idle": "2023-03-29T08:30:41.578583Z",
     "shell.execute_reply": "2023-03-29T08:30:41.577504Z"
    },
    "papermill": {
     "duration": 0.24008,
     "end_time": "2023-03-29T08:30:41.581358",
     "exception": false,
     "start_time": "2023-03-29T08:30:41.341278",
     "status": "completed"
    },
    "tags": []
   },
   "outputs": [],
   "source": [
    "regenerate = False  # Флаг, который ты легко можешь переключать\n",
    "\n",
    "if regenerate: # При первом проходе готовим данные\n",
    "    df_test['clean_text'] = df_test.text.progress_apply(clean_text) # Подготавливаем признаки для трейна\n",
    "    df_test['clean_name'] = df_test.name.progress_apply(clean_text)\n",
    "    df_test['clean_skills'] = df_test.key_skills.progress_apply(clean_text)\n",
    "\n",
    "    df_test[['clean_text',\n",
    "              'clean_name',\n",
    "              'clean_skills']].to_csv('test_cleaned_text_cols.csv', index=False) # Сохраняем\n",
    "    \n",
    "else: # При повторном проходе можно сэкономить ваше бесценное время\n",
    "    df_test_clean_text_cols = pd.read_csv('../input/2nd-step-cleaned-text/test_cleaned_text_cols.csv')\n",
    "    df_test = pd.concat([df_test, df_test_clean_text_cols], axis=1)"
   ]
  },
  {
   "cell_type": "code",
   "execution_count": 33,
   "id": "18f006fe",
   "metadata": {
    "execution": {
     "iopub.execute_input": "2023-03-29T08:30:41.614732Z",
     "iopub.status.busy": "2023-03-29T08:30:41.613823Z",
     "iopub.status.idle": "2023-03-29T08:30:42.950871Z",
     "shell.execute_reply": "2023-03-29T08:30:42.949822Z"
    },
    "papermill": {
     "duration": 1.357029,
     "end_time": "2023-03-29T08:30:42.954263",
     "exception": false,
     "start_time": "2023-03-29T08:30:41.597234",
     "status": "completed"
    },
    "tags": []
   },
   "outputs": [],
   "source": [
    "find_numbers(df_test, 'description')\n",
    "df_test[['av_num', 'max_num', 'min_num']] = df_test['found_numbers'].apply(avg_max_func)\n",
    "df_test['key_skills_list'] = df_test['key_skills'].apply(literal_eval)\n",
    "df_test['num_skills'] = df_test['key_skills_list'].apply(len)\n",
    "df_test['perc'] = df_test['description'].str.contains('процент').apply(int)\n",
    "df_test['%'] = df_test['description'].str.contains('%').apply(int)\n",
    "df_test['1s_text'] = df_test['description'].str.contains(r'1\\s*[CcСс][^\\S\\n]*').apply(int)\n",
    "df_test['1s_skills'] = df_test['key_skills'].str.contains(r'1\\s*[CcСс][^\\S\\n]*').apply(int)\n",
    "df_test['en_text'] = df_test['description'].str.contains(r'[A-Za-z]').apply(int)\n",
    "df_test['en_skills'] = df_test['key_skills'].str.contains(r'[A-Za-z]').apply(int)\n",
    "df_test['clean_skills'] = df_test['clean_skills'].fillna('')"
   ]
  },
  {
   "cell_type": "code",
   "execution_count": 34,
   "id": "7c349d27",
   "metadata": {
    "execution": {
     "iopub.execute_input": "2023-03-29T08:30:43.006734Z",
     "iopub.status.busy": "2023-03-29T08:30:43.006252Z",
     "iopub.status.idle": "2023-03-29T08:31:03.124828Z",
     "shell.execute_reply": "2023-03-29T08:31:03.123702Z"
    },
    "papermill": {
     "duration": 20.146679,
     "end_time": "2023-03-29T08:31:03.127096",
     "exception": false,
     "start_time": "2023-03-29T08:30:42.980417",
     "status": "completed"
    },
    "tags": []
   },
   "outputs": [
    {
     "data": {
      "text/plain": [
       "((5543, 4357), (5543, 516698), (5543, 890609), (5543, 23))"
      ]
     },
     "execution_count": 34,
     "metadata": {},
     "output_type": "execute_result"
    }
   ],
   "source": [
    "X_test_mlb = mlb.transform(df_test['key_skills_list'])\n",
    "X_test_tfidf_words = tfidf_words.transform(df_test['clean_text'])\n",
    "X_test_tfidf_chars = tfidf_chars.transform(df_test['text'])\n",
    "X_test_proc = preprocessor.transform(df_test)\n",
    "X_test_mlb.shape, X_test_tfidf_words.shape, X_test_tfidf_chars.shape, X_test_proc.shape"
   ]
  },
  {
   "cell_type": "code",
   "execution_count": 35,
   "id": "916f5eae",
   "metadata": {
    "execution": {
     "iopub.execute_input": "2023-03-29T08:31:03.160318Z",
     "iopub.status.busy": "2023-03-29T08:31:03.160003Z",
     "iopub.status.idle": "2023-03-29T08:31:04.437409Z",
     "shell.execute_reply": "2023-03-29T08:31:04.436325Z"
    },
    "papermill": {
     "duration": 1.296764,
     "end_time": "2023-03-29T08:31:04.439940",
     "exception": false,
     "start_time": "2023-03-29T08:31:03.143176",
     "status": "completed"
    },
    "tags": []
   },
   "outputs": [],
   "source": [
    "X_test = hstack([\n",
    "    X_test_tfidf_words,\n",
    "    X_test_tfidf_chars,\n",
    "    X_test_mlb,\n",
    "    X_test_proc\n",
    "]).tocsr()"
   ]
  },
  {
   "cell_type": "code",
   "execution_count": 36,
   "id": "6a3d75c2",
   "metadata": {
    "execution": {
     "iopub.execute_input": "2023-03-29T08:31:04.472923Z",
     "iopub.status.busy": "2023-03-29T08:31:04.472579Z",
     "iopub.status.idle": "2023-03-29T08:31:04.510688Z",
     "shell.execute_reply": "2023-03-29T08:31:04.509727Z"
    },
    "papermill": {
     "duration": 0.056758,
     "end_time": "2023-03-29T08:31:04.512940",
     "exception": false,
     "start_time": "2023-03-29T08:31:04.456182",
     "status": "completed"
    },
    "tags": []
   },
   "outputs": [],
   "source": [
    "nan_rows = np.isnan(X_test.data)\n",
    "inf_rows = np.isinf(X_test.data)\n",
    "\n",
    "\n",
    "X_test.data[nan_rows] = 0\n",
    "X_test.data[inf_rows] = 0"
   ]
  },
  {
   "cell_type": "markdown",
   "id": "48d3997d",
   "metadata": {
    "papermill": {
     "duration": 0.015436,
     "end_time": "2023-03-29T08:31:04.543825",
     "exception": false,
     "start_time": "2023-03-29T08:31:04.528389",
     "status": "completed"
    },
    "tags": []
   },
   "source": [
    "## Making predictions"
   ]
  },
  {
   "cell_type": "code",
   "execution_count": 37,
   "id": "11bc13eb",
   "metadata": {
    "execution": {
     "iopub.execute_input": "2023-03-29T08:31:04.575701Z",
     "iopub.status.busy": "2023-03-29T08:31:04.575378Z",
     "iopub.status.idle": "2023-03-29T08:31:04.641609Z",
     "shell.execute_reply": "2023-03-29T08:31:04.640531Z"
    },
    "papermill": {
     "duration": 0.08514,
     "end_time": "2023-03-29T08:31:04.644275",
     "exception": false,
     "start_time": "2023-03-29T08:31:04.559135",
     "status": "completed"
    },
    "tags": []
   },
   "outputs": [],
   "source": [
    "pred = model.predict(X_test)"
   ]
  },
  {
   "cell_type": "code",
   "execution_count": 38,
   "id": "8f2f21f6",
   "metadata": {
    "execution": {
     "iopub.execute_input": "2023-03-29T08:31:04.677433Z",
     "iopub.status.busy": "2023-03-29T08:31:04.676536Z",
     "iopub.status.idle": "2023-03-29T08:31:05.378762Z",
     "shell.execute_reply": "2023-03-29T08:31:05.377798Z"
    },
    "papermill": {
     "duration": 0.721127,
     "end_time": "2023-03-29T08:31:05.381118",
     "exception": false,
     "start_time": "2023-03-29T08:31:04.659991",
     "status": "completed"
    },
    "tags": []
   },
   "outputs": [
    {
     "data": {
      "text/plain": [
       "<AxesSubplot:ylabel='Count'>"
      ]
     },
     "execution_count": 38,
     "metadata": {},
     "output_type": "execute_result"
    },
    {
     "data": {
      "image/png": "[encoded data removed]",
      "text/plain": [
       "<Figure size 1000x600 with 1 Axes>"
      ]
     },
     "metadata": {},
     "output_type": "display_data"
    }
   ],
   "source": [
    "sns.histplot(pred, bins=100)"
   ]
  },
  {
   "cell_type": "code",
   "execution_count": 39,
   "id": "14919f53",
   "metadata": {
    "execution": {
     "iopub.execute_input": "2023-03-29T08:31:05.414195Z",
     "iopub.status.busy": "2023-03-29T08:31:05.413887Z",
     "iopub.status.idle": "2023-03-29T08:31:05.432144Z",
     "shell.execute_reply": "2023-03-29T08:31:05.431214Z"
    },
    "papermill": {
     "duration": 0.037242,
     "end_time": "2023-03-29T08:31:05.434350",
     "exception": false,
     "start_time": "2023-03-29T08:31:05.397108",
     "status": "completed"
    },
    "tags": []
   },
   "outputs": [],
   "source": [
    "pred_to_csv(pred, \"ridge_tfidf\") # LB 0.51644"
   ]
  },
  {
   "cell_type": "markdown",
   "id": "95a76915",
   "metadata": {
    "papermill": {
     "duration": 0.015328,
     "end_time": "2023-03-29T08:31:05.466073",
     "exception": false,
     "start_time": "2023-03-29T08:31:05.450745",
     "status": "completed"
    },
    "tags": []
   },
   "source": [
    "# Catboost with text features<a id=\"section-four\">"
   ]
  },
  {
   "cell_type": "code",
   "execution_count": 40,
   "id": "ebd3c1b6",
   "metadata": {
    "execution": {
     "iopub.execute_input": "2023-03-29T08:31:05.500314Z",
     "iopub.status.busy": "2023-03-29T08:31:05.499631Z",
     "iopub.status.idle": "2023-03-29T08:31:15.007714Z",
     "shell.execute_reply": "2023-03-29T08:31:15.006314Z"
    },
    "papermill": {
     "duration": 9.528265,
     "end_time": "2023-03-29T08:31:15.009887",
     "exception": false,
     "start_time": "2023-03-29T08:31:05.481622",
     "status": "completed"
    },
    "tags": []
   },
   "outputs": [
    {
     "name": "stdout",
     "output_type": "stream",
     "text": [
      "\u001b[33mWARNING: Running pip as the 'root' user can result in broken permissions and conflicting behaviour with the system package manager. It is recommended to use a virtual environment instead: https://pip.pypa.io/warnings/venv\u001b[0m\u001b[33m\r\n",
      "\u001b[0mDone!\n"
     ]
    }
   ],
   "source": [
    "!pip install catboost -q\n",
    "print('Done!')"
   ]
  },
  {
   "cell_type": "code",
   "execution_count": 41,
   "id": "e8bee580",
   "metadata": {
    "execution": {
     "iopub.execute_input": "2023-03-29T08:31:15.044237Z",
     "iopub.status.busy": "2023-03-29T08:31:15.043876Z",
     "iopub.status.idle": "2023-03-29T08:31:15.323930Z",
     "shell.execute_reply": "2023-03-29T08:31:15.322706Z"
    },
    "papermill": {
     "duration": 0.300355,
     "end_time": "2023-03-29T08:31:15.326796",
     "exception": false,
     "start_time": "2023-03-29T08:31:15.026441",
     "status": "completed"
    },
    "tags": []
   },
   "outputs": [],
   "source": [
    "from catboost import Pool, CatBoostRegressor"
   ]
  },
  {
   "cell_type": "code",
   "execution_count": 42,
   "id": "18211487",
   "metadata": {
    "execution": {
     "iopub.execute_input": "2023-03-29T08:31:15.363749Z",
     "iopub.status.busy": "2023-03-29T08:31:15.362628Z",
     "iopub.status.idle": "2023-03-29T08:31:15.368950Z",
     "shell.execute_reply": "2023-03-29T08:31:15.367722Z"
    },
    "papermill": {
     "duration": 0.026082,
     "end_time": "2023-03-29T08:31:15.371108",
     "exception": false,
     "start_time": "2023-03-29T08:31:15.345026",
     "status": "completed"
    },
    "tags": []
   },
   "outputs": [],
   "source": [
    "text_features = [\n",
    "    'clean_name', \n",
    "    'text', \n",
    "    'clean_text', \n",
    "    'clean_skills'\n",
    "]\n",
    "\n",
    "features_to_drop_catboost = [\n",
    "    'key_skills_list',\n",
    "    'description',\n",
    "    'found_numbers',\n",
    "    'name',\n",
    "    'key_skills',                     \n",
    "    'key_skills_list'      \n",
    "]"
   ]
  },
  {
   "cell_type": "code",
   "execution_count": 43,
   "id": "025a6a62",
   "metadata": {
    "execution": {
     "iopub.execute_input": "2023-03-29T08:31:15.406705Z",
     "iopub.status.busy": "2023-03-29T08:31:15.405881Z",
     "iopub.status.idle": "2023-03-29T08:31:16.526545Z",
     "shell.execute_reply": "2023-03-29T08:31:16.525331Z"
    },
    "papermill": {
     "duration": 1.140943,
     "end_time": "2023-03-29T08:31:16.529638",
     "exception": false,
     "start_time": "2023-03-29T08:31:15.388695",
     "status": "completed"
    },
    "tags": []
   },
   "outputs": [],
   "source": [
    "df_train_mlb = pd.DataFrame(X_mlb, columns=mlb.classes_)\n",
    "\n",
    "# concatenate the new dataframe with the original dataframe\n",
    "df_train = pd.concat([df_train, df_train_mlb], axis=1)"
   ]
  },
  {
   "cell_type": "code",
   "execution_count": 44,
   "id": "2a6f6ce7",
   "metadata": {
    "execution": {
     "iopub.execute_input": "2023-03-29T08:31:16.566608Z",
     "iopub.status.busy": "2023-03-29T08:31:16.566263Z",
     "iopub.status.idle": "2023-03-29T08:31:17.525589Z",
     "shell.execute_reply": "2023-03-29T08:31:17.524433Z"
    },
    "papermill": {
     "duration": 0.980741,
     "end_time": "2023-03-29T08:31:17.528661",
     "exception": false,
     "start_time": "2023-03-29T08:31:16.547920",
     "status": "completed"
    },
    "tags": []
   },
   "outputs": [],
   "source": [
    "from sklearn.model_selection import train_test_split\n",
    "X_train_catboost, X_val_catboost, y_train_catboost, y_val_catboost = train_test_split(\n",
    "    df_train.drop(columns = ['salary'] + features_to_drop_catboost),\n",
    "    df_train['salary'], \n",
    "    train_size=0.95\n",
    "    )"
   ]
  },
  {
   "cell_type": "code",
   "execution_count": 45,
   "id": "eb45d608",
   "metadata": {
    "execution": {
     "iopub.execute_input": "2023-03-29T08:31:17.562973Z",
     "iopub.status.busy": "2023-03-29T08:31:17.562617Z",
     "iopub.status.idle": "2023-03-29T08:31:17.570338Z",
     "shell.execute_reply": "2023-03-29T08:31:17.569253Z"
    },
    "papermill": {
     "duration": 0.026846,
     "end_time": "2023-03-29T08:31:17.572499",
     "exception": false,
     "start_time": "2023-03-29T08:31:17.545653",
     "status": "completed"
    },
    "tags": []
   },
   "outputs": [],
   "source": [
    "cat = CatBoostRegressor(\n",
    "    use_best_model= True,\n",
    "    learning_rate=0.03,\n",
    "    task_type='GPU',\n",
    "    depth = 6,\n",
    "    iterations = 10000\n",
    "    )"
   ]
  },
  {
   "cell_type": "code",
   "execution_count": 46,
   "id": "55b2fe0c",
   "metadata": {
    "execution": {
     "iopub.execute_input": "2023-03-29T08:31:17.606432Z",
     "iopub.status.busy": "2023-03-29T08:31:17.606086Z",
     "iopub.status.idle": "2023-03-29T08:31:18.486489Z",
     "shell.execute_reply": "2023-03-29T08:31:18.485441Z"
    },
    "papermill": {
     "duration": 0.900819,
     "end_time": "2023-03-29T08:31:18.489320",
     "exception": false,
     "start_time": "2023-03-29T08:31:17.588501",
     "status": "completed"
    },
    "tags": []
   },
   "outputs": [],
   "source": [
    "train_pool = Pool(\n",
    "    X_train_catboost, y_train_catboost, \n",
    "    cat_features=categorical_features,\n",
    "    text_features=text_features,\n",
    ")\n",
    "\n",
    "validation_pool = Pool(\n",
    "    X_val_catboost, y_val_catboost, \n",
    "    cat_features=categorical_features,\n",
    "    text_features=text_features,\n",
    ")"
   ]
  },
  {
   "cell_type": "code",
   "execution_count": 47,
   "id": "8efa166b",
   "metadata": {
    "execution": {
     "iopub.execute_input": "2023-03-29T08:31:18.523222Z",
     "iopub.status.busy": "2023-03-29T08:31:18.522878Z",
     "iopub.status.idle": "2023-03-29T08:38:16.327384Z",
     "shell.execute_reply": "2023-03-29T08:38:16.326492Z"
    },
    "papermill": {
     "duration": 417.83757,
     "end_time": "2023-03-29T08:38:16.343562",
     "exception": false,
     "start_time": "2023-03-29T08:31:18.505992",
     "status": "completed"
    },
    "tags": []
   },
   "outputs": [
    {
     "name": "stdout",
     "output_type": "stream",
     "text": [
      "0:\tlearn: 34034.5817317\ttest: 34890.6575108\tbest: 34890.6575108 (0)\ttotal: 46.1ms\tremaining: 7m 40s\n",
      "200:\tlearn: 25695.6328220\ttest: 28324.7168606\tbest: 28324.7168606 (200)\ttotal: 7.78s\tremaining: 6m 19s\n",
      "400:\tlearn: 24340.1135046\ttest: 27688.5471908\tbest: 27688.5471908 (400)\ttotal: 15s\tremaining: 5m 58s\n",
      "600:\tlearn: 23544.5350773\ttest: 27399.4324927\tbest: 27391.9266714 (597)\ttotal: 21.6s\tremaining: 5m 38s\n",
      "800:\tlearn: 23032.2253980\ttest: 27267.6602816\tbest: 27261.0442601 (794)\ttotal: 28s\tremaining: 5m 21s\n",
      "1000:\tlearn: 22729.3060651\ttest: 27193.3675172\tbest: 27192.8200478 (999)\ttotal: 34.4s\tremaining: 5m 9s\n",
      "1200:\tlearn: 22360.8288119\ttest: 27117.0848445\tbest: 27111.3603665 (1188)\ttotal: 40.9s\tremaining: 4m 59s\n",
      "1400:\tlearn: 22022.3392491\ttest: 27037.6417725\tbest: 27037.5368928 (1397)\ttotal: 48.2s\tremaining: 4m 55s\n",
      "1600:\tlearn: 21697.4513035\ttest: 26998.7545240\tbest: 26996.1709422 (1579)\ttotal: 54.8s\tremaining: 4m 47s\n",
      "1800:\tlearn: 21427.9631283\ttest: 26968.7151401\tbest: 26968.4522701 (1791)\ttotal: 1m 1s\tremaining: 4m 38s\n",
      "2000:\tlearn: 21191.4091412\ttest: 26904.1591066\tbest: 26904.1591066 (2000)\ttotal: 1m 7s\tremaining: 4m 31s\n",
      "2200:\tlearn: 21011.4191711\ttest: 26919.0514863\tbest: 26903.1285112 (2005)\ttotal: 1m 15s\tremaining: 4m 26s\n",
      "2400:\tlearn: 20816.2281178\ttest: 26947.5605175\tbest: 26903.1285112 (2005)\ttotal: 1m 21s\tremaining: 4m 17s\n",
      "2600:\tlearn: 20656.4578642\ttest: 26956.1879980\tbest: 26903.1285112 (2005)\ttotal: 1m 27s\tremaining: 4m 9s\n",
      "2800:\tlearn: 20511.9519820\ttest: 26917.8897790\tbest: 26903.1285112 (2005)\ttotal: 1m 33s\tremaining: 4m 1s\n",
      "3000:\tlearn: 20401.4596295\ttest: 26908.5240598\tbest: 26903.1285112 (2005)\ttotal: 1m 40s\tremaining: 3m 53s\n",
      "3200:\tlearn: 20288.4141015\ttest: 26903.3188230\tbest: 26898.7187570 (3185)\ttotal: 1m 47s\tremaining: 3m 48s\n",
      "3400:\tlearn: 20187.1081307\ttest: 26903.5530510\tbest: 26898.7187570 (3185)\ttotal: 1m 53s\tremaining: 3m 40s\n",
      "3600:\tlearn: 20073.5242643\ttest: 26898.8417480\tbest: 26894.1676949 (3597)\ttotal: 2m\tremaining: 3m 33s\n",
      "3800:\tlearn: 19959.8128271\ttest: 26878.2299784\tbest: 26876.4334630 (3768)\ttotal: 2m 6s\tremaining: 3m 26s\n",
      "4000:\tlearn: 19887.4923733\ttest: 26878.0878441\tbest: 26866.8729851 (3872)\ttotal: 2m 12s\tremaining: 3m 19s\n",
      "4200:\tlearn: 19814.2681228\ttest: 26856.2605794\tbest: 26852.8536916 (4192)\ttotal: 2m 19s\tremaining: 3m 13s\n",
      "4400:\tlearn: 19714.5383294\ttest: 26845.5192766\tbest: 26840.1316058 (4282)\ttotal: 2m 26s\tremaining: 3m 5s\n",
      "4600:\tlearn: 19599.8965199\ttest: 26853.3479592\tbest: 26838.3486824 (4479)\ttotal: 2m 32s\tremaining: 2m 58s\n",
      "4800:\tlearn: 19532.6813854\ttest: 26844.1167083\tbest: 26838.3486824 (4479)\ttotal: 2m 38s\tremaining: 2m 51s\n",
      "5000:\tlearn: 19459.2050348\ttest: 26835.2873542\tbest: 26831.7735874 (4935)\ttotal: 2m 45s\tremaining: 2m 45s\n",
      "5200:\tlearn: 19397.2846282\ttest: 26828.9610682\tbest: 26821.2383354 (5082)\ttotal: 2m 52s\tremaining: 2m 38s\n",
      "5400:\tlearn: 19309.9347263\ttest: 26813.7351715\tbest: 26812.5600878 (5371)\ttotal: 2m 58s\tremaining: 2m 31s\n",
      "5600:\tlearn: 19223.6468153\ttest: 26807.7887190\tbest: 26803.7805829 (5537)\ttotal: 3m 4s\tremaining: 2m 25s\n",
      "5800:\tlearn: 19148.2671487\ttest: 26822.1854441\tbest: 26803.7805829 (5537)\ttotal: 3m 10s\tremaining: 2m 18s\n",
      "6000:\tlearn: 19095.2336912\ttest: 26820.6685857\tbest: 26803.7805829 (5537)\ttotal: 3m 17s\tremaining: 2m 11s\n",
      "6200:\tlearn: 19039.5355658\ttest: 26830.0341466\tbest: 26803.7805829 (5537)\ttotal: 3m 24s\tremaining: 2m 5s\n",
      "6400:\tlearn: 18976.0516690\ttest: 26835.9169656\tbest: 26803.7805829 (5537)\ttotal: 3m 30s\tremaining: 1m 58s\n",
      "6600:\tlearn: 18896.6638433\ttest: 26856.0406040\tbest: 26803.7805829 (5537)\ttotal: 3m 37s\tremaining: 1m 51s\n",
      "6800:\tlearn: 18805.7544667\ttest: 26858.8106959\tbest: 26803.7805829 (5537)\ttotal: 3m 43s\tremaining: 1m 45s\n",
      "7000:\tlearn: 18733.1944080\ttest: 26872.1043349\tbest: 26803.7805829 (5537)\ttotal: 3m 50s\tremaining: 1m 38s\n",
      "7200:\tlearn: 18681.1207849\ttest: 26868.9178620\tbest: 26803.7805829 (5537)\ttotal: 3m 56s\tremaining: 1m 32s\n",
      "7400:\tlearn: 18622.6275613\ttest: 26868.8416400\tbest: 26803.7805829 (5537)\ttotal: 4m 3s\tremaining: 1m 25s\n",
      "7600:\tlearn: 18569.7184458\ttest: 26870.8189449\tbest: 26803.7805829 (5537)\ttotal: 4m 9s\tremaining: 1m 18s\n",
      "7800:\tlearn: 18497.6930091\ttest: 26850.4100871\tbest: 26803.7805829 (5537)\ttotal: 4m 15s\tremaining: 1m 12s\n",
      "8000:\tlearn: 18433.8518479\ttest: 26865.9377136\tbest: 26803.7805829 (5537)\ttotal: 4m 22s\tremaining: 1m 5s\n",
      "8200:\tlearn: 18361.5320540\ttest: 26875.1145744\tbest: 26803.7805829 (5537)\ttotal: 4m 29s\tremaining: 59s\n",
      "8400:\tlearn: 18320.3690432\ttest: 26879.8446882\tbest: 26803.7805829 (5537)\ttotal: 4m 35s\tremaining: 52.4s\n",
      "8600:\tlearn: 18273.7989664\ttest: 26877.8724433\tbest: 26803.7805829 (5537)\ttotal: 4m 41s\tremaining: 45.8s\n",
      "8800:\tlearn: 18222.1437315\ttest: 26897.6000988\tbest: 26803.7805829 (5537)\ttotal: 4m 47s\tremaining: 39.2s\n",
      "9000:\tlearn: 18173.1917619\ttest: 26888.9772555\tbest: 26803.7805829 (5537)\ttotal: 4m 55s\tremaining: 32.8s\n",
      "9200:\tlearn: 18122.5747876\ttest: 26895.1737392\tbest: 26803.7805829 (5537)\ttotal: 5m 1s\tremaining: 26.2s\n",
      "9400:\tlearn: 18083.5869977\ttest: 26899.4098420\tbest: 26803.7805829 (5537)\ttotal: 5m 7s\tremaining: 19.6s\n",
      "9600:\tlearn: 18055.6015593\ttest: 26902.3555388\tbest: 26803.7805829 (5537)\ttotal: 5m 13s\tremaining: 13s\n",
      "9800:\tlearn: 18023.9537931\ttest: 26907.8595553\tbest: 26803.7805829 (5537)\ttotal: 5m 20s\tremaining: 6.5s\n",
      "9999:\tlearn: 17985.6001534\ttest: 26906.0064670\tbest: 26803.7805829 (5537)\ttotal: 5m 27s\tremaining: 0us\n",
      "bestTest = 26803.78058\n",
      "bestIteration = 5537\n",
      "Shrink model to first 5538 iterations.\n"
     ]
    },
    {
     "data": {
      "text/plain": [
       "<catboost.core.CatBoostRegressor at 0x7f8ceeb00510>"
      ]
     },
     "execution_count": 47,
     "metadata": {},
     "output_type": "execute_result"
    }
   ],
   "source": [
    "cat.fit(\n",
    "    train_pool, \n",
    "    eval_set = validation_pool,\n",
    "    verbose = 200\n",
    ") "
   ]
  },
  {
   "cell_type": "code",
   "execution_count": 48,
   "id": "3f6fc739",
   "metadata": {
    "execution": {
     "iopub.execute_input": "2023-03-29T08:38:16.395150Z",
     "iopub.status.busy": "2023-03-29T08:38:16.394847Z",
     "iopub.status.idle": "2023-03-29T08:38:16.683713Z",
     "shell.execute_reply": "2023-03-29T08:38:16.682742Z"
    },
    "papermill": {
     "duration": 0.317766,
     "end_time": "2023-03-29T08:38:16.686384",
     "exception": false,
     "start_time": "2023-03-29T08:38:16.368618",
     "status": "completed"
    },
    "tags": []
   },
   "outputs": [],
   "source": [
    "df_test_mlb = pd.DataFrame(X_test_mlb, columns=mlb.classes_)\n",
    "\n",
    "# concatenate the new dataframe with the original dataframe\n",
    "df_test = pd.concat([df_test, df_test_mlb], axis=1)"
   ]
  },
  {
   "cell_type": "code",
   "execution_count": 49,
   "id": "a1e3c1f0",
   "metadata": {
    "execution": {
     "iopub.execute_input": "2023-03-29T08:38:16.737957Z",
     "iopub.status.busy": "2023-03-29T08:38:16.737592Z",
     "iopub.status.idle": "2023-03-29T08:38:17.300564Z",
     "shell.execute_reply": "2023-03-29T08:38:17.299517Z"
    },
    "papermill": {
     "duration": 0.591937,
     "end_time": "2023-03-29T08:38:17.303247",
     "exception": false,
     "start_time": "2023-03-29T08:38:16.711310",
     "status": "completed"
    },
    "tags": []
   },
   "outputs": [],
   "source": [
    "test_pool = Pool(\n",
    "    df_test.drop(columns = features_to_drop_catboost),\n",
    "    cat_features=categorical_features,\n",
    "    text_features=text_features,\n",
    ")"
   ]
  },
  {
   "cell_type": "code",
   "execution_count": 50,
   "id": "06e060b9",
   "metadata": {
    "execution": {
     "iopub.execute_input": "2023-03-29T08:38:17.342775Z",
     "iopub.status.busy": "2023-03-29T08:38:17.342452Z",
     "iopub.status.idle": "2023-03-29T08:38:17.407887Z",
     "shell.execute_reply": "2023-03-29T08:38:17.406718Z"
    },
    "papermill": {
     "duration": 0.087629,
     "end_time": "2023-03-29T08:38:17.410194",
     "exception": false,
     "start_time": "2023-03-29T08:38:17.322565",
     "status": "completed"
    },
    "tags": []
   },
   "outputs": [
    {
     "data": {
      "text/plain": [
       "(5543, 4374)"
      ]
     },
     "execution_count": 50,
     "metadata": {},
     "output_type": "execute_result"
    }
   ],
   "source": [
    "df_test.drop(columns = features_to_drop_catboost).shape"
   ]
  },
  {
   "cell_type": "code",
   "execution_count": 51,
   "id": "d1466723",
   "metadata": {
    "execution": {
     "iopub.execute_input": "2023-03-29T08:38:17.448803Z",
     "iopub.status.busy": "2023-03-29T08:38:17.448480Z",
     "iopub.status.idle": "2023-03-29T08:38:17.626281Z",
     "shell.execute_reply": "2023-03-29T08:38:17.625303Z"
    },
    "papermill": {
     "duration": 0.199597,
     "end_time": "2023-03-29T08:38:17.628624",
     "exception": false,
     "start_time": "2023-03-29T08:38:17.429027",
     "status": "completed"
    },
    "tags": []
   },
   "outputs": [
    {
     "data": {
      "text/plain": [
       "(16629, 4375)"
      ]
     },
     "execution_count": 51,
     "metadata": {},
     "output_type": "execute_result"
    }
   ],
   "source": [
    "df_train.drop(columns = features_to_drop_catboost).shape"
   ]
  },
  {
   "cell_type": "markdown",
   "id": "7f52d0ca",
   "metadata": {
    "papermill": {
     "duration": 0.018418,
     "end_time": "2023-03-29T08:38:17.666472",
     "exception": false,
     "start_time": "2023-03-29T08:38:17.648054",
     "status": "completed"
    },
    "tags": []
   },
   "source": [
    "## Making a submission"
   ]
  },
  {
   "cell_type": "code",
   "execution_count": 52,
   "id": "847a7117",
   "metadata": {
    "execution": {
     "iopub.execute_input": "2023-03-29T08:38:17.704646Z",
     "iopub.status.busy": "2023-03-29T08:38:17.704339Z",
     "iopub.status.idle": "2023-03-29T08:38:18.085918Z",
     "shell.execute_reply": "2023-03-29T08:38:18.084837Z"
    },
    "papermill": {
     "duration": 0.403708,
     "end_time": "2023-03-29T08:38:18.088670",
     "exception": false,
     "start_time": "2023-03-29T08:38:17.684962",
     "status": "completed"
    },
    "tags": []
   },
   "outputs": [],
   "source": [
    "pred_catboost = cat.predict(test_pool)"
   ]
  },
  {
   "cell_type": "code",
   "execution_count": 53,
   "id": "e6c55634",
   "metadata": {
    "execution": {
     "iopub.execute_input": "2023-03-29T08:38:18.128968Z",
     "iopub.status.busy": "2023-03-29T08:38:18.128626Z",
     "iopub.status.idle": "2023-03-29T08:38:18.147164Z",
     "shell.execute_reply": "2023-03-29T08:38:18.146112Z"
    },
    "papermill": {
     "duration": 0.040693,
     "end_time": "2023-03-29T08:38:18.149537",
     "exception": false,
     "start_time": "2023-03-29T08:38:18.108844",
     "status": "completed"
    },
    "tags": []
   },
   "outputs": [],
   "source": [
    "pred_to_csv(pred_catboost, \"catboost\") # LB 0.49764"
   ]
  },
  {
   "cell_type": "code",
   "execution_count": 54,
   "id": "91816597",
   "metadata": {
    "execution": {
     "iopub.execute_input": "2023-03-29T08:38:18.188401Z",
     "iopub.status.busy": "2023-03-29T08:38:18.188124Z",
     "iopub.status.idle": "2023-03-29T08:38:18.652746Z",
     "shell.execute_reply": "2023-03-29T08:38:18.651733Z"
    },
    "papermill": {
     "duration": 0.486608,
     "end_time": "2023-03-29T08:38:18.655087",
     "exception": false,
     "start_time": "2023-03-29T08:38:18.168479",
     "status": "completed"
    },
    "tags": []
   },
   "outputs": [
    {
     "data": {
      "image/png": "[encoded data removed]",
      "text/plain": [
       "<Figure size 800x800 with 1 Axes>"
      ]
     },
     "metadata": {},
     "output_type": "display_data"
    }
   ],
   "source": [
    "CAT_FI = cat.get_feature_importance()\n",
    "feat_dict = {}\n",
    "for col, val in sorted(zip(df_test.drop(\n",
    "        columns=features_to_drop_catboost).columns, CAT_FI),\n",
    "        key=lambda x: x[1], reverse=True):\n",
    "    feat_dict[col] = val\n",
    "\n",
    "feat_df = pd.DataFrame(\n",
    "    {'Feature': feat_dict.keys(), 'Importance': feat_dict.values()})[:25]\n",
    "\n",
    "\n",
    "values = feat_df.Importance\n",
    "plt.rcParams[\"figure.figsize\"] = (8, 8)\n",
    "idx = feat_df.Feature\n",
    "fig, ax = plt.subplots()\n",
    "sns.barplot(y=idx, x=values).set(title='Feature Importance')\n",
    "ax.set(xlabel='', ylabel='')\n",
    "plt.show()"
   ]
  },
  {
   "cell_type": "code",
   "execution_count": null,
   "id": "a5da809b",
   "metadata": {
    "papermill": {
     "duration": 0.01907,
     "end_time": "2023-03-29T08:38:18.694219",
     "exception": false,
     "start_time": "2023-03-29T08:38:18.675149",
     "status": "completed"
    },
    "tags": []
   },
   "outputs": [],
   "source": []
  },
  {
   "cell_type": "code",
   "execution_count": null,
   "id": "6fff7cc2",
   "metadata": {
    "papermill": {
     "duration": 0.018959,
     "end_time": "2023-03-29T08:38:18.732341",
     "exception": false,
     "start_time": "2023-03-29T08:38:18.713382",
     "status": "completed"
    },
    "tags": []
   },
   "outputs": [],
   "source": []
  }
 ],
 "metadata": {
  "kernelspec": {
   "display_name": "Python 3",
   "language": "python",
   "name": "python3"
  },
  "language_info": {
   "codemirror_mode": {
    "name": "ipython",
    "version": 3
   },
   "file_extension": ".py",
   "mimetype": "text/x-python",
   "name": "python",
   "nbconvert_exporter": "python",
   "pygments_lexer": "ipython3",
   "version": "3.7.12"
  },
  "papermill": {
   "default_parameters": {},
   "duration": 630.722576,
   "end_time": "2023-03-29T08:38:19.977601",
   "environment_variables": {},
   "exception": null,
   "input_path": "__notebook__.ipynb",
   "output_path": "__notebook__.ipynb",
   "parameters": {},
   "start_time": "2023-03-29T08:27:49.255025",
   "version": "2.4.0"
  }
 },
 "nbformat": 4,
 "nbformat_minor": 5
}
